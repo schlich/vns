{
 "cells": [
  {
   "cell_type": "code",
   "execution_count": 4,
   "metadata": {},
   "outputs": [
    {
     "data": {
      "application/javascript": "(function(root) {\n  function now() {\n    return new Date();\n  }\n\n  var force = true;\n  var py_version = '3.4.0'.replace('rc', '-rc.').replace('.dev', '-dev.');\n  var reloading = false;\n  var Bokeh = root.Bokeh;\n\n  if (typeof (root._bokeh_timeout) === \"undefined\" || force) {\n    root._bokeh_timeout = Date.now() + 5000;\n    root._bokeh_failed_load = false;\n  }\n\n  function run_callbacks() {\n    try {\n      root._bokeh_onload_callbacks.forEach(function(callback) {\n        if (callback != null)\n          callback();\n      });\n    } finally {\n      delete root._bokeh_onload_callbacks;\n    }\n    console.debug(\"Bokeh: all callbacks have finished\");\n  }\n\n  function load_libs(css_urls, js_urls, js_modules, js_exports, callback) {\n    if (css_urls == null) css_urls = [];\n    if (js_urls == null) js_urls = [];\n    if (js_modules == null) js_modules = [];\n    if (js_exports == null) js_exports = {};\n\n    root._bokeh_onload_callbacks.push(callback);\n\n    if (root._bokeh_is_loading > 0) {\n      console.debug(\"Bokeh: BokehJS is being loaded, scheduling callback at\", now());\n      return null;\n    }\n    if (js_urls.length === 0 && js_modules.length === 0 && Object.keys(js_exports).length === 0) {\n      run_callbacks();\n      return null;\n    }\n    if (!reloading) {\n      console.debug(\"Bokeh: BokehJS not loaded, scheduling load and callback at\", now());\n    }\n\n    function on_load() {\n      root._bokeh_is_loading--;\n      if (root._bokeh_is_loading === 0) {\n        console.debug(\"Bokeh: all BokehJS libraries/stylesheets loaded\");\n        run_callbacks()\n      }\n    }\n    window._bokeh_on_load = on_load\n\n    function on_error() {\n      console.error(\"failed to load \" + url);\n    }\n\n    var skip = [];\n    if (window.requirejs) {\n      window.requirejs.config({'packages': {}, 'paths': {}, 'shim': {}});\n      root._bokeh_is_loading = css_urls.length + 0;\n    } else {\n      root._bokeh_is_loading = css_urls.length + js_urls.length + js_modules.length + Object.keys(js_exports).length;\n    }\n\n    var existing_stylesheets = []\n    var links = document.getElementsByTagName('link')\n    for (var i = 0; i < links.length; i++) {\n      var link = links[i]\n      if (link.href != null) {\n\texisting_stylesheets.push(link.href)\n      }\n    }\n    for (var i = 0; i < css_urls.length; i++) {\n      var url = css_urls[i];\n      if (existing_stylesheets.indexOf(url) !== -1) {\n\ton_load()\n\tcontinue;\n      }\n      const element = document.createElement(\"link\");\n      element.onload = on_load;\n      element.onerror = on_error;\n      element.rel = \"stylesheet\";\n      element.type = \"text/css\";\n      element.href = url;\n      console.debug(\"Bokeh: injecting link tag for BokehJS stylesheet: \", url);\n      document.body.appendChild(element);\n    }    var existing_scripts = []\n    var scripts = document.getElementsByTagName('script')\n    for (var i = 0; i < scripts.length; i++) {\n      var script = scripts[i]\n      if (script.src != null) {\n\texisting_scripts.push(script.src)\n      }\n    }\n    for (var i = 0; i < js_urls.length; i++) {\n      var url = js_urls[i];\n      if (skip.indexOf(url) !== -1 || existing_scripts.indexOf(url) !== -1) {\n\tif (!window.requirejs) {\n\t  on_load();\n\t}\n\tcontinue;\n      }\n      var element = document.createElement('script');\n      element.onload = on_load;\n      element.onerror = on_error;\n      element.async = false;\n      element.src = url;\n      console.debug(\"Bokeh: injecting script tag for BokehJS library: \", url);\n      document.head.appendChild(element);\n    }\n    for (var i = 0; i < js_modules.length; i++) {\n      var url = js_modules[i];\n      if (skip.indexOf(url) !== -1 || existing_scripts.indexOf(url) !== -1) {\n\tif (!window.requirejs) {\n\t  on_load();\n\t}\n\tcontinue;\n      }\n      var element = document.createElement('script');\n      element.onload = on_load;\n      element.onerror = on_error;\n      element.async = false;\n      element.src = url;\n      element.type = \"module\";\n      console.debug(\"Bokeh: injecting script tag for BokehJS library: \", url);\n      document.head.appendChild(element);\n    }\n    for (const name in js_exports) {\n      var url = js_exports[name];\n      if (skip.indexOf(url) >= 0 || root[name] != null) {\n\tif (!window.requirejs) {\n\t  on_load();\n\t}\n\tcontinue;\n      }\n      var element = document.createElement('script');\n      element.onerror = on_error;\n      element.async = false;\n      element.type = \"module\";\n      console.debug(\"Bokeh: injecting script tag for BokehJS library: \", url);\n      element.textContent = `\n      import ${name} from \"${url}\"\n      window.${name} = ${name}\n      window._bokeh_on_load()\n      `\n      document.head.appendChild(element);\n    }\n    if (!js_urls.length && !js_modules.length) {\n      on_load()\n    }\n  };\n\n  function inject_raw_css(css) {\n    const element = document.createElement(\"style\");\n    element.appendChild(document.createTextNode(css));\n    document.body.appendChild(element);\n  }\n\n  var js_urls = [\"https://cdn.bokeh.org/bokeh/release/bokeh-3.4.0.min.js\", \"https://cdn.bokeh.org/bokeh/release/bokeh-gl-3.4.0.min.js\", \"https://cdn.bokeh.org/bokeh/release/bokeh-widgets-3.4.0.min.js\", \"https://cdn.bokeh.org/bokeh/release/bokeh-tables-3.4.0.min.js\", \"https://cdn.holoviz.org/panel/1.4.0/dist/panel.min.js\"];\n  var js_modules = [];\n  var js_exports = {};\n  var css_urls = [];\n  var inline_js = [    function(Bokeh) {\n      Bokeh.set_log_level(\"info\");\n    },\nfunction(Bokeh) {} // ensure no trailing comma for IE\n  ];\n\n  function run_inline_js() {\n    if ((root.Bokeh !== undefined) || (force === true)) {\n      for (var i = 0; i < inline_js.length; i++) {\n\ttry {\n          inline_js[i].call(root, root.Bokeh);\n\t} catch(e) {\n\t  if (!reloading) {\n\t    throw e;\n\t  }\n\t}\n      }\n      // Cache old bokeh versions\n      if (Bokeh != undefined && !reloading) {\n\tvar NewBokeh = root.Bokeh;\n\tif (Bokeh.versions === undefined) {\n\t  Bokeh.versions = new Map();\n\t}\n\tif (NewBokeh.version !== Bokeh.version) {\n\t  Bokeh.versions.set(NewBokeh.version, NewBokeh)\n\t}\n\troot.Bokeh = Bokeh;\n      }} else if (Date.now() < root._bokeh_timeout) {\n      setTimeout(run_inline_js, 100);\n    } else if (!root._bokeh_failed_load) {\n      console.log(\"Bokeh: BokehJS failed to load within specified timeout.\");\n      root._bokeh_failed_load = true;\n    }\n    root._bokeh_is_initializing = false\n  }\n\n  function load_or_wait() {\n    // Implement a backoff loop that tries to ensure we do not load multiple\n    // versions of Bokeh and its dependencies at the same time.\n    // In recent versions we use the root._bokeh_is_initializing flag\n    // to determine whether there is an ongoing attempt to initialize\n    // bokeh, however for backward compatibility we also try to ensure\n    // that we do not start loading a newer (Panel>=1.0 and Bokeh>3) version\n    // before older versions are fully initialized.\n    if (root._bokeh_is_initializing && Date.now() > root._bokeh_timeout) {\n      root._bokeh_is_initializing = false;\n      root._bokeh_onload_callbacks = undefined;\n      console.log(\"Bokeh: BokehJS was loaded multiple times but one version failed to initialize.\");\n      load_or_wait();\n    } else if (root._bokeh_is_initializing || (typeof root._bokeh_is_initializing === \"undefined\" && root._bokeh_onload_callbacks !== undefined)) {\n      setTimeout(load_or_wait, 100);\n    } else {\n      root._bokeh_is_initializing = true\n      root._bokeh_onload_callbacks = []\n      var bokeh_loaded = Bokeh != null && (Bokeh.version === py_version || (Bokeh.versions !== undefined && Bokeh.versions.has(py_version)));\n      if (!reloading && !bokeh_loaded) {\n\troot.Bokeh = undefined;\n      }\n      load_libs(css_urls, js_urls, js_modules, js_exports, function() {\n\tconsole.debug(\"Bokeh: BokehJS plotting callback run at\", now());\n\trun_inline_js();\n      });\n    }\n  }\n  // Give older versions of the autoload script a head-start to ensure\n  // they initialize before we start loading newer version.\n  setTimeout(load_or_wait, 100)\n}(window));",
      "application/vnd.holoviews_load.v0+json": ""
     },
     "metadata": {},
     "output_type": "display_data"
    },
    {
     "data": {
      "application/javascript": "\nif ((window.PyViz === undefined) || (window.PyViz instanceof HTMLElement)) {\n  window.PyViz = {comms: {}, comm_status:{}, kernels:{}, receivers: {}, plot_index: []}\n}\n\n\n    function JupyterCommManager() {\n    }\n\n    JupyterCommManager.prototype.register_target = function(plot_id, comm_id, msg_handler) {\n      if (window.comm_manager || ((window.Jupyter !== undefined) && (Jupyter.notebook.kernel != null))) {\n        var comm_manager = window.comm_manager || Jupyter.notebook.kernel.comm_manager;\n        comm_manager.register_target(comm_id, function(comm) {\n          comm.on_msg(msg_handler);\n        });\n      } else if ((plot_id in window.PyViz.kernels) && (window.PyViz.kernels[plot_id])) {\n        window.PyViz.kernels[plot_id].registerCommTarget(comm_id, function(comm) {\n          comm.onMsg = msg_handler;\n        });\n      } else if (typeof google != 'undefined' && google.colab.kernel != null) {\n        google.colab.kernel.comms.registerTarget(comm_id, (comm) => {\n          var messages = comm.messages[Symbol.asyncIterator]();\n          function processIteratorResult(result) {\n            var message = result.value;\n            console.log(message)\n            var content = {data: message.data, comm_id};\n            var buffers = []\n            for (var buffer of message.buffers || []) {\n              buffers.push(new DataView(buffer))\n            }\n            var metadata = message.metadata || {};\n            var msg = {content, buffers, metadata}\n            msg_handler(msg);\n            return messages.next().then(processIteratorResult);\n          }\n          return messages.next().then(processIteratorResult);\n        })\n      }\n    }\n\n    JupyterCommManager.prototype.get_client_comm = function(plot_id, comm_id, msg_handler) {\n      if (comm_id in window.PyViz.comms) {\n        return window.PyViz.comms[comm_id];\n      } else if (window.comm_manager || ((window.Jupyter !== undefined) && (Jupyter.notebook.kernel != null))) {\n        var comm_manager = window.comm_manager || Jupyter.notebook.kernel.comm_manager;\n        var comm = comm_manager.new_comm(comm_id, {}, {}, {}, comm_id);\n        if (msg_handler) {\n          comm.on_msg(msg_handler);\n        }\n      } else if ((plot_id in window.PyViz.kernels) && (window.PyViz.kernels[plot_id])) {\n        var comm = window.PyViz.kernels[plot_id].connectToComm(comm_id);\n        comm.open();\n        if (msg_handler) {\n          comm.onMsg = msg_handler;\n        }\n      } else if (typeof google != 'undefined' && google.colab.kernel != null) {\n        var comm_promise = google.colab.kernel.comms.open(comm_id)\n        comm_promise.then((comm) => {\n          window.PyViz.comms[comm_id] = comm;\n          if (msg_handler) {\n            var messages = comm.messages[Symbol.asyncIterator]();\n            function processIteratorResult(result) {\n              var message = result.value;\n              var content = {data: message.data};\n              var metadata = message.metadata || {comm_id};\n              var msg = {content, metadata}\n              msg_handler(msg);\n              return messages.next().then(processIteratorResult);\n            }\n            return messages.next().then(processIteratorResult);\n          }\n        }) \n        var sendClosure = (data, metadata, buffers, disposeOnDone) => {\n          return comm_promise.then((comm) => {\n            comm.send(data, metadata, buffers, disposeOnDone);\n          });\n        };\n        var comm = {\n          send: sendClosure\n        };\n      }\n      window.PyViz.comms[comm_id] = comm;\n      return comm;\n    }\n    window.PyViz.comm_manager = new JupyterCommManager();\n    \n\n\nvar JS_MIME_TYPE = 'application/javascript';\nvar HTML_MIME_TYPE = 'text/html';\nvar EXEC_MIME_TYPE = 'application/vnd.holoviews_exec.v0+json';\nvar CLASS_NAME = 'output';\n\n/**\n * Render data to the DOM node\n */\nfunction render(props, node) {\n  var div = document.createElement(\"div\");\n  var script = document.createElement(\"script\");\n  node.appendChild(div);\n  node.appendChild(script);\n}\n\n/**\n * Handle when a new output is added\n */\nfunction handle_add_output(event, handle) {\n  var output_area = handle.output_area;\n  var output = handle.output;\n  if ((output.data == undefined) || (!output.data.hasOwnProperty(EXEC_MIME_TYPE))) {\n    return\n  }\n  var id = output.metadata[EXEC_MIME_TYPE][\"id\"];\n  var toinsert = output_area.element.find(\".\" + CLASS_NAME.split(' ')[0]);\n  if (id !== undefined) {\n    var nchildren = toinsert.length;\n    var html_node = toinsert[nchildren-1].children[0];\n    html_node.innerHTML = output.data[HTML_MIME_TYPE];\n    var scripts = [];\n    var nodelist = html_node.querySelectorAll(\"script\");\n    for (var i in nodelist) {\n      if (nodelist.hasOwnProperty(i)) {\n        scripts.push(nodelist[i])\n      }\n    }\n\n    scripts.forEach( function (oldScript) {\n      var newScript = document.createElement(\"script\");\n      var attrs = [];\n      var nodemap = oldScript.attributes;\n      for (var j in nodemap) {\n        if (nodemap.hasOwnProperty(j)) {\n          attrs.push(nodemap[j])\n        }\n      }\n      attrs.forEach(function(attr) { newScript.setAttribute(attr.name, attr.value) });\n      newScript.appendChild(document.createTextNode(oldScript.innerHTML));\n      oldScript.parentNode.replaceChild(newScript, oldScript);\n    });\n    if (JS_MIME_TYPE in output.data) {\n      toinsert[nchildren-1].children[1].textContent = output.data[JS_MIME_TYPE];\n    }\n    output_area._hv_plot_id = id;\n    if ((window.Bokeh !== undefined) && (id in Bokeh.index)) {\n      window.PyViz.plot_index[id] = Bokeh.index[id];\n    } else {\n      window.PyViz.plot_index[id] = null;\n    }\n  } else if (output.metadata[EXEC_MIME_TYPE][\"server_id\"] !== undefined) {\n    var bk_div = document.createElement(\"div\");\n    bk_div.innerHTML = output.data[HTML_MIME_TYPE];\n    var script_attrs = bk_div.children[0].attributes;\n    for (var i = 0; i < script_attrs.length; i++) {\n      toinsert[toinsert.length - 1].childNodes[1].setAttribute(script_attrs[i].name, script_attrs[i].value);\n    }\n    // store reference to server id on output_area\n    output_area._bokeh_server_id = output.metadata[EXEC_MIME_TYPE][\"server_id\"];\n  }\n}\n\n/**\n * Handle when an output is cleared or removed\n */\nfunction handle_clear_output(event, handle) {\n  var id = handle.cell.output_area._hv_plot_id;\n  var server_id = handle.cell.output_area._bokeh_server_id;\n  if (((id === undefined) || !(id in PyViz.plot_index)) && (server_id !== undefined)) { return; }\n  var comm = window.PyViz.comm_manager.get_client_comm(\"hv-extension-comm\", \"hv-extension-comm\", function () {});\n  if (server_id !== null) {\n    comm.send({event_type: 'server_delete', 'id': server_id});\n    return;\n  } else if (comm !== null) {\n    comm.send({event_type: 'delete', 'id': id});\n  }\n  delete PyViz.plot_index[id];\n  if ((window.Bokeh !== undefined) & (id in window.Bokeh.index)) {\n    var doc = window.Bokeh.index[id].model.document\n    doc.clear();\n    const i = window.Bokeh.documents.indexOf(doc);\n    if (i > -1) {\n      window.Bokeh.documents.splice(i, 1);\n    }\n  }\n}\n\n/**\n * Handle kernel restart event\n */\nfunction handle_kernel_cleanup(event, handle) {\n  delete PyViz.comms[\"hv-extension-comm\"];\n  window.PyViz.plot_index = {}\n}\n\n/**\n * Handle update_display_data messages\n */\nfunction handle_update_output(event, handle) {\n  handle_clear_output(event, {cell: {output_area: handle.output_area}})\n  handle_add_output(event, handle)\n}\n\nfunction register_renderer(events, OutputArea) {\n  function append_mime(data, metadata, element) {\n    // create a DOM node to render to\n    var toinsert = this.create_output_subarea(\n    metadata,\n    CLASS_NAME,\n    EXEC_MIME_TYPE\n    );\n    this.keyboard_manager.register_events(toinsert);\n    // Render to node\n    var props = {data: data, metadata: metadata[EXEC_MIME_TYPE]};\n    render(props, toinsert[0]);\n    element.append(toinsert);\n    return toinsert\n  }\n\n  events.on('output_added.OutputArea', handle_add_output);\n  events.on('output_updated.OutputArea', handle_update_output);\n  events.on('clear_output.CodeCell', handle_clear_output);\n  events.on('delete.Cell', handle_clear_output);\n  events.on('kernel_ready.Kernel', handle_kernel_cleanup);\n\n  OutputArea.prototype.register_mime_type(EXEC_MIME_TYPE, append_mime, {\n    safe: true,\n    index: 0\n  });\n}\n\nif (window.Jupyter !== undefined) {\n  try {\n    var events = require('base/js/events');\n    var OutputArea = require('notebook/js/outputarea').OutputArea;\n    if (OutputArea.prototype.mime_types().indexOf(EXEC_MIME_TYPE) == -1) {\n      register_renderer(events, OutputArea);\n    }\n  } catch(err) {\n  }\n}\n",
      "application/vnd.holoviews_load.v0+json": ""
     },
     "metadata": {},
     "output_type": "display_data"
    },
    {
     "data": {
      "text/html": [
       "<style>*[data-root-id],\n",
       "*[data-root-id] > * {\n",
       "  box-sizing: border-box;\n",
       "  font-family: var(--jp-ui-font-family);\n",
       "  font-size: var(--jp-ui-font-size1);\n",
       "  color: var(--vscode-editor-foreground, var(--jp-ui-font-color1));\n",
       "}\n",
       "\n",
       "/* Override VSCode background color */\n",
       ".cell-output-ipywidget-background:has(\n",
       "    > .cell-output-ipywidget-background > .lm-Widget > *[data-root-id]\n",
       "  ),\n",
       ".cell-output-ipywidget-background:has(> .lm-Widget > *[data-root-id]) {\n",
       "  background-color: transparent !important;\n",
       "}\n",
       "</style>"
      ]
     },
     "metadata": {},
     "output_type": "display_data"
    },
    {
     "data": {
      "application/javascript": "(function(root) {\n  function now() {\n    return new Date();\n  }\n\n  var force = true;\n  var py_version = '3.4.0'.replace('rc', '-rc.').replace('.dev', '-dev.');\n  var reloading = true;\n  var Bokeh = root.Bokeh;\n\n  if (typeof (root._bokeh_timeout) === \"undefined\" || force) {\n    root._bokeh_timeout = Date.now() + 5000;\n    root._bokeh_failed_load = false;\n  }\n\n  function run_callbacks() {\n    try {\n      root._bokeh_onload_callbacks.forEach(function(callback) {\n        if (callback != null)\n          callback();\n      });\n    } finally {\n      delete root._bokeh_onload_callbacks;\n    }\n    console.debug(\"Bokeh: all callbacks have finished\");\n  }\n\n  function load_libs(css_urls, js_urls, js_modules, js_exports, callback) {\n    if (css_urls == null) css_urls = [];\n    if (js_urls == null) js_urls = [];\n    if (js_modules == null) js_modules = [];\n    if (js_exports == null) js_exports = {};\n\n    root._bokeh_onload_callbacks.push(callback);\n\n    if (root._bokeh_is_loading > 0) {\n      console.debug(\"Bokeh: BokehJS is being loaded, scheduling callback at\", now());\n      return null;\n    }\n    if (js_urls.length === 0 && js_modules.length === 0 && Object.keys(js_exports).length === 0) {\n      run_callbacks();\n      return null;\n    }\n    if (!reloading) {\n      console.debug(\"Bokeh: BokehJS not loaded, scheduling load and callback at\", now());\n    }\n\n    function on_load() {\n      root._bokeh_is_loading--;\n      if (root._bokeh_is_loading === 0) {\n        console.debug(\"Bokeh: all BokehJS libraries/stylesheets loaded\");\n        run_callbacks()\n      }\n    }\n    window._bokeh_on_load = on_load\n\n    function on_error() {\n      console.error(\"failed to load \" + url);\n    }\n\n    var skip = [];\n    if (window.requirejs) {\n      window.requirejs.config({'packages': {}, 'paths': {}, 'shim': {}});\n      root._bokeh_is_loading = css_urls.length + 0;\n    } else {\n      root._bokeh_is_loading = css_urls.length + js_urls.length + js_modules.length + Object.keys(js_exports).length;\n    }\n\n    var existing_stylesheets = []\n    var links = document.getElementsByTagName('link')\n    for (var i = 0; i < links.length; i++) {\n      var link = links[i]\n      if (link.href != null) {\n\texisting_stylesheets.push(link.href)\n      }\n    }\n    for (var i = 0; i < css_urls.length; i++) {\n      var url = css_urls[i];\n      if (existing_stylesheets.indexOf(url) !== -1) {\n\ton_load()\n\tcontinue;\n      }\n      const element = document.createElement(\"link\");\n      element.onload = on_load;\n      element.onerror = on_error;\n      element.rel = \"stylesheet\";\n      element.type = \"text/css\";\n      element.href = url;\n      console.debug(\"Bokeh: injecting link tag for BokehJS stylesheet: \", url);\n      document.body.appendChild(element);\n    }    var existing_scripts = []\n    var scripts = document.getElementsByTagName('script')\n    for (var i = 0; i < scripts.length; i++) {\n      var script = scripts[i]\n      if (script.src != null) {\n\texisting_scripts.push(script.src)\n      }\n    }\n    for (var i = 0; i < js_urls.length; i++) {\n      var url = js_urls[i];\n      if (skip.indexOf(url) !== -1 || existing_scripts.indexOf(url) !== -1) {\n\tif (!window.requirejs) {\n\t  on_load();\n\t}\n\tcontinue;\n      }\n      var element = document.createElement('script');\n      element.onload = on_load;\n      element.onerror = on_error;\n      element.async = false;\n      element.src = url;\n      console.debug(\"Bokeh: injecting script tag for BokehJS library: \", url);\n      document.head.appendChild(element);\n    }\n    for (var i = 0; i < js_modules.length; i++) {\n      var url = js_modules[i];\n      if (skip.indexOf(url) !== -1 || existing_scripts.indexOf(url) !== -1) {\n\tif (!window.requirejs) {\n\t  on_load();\n\t}\n\tcontinue;\n      }\n      var element = document.createElement('script');\n      element.onload = on_load;\n      element.onerror = on_error;\n      element.async = false;\n      element.src = url;\n      element.type = \"module\";\n      console.debug(\"Bokeh: injecting script tag for BokehJS library: \", url);\n      document.head.appendChild(element);\n    }\n    for (const name in js_exports) {\n      var url = js_exports[name];\n      if (skip.indexOf(url) >= 0 || root[name] != null) {\n\tif (!window.requirejs) {\n\t  on_load();\n\t}\n\tcontinue;\n      }\n      var element = document.createElement('script');\n      element.onerror = on_error;\n      element.async = false;\n      element.type = \"module\";\n      console.debug(\"Bokeh: injecting script tag for BokehJS library: \", url);\n      element.textContent = `\n      import ${name} from \"${url}\"\n      window.${name} = ${name}\n      window._bokeh_on_load()\n      `\n      document.head.appendChild(element);\n    }\n    if (!js_urls.length && !js_modules.length) {\n      on_load()\n    }\n  };\n\n  function inject_raw_css(css) {\n    const element = document.createElement(\"style\");\n    element.appendChild(document.createTextNode(css));\n    document.body.appendChild(element);\n  }\n\n  var js_urls = [];\n  var js_modules = [];\n  var js_exports = {};\n  var css_urls = [];\n  var inline_js = [    function(Bokeh) {\n      Bokeh.set_log_level(\"info\");\n    },\nfunction(Bokeh) {} // ensure no trailing comma for IE\n  ];\n\n  function run_inline_js() {\n    if ((root.Bokeh !== undefined) || (force === true)) {\n      for (var i = 0; i < inline_js.length; i++) {\n\ttry {\n          inline_js[i].call(root, root.Bokeh);\n\t} catch(e) {\n\t  if (!reloading) {\n\t    throw e;\n\t  }\n\t}\n      }\n      // Cache old bokeh versions\n      if (Bokeh != undefined && !reloading) {\n\tvar NewBokeh = root.Bokeh;\n\tif (Bokeh.versions === undefined) {\n\t  Bokeh.versions = new Map();\n\t}\n\tif (NewBokeh.version !== Bokeh.version) {\n\t  Bokeh.versions.set(NewBokeh.version, NewBokeh)\n\t}\n\troot.Bokeh = Bokeh;\n      }} else if (Date.now() < root._bokeh_timeout) {\n      setTimeout(run_inline_js, 100);\n    } else if (!root._bokeh_failed_load) {\n      console.log(\"Bokeh: BokehJS failed to load within specified timeout.\");\n      root._bokeh_failed_load = true;\n    }\n    root._bokeh_is_initializing = false\n  }\n\n  function load_or_wait() {\n    // Implement a backoff loop that tries to ensure we do not load multiple\n    // versions of Bokeh and its dependencies at the same time.\n    // In recent versions we use the root._bokeh_is_initializing flag\n    // to determine whether there is an ongoing attempt to initialize\n    // bokeh, however for backward compatibility we also try to ensure\n    // that we do not start loading a newer (Panel>=1.0 and Bokeh>3) version\n    // before older versions are fully initialized.\n    if (root._bokeh_is_initializing && Date.now() > root._bokeh_timeout) {\n      root._bokeh_is_initializing = false;\n      root._bokeh_onload_callbacks = undefined;\n      console.log(\"Bokeh: BokehJS was loaded multiple times but one version failed to initialize.\");\n      load_or_wait();\n    } else if (root._bokeh_is_initializing || (typeof root._bokeh_is_initializing === \"undefined\" && root._bokeh_onload_callbacks !== undefined)) {\n      setTimeout(load_or_wait, 100);\n    } else {\n      root._bokeh_is_initializing = true\n      root._bokeh_onload_callbacks = []\n      var bokeh_loaded = Bokeh != null && (Bokeh.version === py_version || (Bokeh.versions !== undefined && Bokeh.versions.has(py_version)));\n      if (!reloading && !bokeh_loaded) {\n\troot.Bokeh = undefined;\n      }\n      load_libs(css_urls, js_urls, js_modules, js_exports, function() {\n\tconsole.debug(\"Bokeh: BokehJS plotting callback run at\", now());\n\trun_inline_js();\n      });\n    }\n  }\n  // Give older versions of the autoload script a head-start to ensure\n  // they initialize before we start loading newer version.\n  setTimeout(load_or_wait, 100)\n}(window));",
      "application/vnd.holoviews_load.v0+json": ""
     },
     "metadata": {},
     "output_type": "display_data"
    },
    {
     "data": {
      "application/javascript": "\nif ((window.PyViz === undefined) || (window.PyViz instanceof HTMLElement)) {\n  window.PyViz = {comms: {}, comm_status:{}, kernels:{}, receivers: {}, plot_index: []}\n}\n\n\n    function JupyterCommManager() {\n    }\n\n    JupyterCommManager.prototype.register_target = function(plot_id, comm_id, msg_handler) {\n      if (window.comm_manager || ((window.Jupyter !== undefined) && (Jupyter.notebook.kernel != null))) {\n        var comm_manager = window.comm_manager || Jupyter.notebook.kernel.comm_manager;\n        comm_manager.register_target(comm_id, function(comm) {\n          comm.on_msg(msg_handler);\n        });\n      } else if ((plot_id in window.PyViz.kernels) && (window.PyViz.kernels[plot_id])) {\n        window.PyViz.kernels[plot_id].registerCommTarget(comm_id, function(comm) {\n          comm.onMsg = msg_handler;\n        });\n      } else if (typeof google != 'undefined' && google.colab.kernel != null) {\n        google.colab.kernel.comms.registerTarget(comm_id, (comm) => {\n          var messages = comm.messages[Symbol.asyncIterator]();\n          function processIteratorResult(result) {\n            var message = result.value;\n            console.log(message)\n            var content = {data: message.data, comm_id};\n            var buffers = []\n            for (var buffer of message.buffers || []) {\n              buffers.push(new DataView(buffer))\n            }\n            var metadata = message.metadata || {};\n            var msg = {content, buffers, metadata}\n            msg_handler(msg);\n            return messages.next().then(processIteratorResult);\n          }\n          return messages.next().then(processIteratorResult);\n        })\n      }\n    }\n\n    JupyterCommManager.prototype.get_client_comm = function(plot_id, comm_id, msg_handler) {\n      if (comm_id in window.PyViz.comms) {\n        return window.PyViz.comms[comm_id];\n      } else if (window.comm_manager || ((window.Jupyter !== undefined) && (Jupyter.notebook.kernel != null))) {\n        var comm_manager = window.comm_manager || Jupyter.notebook.kernel.comm_manager;\n        var comm = comm_manager.new_comm(comm_id, {}, {}, {}, comm_id);\n        if (msg_handler) {\n          comm.on_msg(msg_handler);\n        }\n      } else if ((plot_id in window.PyViz.kernels) && (window.PyViz.kernels[plot_id])) {\n        var comm = window.PyViz.kernels[plot_id].connectToComm(comm_id);\n        comm.open();\n        if (msg_handler) {\n          comm.onMsg = msg_handler;\n        }\n      } else if (typeof google != 'undefined' && google.colab.kernel != null) {\n        var comm_promise = google.colab.kernel.comms.open(comm_id)\n        comm_promise.then((comm) => {\n          window.PyViz.comms[comm_id] = comm;\n          if (msg_handler) {\n            var messages = comm.messages[Symbol.asyncIterator]();\n            function processIteratorResult(result) {\n              var message = result.value;\n              var content = {data: message.data};\n              var metadata = message.metadata || {comm_id};\n              var msg = {content, metadata}\n              msg_handler(msg);\n              return messages.next().then(processIteratorResult);\n            }\n            return messages.next().then(processIteratorResult);\n          }\n        }) \n        var sendClosure = (data, metadata, buffers, disposeOnDone) => {\n          return comm_promise.then((comm) => {\n            comm.send(data, metadata, buffers, disposeOnDone);\n          });\n        };\n        var comm = {\n          send: sendClosure\n        };\n      }\n      window.PyViz.comms[comm_id] = comm;\n      return comm;\n    }\n    window.PyViz.comm_manager = new JupyterCommManager();\n    \n\n\nvar JS_MIME_TYPE = 'application/javascript';\nvar HTML_MIME_TYPE = 'text/html';\nvar EXEC_MIME_TYPE = 'application/vnd.holoviews_exec.v0+json';\nvar CLASS_NAME = 'output';\n\n/**\n * Render data to the DOM node\n */\nfunction render(props, node) {\n  var div = document.createElement(\"div\");\n  var script = document.createElement(\"script\");\n  node.appendChild(div);\n  node.appendChild(script);\n}\n\n/**\n * Handle when a new output is added\n */\nfunction handle_add_output(event, handle) {\n  var output_area = handle.output_area;\n  var output = handle.output;\n  if ((output.data == undefined) || (!output.data.hasOwnProperty(EXEC_MIME_TYPE))) {\n    return\n  }\n  var id = output.metadata[EXEC_MIME_TYPE][\"id\"];\n  var toinsert = output_area.element.find(\".\" + CLASS_NAME.split(' ')[0]);\n  if (id !== undefined) {\n    var nchildren = toinsert.length;\n    var html_node = toinsert[nchildren-1].children[0];\n    html_node.innerHTML = output.data[HTML_MIME_TYPE];\n    var scripts = [];\n    var nodelist = html_node.querySelectorAll(\"script\");\n    for (var i in nodelist) {\n      if (nodelist.hasOwnProperty(i)) {\n        scripts.push(nodelist[i])\n      }\n    }\n\n    scripts.forEach( function (oldScript) {\n      var newScript = document.createElement(\"script\");\n      var attrs = [];\n      var nodemap = oldScript.attributes;\n      for (var j in nodemap) {\n        if (nodemap.hasOwnProperty(j)) {\n          attrs.push(nodemap[j])\n        }\n      }\n      attrs.forEach(function(attr) { newScript.setAttribute(attr.name, attr.value) });\n      newScript.appendChild(document.createTextNode(oldScript.innerHTML));\n      oldScript.parentNode.replaceChild(newScript, oldScript);\n    });\n    if (JS_MIME_TYPE in output.data) {\n      toinsert[nchildren-1].children[1].textContent = output.data[JS_MIME_TYPE];\n    }\n    output_area._hv_plot_id = id;\n    if ((window.Bokeh !== undefined) && (id in Bokeh.index)) {\n      window.PyViz.plot_index[id] = Bokeh.index[id];\n    } else {\n      window.PyViz.plot_index[id] = null;\n    }\n  } else if (output.metadata[EXEC_MIME_TYPE][\"server_id\"] !== undefined) {\n    var bk_div = document.createElement(\"div\");\n    bk_div.innerHTML = output.data[HTML_MIME_TYPE];\n    var script_attrs = bk_div.children[0].attributes;\n    for (var i = 0; i < script_attrs.length; i++) {\n      toinsert[toinsert.length - 1].childNodes[1].setAttribute(script_attrs[i].name, script_attrs[i].value);\n    }\n    // store reference to server id on output_area\n    output_area._bokeh_server_id = output.metadata[EXEC_MIME_TYPE][\"server_id\"];\n  }\n}\n\n/**\n * Handle when an output is cleared or removed\n */\nfunction handle_clear_output(event, handle) {\n  var id = handle.cell.output_area._hv_plot_id;\n  var server_id = handle.cell.output_area._bokeh_server_id;\n  if (((id === undefined) || !(id in PyViz.plot_index)) && (server_id !== undefined)) { return; }\n  var comm = window.PyViz.comm_manager.get_client_comm(\"hv-extension-comm\", \"hv-extension-comm\", function () {});\n  if (server_id !== null) {\n    comm.send({event_type: 'server_delete', 'id': server_id});\n    return;\n  } else if (comm !== null) {\n    comm.send({event_type: 'delete', 'id': id});\n  }\n  delete PyViz.plot_index[id];\n  if ((window.Bokeh !== undefined) & (id in window.Bokeh.index)) {\n    var doc = window.Bokeh.index[id].model.document\n    doc.clear();\n    const i = window.Bokeh.documents.indexOf(doc);\n    if (i > -1) {\n      window.Bokeh.documents.splice(i, 1);\n    }\n  }\n}\n\n/**\n * Handle kernel restart event\n */\nfunction handle_kernel_cleanup(event, handle) {\n  delete PyViz.comms[\"hv-extension-comm\"];\n  window.PyViz.plot_index = {}\n}\n\n/**\n * Handle update_display_data messages\n */\nfunction handle_update_output(event, handle) {\n  handle_clear_output(event, {cell: {output_area: handle.output_area}})\n  handle_add_output(event, handle)\n}\n\nfunction register_renderer(events, OutputArea) {\n  function append_mime(data, metadata, element) {\n    // create a DOM node to render to\n    var toinsert = this.create_output_subarea(\n    metadata,\n    CLASS_NAME,\n    EXEC_MIME_TYPE\n    );\n    this.keyboard_manager.register_events(toinsert);\n    // Render to node\n    var props = {data: data, metadata: metadata[EXEC_MIME_TYPE]};\n    render(props, toinsert[0]);\n    element.append(toinsert);\n    return toinsert\n  }\n\n  events.on('output_added.OutputArea', handle_add_output);\n  events.on('output_updated.OutputArea', handle_update_output);\n  events.on('clear_output.CodeCell', handle_clear_output);\n  events.on('delete.Cell', handle_clear_output);\n  events.on('kernel_ready.Kernel', handle_kernel_cleanup);\n\n  OutputArea.prototype.register_mime_type(EXEC_MIME_TYPE, append_mime, {\n    safe: true,\n    index: 0\n  });\n}\n\nif (window.Jupyter !== undefined) {\n  try {\n    var events = require('base/js/events');\n    var OutputArea = require('notebook/js/outputarea').OutputArea;\n    if (OutputArea.prototype.mime_types().indexOf(EXEC_MIME_TYPE) == -1) {\n      register_renderer(events, OutputArea);\n    }\n  } catch(err) {\n  }\n}\n",
      "application/vnd.holoviews_load.v0+json": ""
     },
     "metadata": {},
     "output_type": "display_data"
    },
    {
     "data": {
      "text/html": [
       "<style>*[data-root-id],\n",
       "*[data-root-id] > * {\n",
       "  box-sizing: border-box;\n",
       "  font-family: var(--jp-ui-font-family);\n",
       "  font-size: var(--jp-ui-font-size1);\n",
       "  color: var(--vscode-editor-foreground, var(--jp-ui-font-color1));\n",
       "}\n",
       "\n",
       "/* Override VSCode background color */\n",
       ".cell-output-ipywidget-background:has(\n",
       "    > .cell-output-ipywidget-background > .lm-Widget > *[data-root-id]\n",
       "  ),\n",
       ".cell-output-ipywidget-background:has(> .lm-Widget > *[data-root-id]) {\n",
       "  background-color: transparent !important;\n",
       "}\n",
       "</style>"
      ]
     },
     "metadata": {},
     "output_type": "display_data"
    },
    {
     "data": {
      "application/vnd.holoviews_exec.v0+json": "",
      "text/html": [
       "<div id='0cf9446a-c032-485d-b1cc-666cebd4ab7d'>\n",
       "  <div id=\"fcf1725c-d763-4934-b0ca-fc00606ba7aa\" data-root-id=\"0cf9446a-c032-485d-b1cc-666cebd4ab7d\" style=\"display: contents;\"></div>\n",
       "</div>\n",
       "<script type=\"application/javascript\">(function(root) {\n",
       "  var docs_json = {\"580d6e92-99c6-4444-9ddb-cef92104b42e\":{\"version\":\"3.4.0\",\"title\":\"Bokeh Application\",\"roots\":[{\"type\":\"object\",\"name\":\"panel.models.browser.BrowserInfo\",\"id\":\"0cf9446a-c032-485d-b1cc-666cebd4ab7d\"},{\"type\":\"object\",\"name\":\"panel.models.comm_manager.CommManager\",\"id\":\"f319e18e-1302-474b-82b6-e7238bd85085\",\"attributes\":{\"plot_id\":\"0cf9446a-c032-485d-b1cc-666cebd4ab7d\",\"comm_id\":\"3ee9f5702cf04a819ce5279e0c9c447d\",\"client_comm_id\":\"bf95da784af7424c85fe7f1b25ca8b90\"}}],\"defs\":[{\"type\":\"model\",\"name\":\"ReactiveHTML1\"},{\"type\":\"model\",\"name\":\"FlexBox1\",\"properties\":[{\"name\":\"align_content\",\"kind\":\"Any\",\"default\":\"flex-start\"},{\"name\":\"align_items\",\"kind\":\"Any\",\"default\":\"flex-start\"},{\"name\":\"flex_direction\",\"kind\":\"Any\",\"default\":\"row\"},{\"name\":\"flex_wrap\",\"kind\":\"Any\",\"default\":\"wrap\"},{\"name\":\"justify_content\",\"kind\":\"Any\",\"default\":\"flex-start\"},{\"name\":\"gap\",\"kind\":\"Any\",\"default\":\"\"}]},{\"type\":\"model\",\"name\":\"FloatPanel1\",\"properties\":[{\"name\":\"config\",\"kind\":\"Any\",\"default\":{\"type\":\"map\"}},{\"name\":\"contained\",\"kind\":\"Any\",\"default\":true},{\"name\":\"position\",\"kind\":\"Any\",\"default\":\"right-top\"},{\"name\":\"offsetx\",\"kind\":\"Any\",\"default\":null},{\"name\":\"offsety\",\"kind\":\"Any\",\"default\":null},{\"name\":\"theme\",\"kind\":\"Any\",\"default\":\"primary\"},{\"name\":\"status\",\"kind\":\"Any\",\"default\":\"normalized\"}]},{\"type\":\"model\",\"name\":\"GridStack1\",\"properties\":[{\"name\":\"mode\",\"kind\":\"Any\",\"default\":\"warn\"},{\"name\":\"ncols\",\"kind\":\"Any\",\"default\":null},{\"name\":\"nrows\",\"kind\":\"Any\",\"default\":null},{\"name\":\"allow_resize\",\"kind\":\"Any\",\"default\":true},{\"name\":\"allow_drag\",\"kind\":\"Any\",\"default\":true},{\"name\":\"state\",\"kind\":\"Any\",\"default\":[]}]},{\"type\":\"model\",\"name\":\"drag1\",\"properties\":[{\"name\":\"slider_width\",\"kind\":\"Any\",\"default\":5},{\"name\":\"slider_color\",\"kind\":\"Any\",\"default\":\"black\"},{\"name\":\"value\",\"kind\":\"Any\",\"default\":50}]},{\"type\":\"model\",\"name\":\"click1\",\"properties\":[{\"name\":\"terminal_output\",\"kind\":\"Any\",\"default\":\"\"},{\"name\":\"debug_name\",\"kind\":\"Any\",\"default\":\"\"},{\"name\":\"clears\",\"kind\":\"Any\",\"default\":0}]},{\"type\":\"model\",\"name\":\"FastWrapper1\",\"properties\":[{\"name\":\"object\",\"kind\":\"Any\",\"default\":null},{\"name\":\"style\",\"kind\":\"Any\",\"default\":null}]},{\"type\":\"model\",\"name\":\"NotificationAreaBase1\",\"properties\":[{\"name\":\"js_events\",\"kind\":\"Any\",\"default\":{\"type\":\"map\"}},{\"name\":\"position\",\"kind\":\"Any\",\"default\":\"bottom-right\"},{\"name\":\"_clear\",\"kind\":\"Any\",\"default\":0}]},{\"type\":\"model\",\"name\":\"NotificationArea1\",\"properties\":[{\"name\":\"js_events\",\"kind\":\"Any\",\"default\":{\"type\":\"map\"}},{\"name\":\"notifications\",\"kind\":\"Any\",\"default\":[]},{\"name\":\"position\",\"kind\":\"Any\",\"default\":\"bottom-right\"},{\"name\":\"_clear\",\"kind\":\"Any\",\"default\":0},{\"name\":\"types\",\"kind\":\"Any\",\"default\":[{\"type\":\"map\",\"entries\":[[\"type\",\"warning\"],[\"background\",\"#ffc107\"],[\"icon\",{\"type\":\"map\",\"entries\":[[\"className\",\"fas fa-exclamation-triangle\"],[\"tagName\",\"i\"],[\"color\",\"white\"]]}]]},{\"type\":\"map\",\"entries\":[[\"type\",\"info\"],[\"background\",\"#007bff\"],[\"icon\",{\"type\":\"map\",\"entries\":[[\"className\",\"fas fa-info-circle\"],[\"tagName\",\"i\"],[\"color\",\"white\"]]}]]}]}]},{\"type\":\"model\",\"name\":\"Notification\",\"properties\":[{\"name\":\"background\",\"kind\":\"Any\",\"default\":null},{\"name\":\"duration\",\"kind\":\"Any\",\"default\":3000},{\"name\":\"icon\",\"kind\":\"Any\",\"default\":null},{\"name\":\"message\",\"kind\":\"Any\",\"default\":\"\"},{\"name\":\"notification_type\",\"kind\":\"Any\",\"default\":null},{\"name\":\"_destroyed\",\"kind\":\"Any\",\"default\":false}]},{\"type\":\"model\",\"name\":\"TemplateActions1\",\"properties\":[{\"name\":\"open_modal\",\"kind\":\"Any\",\"default\":0},{\"name\":\"close_modal\",\"kind\":\"Any\",\"default\":0}]},{\"type\":\"model\",\"name\":\"BootstrapTemplateActions1\",\"properties\":[{\"name\":\"open_modal\",\"kind\":\"Any\",\"default\":0},{\"name\":\"close_modal\",\"kind\":\"Any\",\"default\":0}]},{\"type\":\"model\",\"name\":\"TemplateEditor1\",\"properties\":[{\"name\":\"layout\",\"kind\":\"Any\",\"default\":[]}]},{\"type\":\"model\",\"name\":\"MaterialTemplateActions1\",\"properties\":[{\"name\":\"open_modal\",\"kind\":\"Any\",\"default\":0},{\"name\":\"close_modal\",\"kind\":\"Any\",\"default\":0}]},{\"type\":\"model\",\"name\":\"copy_to_clipboard1\",\"properties\":[{\"name\":\"fill\",\"kind\":\"Any\",\"default\":\"none\"},{\"name\":\"value\",\"kind\":\"Any\",\"default\":null}]}]}};\n",
       "  var render_items = [{\"docid\":\"580d6e92-99c6-4444-9ddb-cef92104b42e\",\"roots\":{\"0cf9446a-c032-485d-b1cc-666cebd4ab7d\":\"fcf1725c-d763-4934-b0ca-fc00606ba7aa\"},\"root_ids\":[\"0cf9446a-c032-485d-b1cc-666cebd4ab7d\"]}];\n",
       "  var docs = Object.values(docs_json)\n",
       "  if (!docs) {\n",
       "    return\n",
       "  }\n",
       "  const py_version = docs[0].version.replace('rc', '-rc.').replace('.dev', '-dev.')\n",
       "  function embed_document(root) {\n",
       "    var Bokeh = get_bokeh(root)\n",
       "    Bokeh.embed.embed_items_notebook(docs_json, render_items);\n",
       "    for (const render_item of render_items) {\n",
       "      for (const root_id of render_item.root_ids) {\n",
       "\tconst id_el = document.getElementById(root_id)\n",
       "\tif (id_el.children.length && (id_el.children[0].className === 'bk-root')) {\n",
       "\t  const root_el = id_el.children[0]\n",
       "\t  root_el.id = root_el.id + '-rendered'\n",
       "\t}\n",
       "      }\n",
       "    }\n",
       "  }\n",
       "  function get_bokeh(root) {\n",
       "    if (root.Bokeh === undefined) {\n",
       "      return null\n",
       "    } else if (root.Bokeh.version !== py_version) {\n",
       "      if (root.Bokeh.versions === undefined || !root.Bokeh.versions.has(py_version)) {\n",
       "\treturn null\n",
       "      }\n",
       "      return root.Bokeh.versions.get(py_version);\n",
       "    } else if (root.Bokeh.version === py_version) {\n",
       "      return root.Bokeh\n",
       "    }\n",
       "    return null\n",
       "  }\n",
       "  function is_loaded(root) {\n",
       "    var Bokeh = get_bokeh(root)\n",
       "    return (Bokeh != null && Bokeh.Panel !== undefined)\n",
       "  }\n",
       "  if (is_loaded(root)) {\n",
       "    embed_document(root);\n",
       "  } else {\n",
       "    var attempts = 0;\n",
       "    var timer = setInterval(function(root) {\n",
       "      if (is_loaded(root)) {\n",
       "        clearInterval(timer);\n",
       "        embed_document(root);\n",
       "      } else if (document.readyState == \"complete\") {\n",
       "        attempts++;\n",
       "        if (attempts > 200) {\n",
       "          clearInterval(timer);\n",
       "\t  var Bokeh = get_bokeh(root)\n",
       "\t  if (Bokeh == null || Bokeh.Panel == null) {\n",
       "            console.warn(\"Panel: ERROR: Unable to run Panel code because Bokeh or Panel library is missing\");\n",
       "\t  } else {\n",
       "\t    console.warn(\"Panel: WARNING: Attempting to render but not all required libraries could be resolved.\")\n",
       "\t    embed_document(root)\n",
       "\t  }\n",
       "        }\n",
       "      }\n",
       "    }, 25, root)\n",
       "  }\n",
       "})(window);</script>"
      ]
     },
     "metadata": {
      "application/vnd.holoviews_exec.v0+json": {
       "id": "0cf9446a-c032-485d-b1cc-666cebd4ab7d"
      }
     },
     "output_type": "display_data"
    }
   ],
   "source": [
    "from pathlib import Path\n",
    "\n",
    "import holoviews as hv\n",
    "import panel as pn\n",
    "import param\n",
    "import polars as pl\n",
    "\n",
    "pn.extension(\n",
    "    sizing_mode=\"stretch_width\",\n",
    ")\n"
   ]
  },
  {
   "cell_type": "code",
   "execution_count": 5,
   "metadata": {},
   "outputs": [
    {
     "data": {
      "application/vnd.jupyter.widget-view+json": {
       "model_id": "0acac207784e44f996a10a76a45b2084",
       "version_major": 2,
       "version_minor": 0
      },
      "text/plain": [
       "BokehModel(combine_events=True, render_bundle={'docs_json': {'43f9bb38-a2dc-4f47-b1c5-b1e3f89d222d': {'version…"
      ]
     },
     "execution_count": 5,
     "metadata": {},
     "output_type": "execute_result"
    }
   ],
   "source": [
    "class Trial(param.Parameterized):\n",
    "    session = param.FileSelector(path=\"data/BFINAC_VNS/parquet/*/trials.parquet\")\n",
    "    trial = param.Integer(default=1)\n",
    "\n",
    "    def view(self):\n",
    "        return (\n",
    "            pl.scan_parquet(Path(self.session).parent / f\"{self.trial}.parquet\")\n",
    "            .select(\"x\", \"y\")\n",
    "            .collect()\n",
    "            .plot()\n",
    "        )\n",
    "\n",
    "    def animation(self):\n",
    "        return hv.Path(\n",
    "            pl.scan_parquet(Path(self.session).parent / f\"{self.trial}.parquet\")\n",
    "            .select(\"x\", \"y\")\n",
    "            .collect()\n",
    "            .to_dict(),\n",
    "            # extents=(-10, -10, 10, 10),\n",
    "        )\n",
    "\n",
    "    def fractal(self):\n",
    "        return pl.read_parquet(self.session)[self.trial, \"fractals\"]\n",
    "\n",
    "    def target_angle(self):\n",
    "        return pl.read_parquet(self.session)[self.trial, \"targAngle\"]\n",
    "\n",
    "    def target_amplitude(self):\n",
    "        return pl.read_parquet(self.session)[self.trial, \"targAmp\"]\n",
    "\n",
    "\n",
    "trial = Trial()\n",
    "\n",
    "\n",
    "def view(point):\n",
    "    return hv.Points([point])\n",
    "\n",
    "\n",
    "df = pl.read_parquet(\"data/BFINAC_VNS/parquet/BFnovelinac_01_02_2019_15_03/1.parquet\")\n",
    "\n",
    "\n",
    "player = pn.widgets.Player()\n",
    "cursor = pn.bind(view, player)\n",
    "pn.Row(\n",
    "    trial.param, pn.Column(trial.fractal, trial.target_angle, player, cursor)\n",
    ").servable()\n",
    "# pn.Row(\n",
    "#     pn.Column(trial.view),\n",
    "#     pn.Column(trial.animation),\n",
    "# ).servable()\n"
   ]
  },
  {
   "cell_type": "code",
   "execution_count": null,
   "metadata": {},
   "outputs": [
    {
     "data": {
      "text/html": [
       "<div><style>\n",
       ".dataframe > thead > tr,\n",
       ".dataframe > tbody > tr {\n",
       "  text-align: right;\n",
       "  white-space: pre-wrap;\n",
       "}\n",
       "</style>\n",
       "<small>shape: (508, 17)</small><table border=\"1\" class=\"dataframe\"><thead><tr><th>trialnumber</th><th>fractals</th><th>targAngle</th><th>targAmp</th><th>goodtrial</th><th>fixreq</th><th>datapixxtime</th><th>trialstarttime</th><th>timefpon</th><th>timefpoff</th><th>windowchosen</th><th>timetargetoff</th><th>feedid</th><th>TrialTypeSave</th><th>timefpabort</th><th>repeatflag</th><th>monkeynotinitiated</th></tr><tr><td>i64</td><td>i64</td><td>f64</td><td>f64</td><td>bool</td><td>bool</td><td>f64</td><td>f64</td><td>f64</td><td>f64</td><td>bool</td><td>f64</td><td>i64</td><td>i64</td><td>f64</td><td>bool</td><td>bool</td></tr></thead><tbody><tr><td>1</td><td>6212</td><td>0.0</td><td>10.0</td><td>true</td><td>true</td><td>21298.512505</td><td>7.0000e6</td><td>0.758113</td><td>2.041627</td><td>false</td><td>4.533639</td><td>6212</td><td>6112</td><td>0.0</td><td>false</td><td>false</td></tr><tr><td>2</td><td>6202</td><td>0.0</td><td>10.0</td><td>true</td><td>true</td><td>21308.260766</td><td>7.0000e6</td><td>0.760564</td><td>2.027416</td><td>false</td><td>4.519422</td><td>6202</td><td>6102</td><td>0.0</td><td>false</td><td>false</td></tr><tr><td>3</td><td>6302</td><td>0.0</td><td>10.0</td><td>true</td><td>true</td><td>21316.614368</td><td>7.0000e6</td><td>0.757499</td><td>1.866344</td><td>false</td><td>4.366287</td><td>6302</td><td>6102</td><td>0.0</td><td>false</td><td>false</td></tr><tr><td>4</td><td>6212</td><td>180.0</td><td>10.0</td><td>true</td><td>true</td><td>21326.137578</td><td>7.0000e6</td><td>0.760028</td><td>1.868525</td><td>false</td><td>4.368879</td><td>6212</td><td>6112</td><td>0.0</td><td>false</td><td>false</td></tr><tr><td>5</td><td>6202</td><td>180.0</td><td>10.0</td><td>true</td><td>true</td><td>21334.392459</td><td>7.0000e6</td><td>0.764097</td><td>1.872531</td><td>false</td><td>4.372937</td><td>6202</td><td>6102</td><td>0.0</td><td>false</td><td>false</td></tr><tr><td>&hellip;</td><td>&hellip;</td><td>&hellip;</td><td>&hellip;</td><td>&hellip;</td><td>&hellip;</td><td>&hellip;</td><td>&hellip;</td><td>&hellip;</td><td>&hellip;</td><td>&hellip;</td><td>&hellip;</td><td>&hellip;</td><td>&hellip;</td><td>&hellip;</td><td>&hellip;</td><td>&hellip;</td></tr><tr><td>504</td><td>6202</td><td>180.0</td><td>10.0</td><td>false</td><td>true</td><td>25009.668284</td><td>7.0037e6</td><td>0.764094</td><td>-1.0</td><td>false</td><td>NaN</td><td>6202</td><td>6102</td><td>2.155961</td><td>true</td><td>false</td></tr><tr><td>505</td><td>6202</td><td>180.0</td><td>10.0</td><td>false</td><td>true</td><td>25013.591259</td><td>7.0037e6</td><td>0.758053</td><td>-1.0</td><td>false</td><td>NaN</td><td>6202</td><td>6102</td><td>1.074773</td><td>true</td><td>false</td></tr><tr><td>506</td><td>6202</td><td>180.0</td><td>10.0</td><td>true</td><td>true</td><td>25016.411008</td><td>7.0037e6</td><td>0.763456</td><td>1.871972</td><td>false</td><td>4.372392</td><td>6202</td><td>6102</td><td>0.0</td><td>false</td><td>false</td></tr><tr><td>507</td><td>6312</td><td>0.0</td><td>10.0</td><td>true</td><td>true</td><td>25023.562894</td><td>7.0037e6</td><td>0.762227</td><td>1.870734</td><td>false</td><td>4.37107</td><td>6312</td><td>6112</td><td>0.0</td><td>false</td><td>false</td></tr><tr><td>508</td><td>6101</td><td>180.0</td><td>10.0</td><td>false</td><td>true</td><td>25031.883016</td><td>7.0037e6</td><td>0.759416</td><td>-1.0</td><td>false</td><td>NaN</td><td>6101</td><td>6101</td><td>2.009593</td><td>true</td><td>false</td></tr></tbody></table></div>"
      ],
      "text/plain": [
       "shape: (508, 17)\n",
       "┌────────────┬──────────┬───────────┬─────────┬───┬────────────┬───────────┬───────────┬───────────┐\n",
       "│ trialnumbe ┆ fractals ┆ targAngle ┆ targAmp ┆ … ┆ TrialTypeS ┆ timefpabo ┆ repeatfla ┆ monkeynot │\n",
       "│ r          ┆ ---      ┆ ---       ┆ ---     ┆   ┆ ave        ┆ rt        ┆ g         ┆ initiated │\n",
       "│ ---        ┆ i64      ┆ f64       ┆ f64     ┆   ┆ ---        ┆ ---       ┆ ---       ┆ ---       │\n",
       "│ i64        ┆          ┆           ┆         ┆   ┆ i64        ┆ f64       ┆ bool      ┆ bool      │\n",
       "╞════════════╪══════════╪═══════════╪═════════╪═══╪════════════╪═══════════╪═══════════╪═══════════╡\n",
       "│ 1          ┆ 6212     ┆ 0.0       ┆ 10.0    ┆ … ┆ 6112       ┆ 0.0       ┆ false     ┆ false     │\n",
       "│ 2          ┆ 6202     ┆ 0.0       ┆ 10.0    ┆ … ┆ 6102       ┆ 0.0       ┆ false     ┆ false     │\n",
       "│ 3          ┆ 6302     ┆ 0.0       ┆ 10.0    ┆ … ┆ 6102       ┆ 0.0       ┆ false     ┆ false     │\n",
       "│ 4          ┆ 6212     ┆ 180.0     ┆ 10.0    ┆ … ┆ 6112       ┆ 0.0       ┆ false     ┆ false     │\n",
       "│ 5          ┆ 6202     ┆ 180.0     ┆ 10.0    ┆ … ┆ 6102       ┆ 0.0       ┆ false     ┆ false     │\n",
       "│ …          ┆ …        ┆ …         ┆ …       ┆ … ┆ …          ┆ …         ┆ …         ┆ …         │\n",
       "│ 504        ┆ 6202     ┆ 180.0     ┆ 10.0    ┆ … ┆ 6102       ┆ 2.155961  ┆ true      ┆ false     │\n",
       "│ 505        ┆ 6202     ┆ 180.0     ┆ 10.0    ┆ … ┆ 6102       ┆ 1.074773  ┆ true      ┆ false     │\n",
       "│ 506        ┆ 6202     ┆ 180.0     ┆ 10.0    ┆ … ┆ 6102       ┆ 0.0       ┆ false     ┆ false     │\n",
       "│ 507        ┆ 6312     ┆ 0.0       ┆ 10.0    ┆ … ┆ 6112       ┆ 0.0       ┆ false     ┆ false     │\n",
       "│ 508        ┆ 6101     ┆ 180.0     ┆ 10.0    ┆ … ┆ 6101       ┆ 2.009593  ┆ true      ┆ false     │\n",
       "└────────────┴──────────┴───────────┴─────────┴───┴────────────┴───────────┴───────────┴───────────┘"
      ]
     },
     "execution_count": 4,
     "metadata": {},
     "output_type": "execute_result"
    }
   ],
   "source": [
    "pl.read_parquet(\"data/BFINAC_VNS/parquet/BFnovelinac_01_02_2019_15_03/trials.parquet\")\n"
   ]
  },
  {
   "cell_type": "code",
   "execution_count": 2,
   "metadata": {},
   "outputs": [
    {
     "name": "stdout",
     "output_type": "stream",
     "text": [
      "\u001b[1;32mParameters of 'Path'\n",
      "====================\n",
      "\u001b[0m\n",
      "\u001b[1;31mParameters changed from their default values are marked in red.\u001b[0m\n",
      "\u001b[1;36mSoft bound values are marked in cyan.\u001b[0m\n",
      "C/V= Constant/Variable, RO/RW = ReadOnly/ReadWrite, AN=Allow None\n",
      "\n",
      "\u001b[1;34mName                        Value                     Type     Bounds   Mode \u001b[0m\n",
      "\n",
      "group                       'Path'                   String             C RW \n",
      "label                         ''                     String             C RW \n",
      "cdims                         {}                      Dict              V RW \n",
      "kdims          [Dimension('x'), Dimension('y')]       List     (2, 2)   C RW \n",
      "vdims                         []                      List   (0, None)  C RW \n",
      "extents            (None, None, None, None)          Tuple              V RW \n",
      "datatype   ['multitabular', 'spatialpandas', 'da...   List   (0, None)  V RW \n",
      "\n",
      "\u001b[1;32mParameter docstrings:\n",
      "=====================\u001b[0m\n",
      "\n",
      "\u001b[1;34mgroup:    A string describing the data wrapped by the object.\u001b[0m\n",
      "\u001b[1;31mlabel:    Optional label describing the data, typically reflecting where\u001b[0m\n",
      "\u001b[1;31m          or how it was measured. The label should allow a specific\u001b[0m\n",
      "\u001b[1;31m          measurement or dataset to be referenced for a given group.\u001b[0m\n",
      "\u001b[1;34mcdims:    The constant dimensions defined as a dictionary of Dimension:value\u001b[0m\n",
      "\u001b[1;34m          pairs providing additional dimension information about the object.\u001b[0m\n",
      "\u001b[1;34m          \u001b[0m\n",
      "\u001b[1;34m          Aliased with constant_dimensions.\u001b[0m\n",
      "\u001b[1;31mkdims:    The key dimensions of a geometry represent the x- and y-\u001b[0m\n",
      "\u001b[1;31m          coordinates in a 2D space.\u001b[0m\n",
      "\u001b[1;34mvdims:    Value dimensions can be associated with a geometry.\u001b[0m\n",
      "\u001b[1;31mextents:  Allows overriding the extents of the Element in 2D space defined\u001b[0m\n",
      "\u001b[1;31m          as four-tuple defining the (left, bottom, right and top) edges.\u001b[0m\n",
      "\u001b[1;34mdatatype: A priority list of the data types to be used for storage\u001b[0m\n",
      "\u001b[1;34m          on the .data attribute. If the input supplied to the element\u001b[0m\n",
      "\u001b[1;34m          constructor cannot be put into the requested format, the next\u001b[0m\n",
      "\u001b[1;34m          format listed will be used until a suitable format is found (or\u001b[0m\n",
      "\u001b[1;34m          the data fails to be understood).\u001b[0m\n"
     ]
    }
   ],
   "source": [
    "hv.help(hv.Path)\n"
   ]
  },
  {
   "cell_type": "code",
   "execution_count": 7,
   "metadata": {},
   "outputs": [],
   "source": [
    "import os\n",
    "\n",
    "import numpy as np\n",
    "import polars as pl\n",
    "import scipy\n",
    "\n",
    "for mat in Path(\"data/BFINAC_VNS\").glob(\"*.mat\"):\n",
    "    label = mat.stem\n",
    "    lick_path = f\"data/BFINAC_VNS/{label}/licking\"\n",
    "    if not os.path.exists(lick_path):\n",
    "        os.mkdir(lick_path)\n",
    "    lickdata = scipy.io.loadmat(mat)[\"PDS\"][\"onlineLickForce\"][0].item()[0]\n",
    "\n",
    "    for i in range(len(lickdata)):\n",
    "        # debug(images[i].item())\n",
    "        pl.DataFrame(lickdata[i]).write_parquet(\n",
    "            f\"data/BFINAC_VNS/{label}/licking/{i}.parquet\"\n",
    "        )\n"
   ]
  },
  {
   "cell_type": "code",
   "execution_count": 1,
   "metadata": {},
   "outputs": [
    {
     "data": {
      "text/plain": [
       "dict_keys(['__header__', '__version__', '__globals__', 'PDS', 'c', 's', '__function_workspace__'])"
      ]
     },
     "execution_count": 1,
     "metadata": {},
     "output_type": "execute_result"
    }
   ],
   "source": [
    "import scipy\n",
    "\n",
    "mat = scipy.io.loadmat(\"data/BFINAC_VNS/BFnovelinac_22_10_2018_16_11.mat\")\n",
    "mat.keys()\n"
   ]
  },
  {
   "cell_type": "code",
   "execution_count": 2,
   "metadata": {},
   "outputs": [
    {
     "data": {
      "text/plain": [
       "dtype([('timeFocused', 'O'), ('acquisitionTime', 'O'), ('stableWindowByTrial', 'O'), ('meanPrestimulusDialation', 'O'), ('fixOverlap', 'O'), ('trialnumber', 'O'), ('targetacquisitionthreshold', 'O'), ('fractals', 'O'), ('targetAcquisitionBegin', 'O'), ('targetAcquisitionFirst', 'O'), ('targAngle', 'O'), ('targAmp', 'O'), ('goodtrial', 'O'), ('fixreq', 'O'), ('outcomedel', 'O'), ('ITI_dur', 'O'), ('datapixxtime', 'O'), ('trialstarttime', 'O'), ('timefpon', 'O'), ('timefpoff', 'O'), ('timetargeton', 'O'), ('loopCountOfTargetOn', 'O'), ('loopCountOfTargetOff', 'O'), ('windowchosen', 'O'), ('timetargetoff', 'O'), ('feedid', 'O'), ('TrialTypeSave', 'O'), ('timeofabort', 'O'), ('timefpabort', 'O'), ('timeoutcome', 'O'), ('repeatflag', 'O'), ('monkeynotinitiated', 'O'), ('FEEDbacktime', 'O'), ('EyeJoy', 'O'), ('onlineEye', 'O'), ('onlineLickForce', 'O'), ('spikes', 'O'), ('sptimes', 'O'), ('blinkthreshold', 'O'), ('blinkTimeAllowed', 'O'), ('trueCS_dur', 'O'), ('samplesBlinkLogical', 'O'), ('rewardduration', 'O'), ('img1', 'O'), ('imgfeedback', 'O'), ('freeoutcometype', 'O'), ('setupITI', 'O')])"
      ]
     },
     "execution_count": 2,
     "metadata": {},
     "output_type": "execute_result"
    }
   ],
   "source": [
    "pds = mat[\"PDS\"]\n",
    "pds.dtype\n"
   ]
  },
  {
   "cell_type": "code",
   "execution_count": 15,
   "metadata": {},
   "outputs": [
    {
     "data": {
      "text/plain": [
       "array([[array([[array([], shape=(0, 0), dtype=uint8),\n",
       "                array([], shape=(0, 0), dtype=uint8),\n",
       "                array([], shape=(0, 0), dtype=uint8),\n",
       "                array([], shape=(0, 0), dtype=uint8),\n",
       "                array([], shape=(0, 0), dtype=uint8),\n",
       "                array([], shape=(0, 0), dtype=uint8),\n",
       "                array([], shape=(0, 0), dtype=uint8),\n",
       "                array([], shape=(0, 0), dtype=uint8),\n",
       "                array([], shape=(0, 0), dtype=uint8),\n",
       "                array([], shape=(0, 0), dtype=uint8),\n",
       "                array([], shape=(0, 0), dtype=uint8),\n",
       "                array([], shape=(0, 0), dtype=uint8),\n",
       "                array([], shape=(0, 0), dtype=uint8),\n",
       "                array([], shape=(0, 0), dtype=uint8),\n",
       "                array([], shape=(0, 0), dtype=uint8),\n",
       "                array([], shape=(0, 0), dtype=uint8),\n",
       "                array([], shape=(0, 0), dtype=uint8),\n",
       "                array([], shape=(0, 0), dtype=uint8),\n",
       "                array([], shape=(0, 0), dtype=uint8),\n",
       "                array([], shape=(0, 0), dtype=uint8),\n",
       "                array([], shape=(0, 0), dtype=uint8),\n",
       "                array([], shape=(0, 0), dtype=uint8),\n",
       "                array([], shape=(0, 0), dtype=uint8),\n",
       "                array([], shape=(0, 0), dtype=uint8),\n",
       "                array([], shape=(0, 0), dtype=uint8),\n",
       "                array([], shape=(0, 0), dtype=uint8),\n",
       "                array([], shape=(0, 0), dtype=uint8),\n",
       "                array([], shape=(0, 0), dtype=uint8),\n",
       "                array([], shape=(0, 0), dtype=uint8),\n",
       "                array([], shape=(0, 0), dtype=uint8),\n",
       "                array([], shape=(0, 0), dtype=uint8),\n",
       "                array([], shape=(0, 0), dtype=uint8),\n",
       "                array([], shape=(0, 0), dtype=uint8),\n",
       "                array([], shape=(0, 0), dtype=uint8),\n",
       "                array([], shape=(0, 0), dtype=uint8),\n",
       "                array([], shape=(0, 0), dtype=uint8),\n",
       "                array([], shape=(0, 0), dtype=uint8),\n",
       "                array([], shape=(0, 0), dtype=uint8),\n",
       "                array([], shape=(0, 0), dtype=uint8),\n",
       "                array([], shape=(0, 0), dtype=uint8),\n",
       "                array([], shape=(0, 0), dtype=uint8),\n",
       "                array([], shape=(0, 0), dtype=uint8),\n",
       "                array([], shape=(0, 0), dtype=uint8),\n",
       "                array([], shape=(0, 0), dtype=uint8),\n",
       "                array([], shape=(0, 0), dtype=uint8),\n",
       "                array([], shape=(0, 0), dtype=uint8),\n",
       "                array([], shape=(0, 0), dtype=uint8),\n",
       "                array([], shape=(0, 0), dtype=uint8),\n",
       "                array([], shape=(0, 0), dtype=uint8),\n",
       "                array([], shape=(0, 0), dtype=uint8),\n",
       "                array([], shape=(0, 0), dtype=uint8),\n",
       "                array([], shape=(0, 0), dtype=uint8),\n",
       "                array([], shape=(0, 0), dtype=uint8),\n",
       "                array([], shape=(0, 0), dtype=uint8),\n",
       "                array([], shape=(0, 0), dtype=uint8),\n",
       "                array([], shape=(0, 0), dtype=uint8),\n",
       "                array([], shape=(0, 0), dtype=uint8),\n",
       "                array([], shape=(0, 0), dtype=uint8),\n",
       "                array([], shape=(0, 0), dtype=uint8),\n",
       "                array([], shape=(0, 0), dtype=uint8),\n",
       "                array([], shape=(0, 0), dtype=uint8),\n",
       "                array([], shape=(0, 0), dtype=uint8),\n",
       "                array([], shape=(0, 0), dtype=uint8),\n",
       "                array([], shape=(0, 0), dtype=uint8),\n",
       "                array([], shape=(0, 0), dtype=uint8),\n",
       "                array([], shape=(0, 0), dtype=uint8),\n",
       "                array([], shape=(0, 0), dtype=uint8),\n",
       "                array([], shape=(0, 0), dtype=uint8),\n",
       "                array([], shape=(0, 0), dtype=uint8),\n",
       "                array([], shape=(0, 0), dtype=uint8),\n",
       "                array([], shape=(0, 0), dtype=uint8),\n",
       "                array([], shape=(0, 0), dtype=uint8),\n",
       "                array([], shape=(0, 0), dtype=uint8),\n",
       "                array([], shape=(0, 0), dtype=uint8),\n",
       "                array([], shape=(0, 0), dtype=uint8),\n",
       "                array([], shape=(0, 0), dtype=uint8),\n",
       "                array([], shape=(0, 0), dtype=uint8),\n",
       "                array([], shape=(0, 0), dtype=uint8),\n",
       "                array([], shape=(0, 0), dtype=uint8),\n",
       "                array([], shape=(0, 0), dtype=uint8),\n",
       "                array([], shape=(0, 0), dtype=uint8),\n",
       "                array([], shape=(0, 0), dtype=uint8),\n",
       "                array([], shape=(0, 0), dtype=uint8),\n",
       "                array([], shape=(0, 0), dtype=uint8),\n",
       "                array([], shape=(0, 0), dtype=uint8),\n",
       "                array([], shape=(0, 0), dtype=uint8),\n",
       "                array([], shape=(0, 0), dtype=uint8),\n",
       "                array([], shape=(0, 0), dtype=uint8),\n",
       "                array([], shape=(0, 0), dtype=uint8),\n",
       "                array([], shape=(0, 0), dtype=uint8),\n",
       "                array([], shape=(0, 0), dtype=uint8),\n",
       "                array([], shape=(0, 0), dtype=uint8),\n",
       "                array([], shape=(0, 0), dtype=uint8),\n",
       "                array([], shape=(0, 0), dtype=uint8),\n",
       "                array([], shape=(0, 0), dtype=uint8),\n",
       "                array([], shape=(0, 0), dtype=uint8),\n",
       "                array([], shape=(0, 0), dtype=uint8),\n",
       "                array([], shape=(0, 0), dtype=uint8),\n",
       "                array([], shape=(0, 0), dtype=uint8),\n",
       "                array([], shape=(0, 0), dtype=uint8),\n",
       "                array([], shape=(0, 0), dtype=uint8),\n",
       "                array([], shape=(0, 0), dtype=uint8),\n",
       "                array([], shape=(0, 0), dtype=uint8),\n",
       "                array([], shape=(0, 0), dtype=uint8),\n",
       "                array([], shape=(0, 0), dtype=uint8),\n",
       "                array([], shape=(0, 0), dtype=uint8),\n",
       "                array([], shape=(0, 0), dtype=uint8),\n",
       "                array([], shape=(0, 0), dtype=uint8),\n",
       "                array([], shape=(0, 0), dtype=uint8),\n",
       "                array([], shape=(0, 0), dtype=uint8),\n",
       "                array([], shape=(0, 0), dtype=uint8),\n",
       "                array([], shape=(0, 0), dtype=uint8),\n",
       "                array([], shape=(0, 0), dtype=uint8),\n",
       "                array([], shape=(0, 0), dtype=uint8),\n",
       "                array([], shape=(0, 0), dtype=uint8),\n",
       "                array([], shape=(0, 0), dtype=uint8),\n",
       "                array([], shape=(0, 0), dtype=uint8),\n",
       "                array([], shape=(0, 0), dtype=uint8),\n",
       "                array([], shape=(0, 0), dtype=uint8),\n",
       "                array([], shape=(0, 0), dtype=uint8),\n",
       "                array([], shape=(0, 0), dtype=uint8),\n",
       "                array([], shape=(0, 0), dtype=uint8),\n",
       "                array([], shape=(0, 0), dtype=uint8),\n",
       "                array([], shape=(0, 0), dtype=uint8),\n",
       "                array([], shape=(0, 0), dtype=uint8),\n",
       "                array([], shape=(0, 0), dtype=uint8),\n",
       "                array([], shape=(0, 0), dtype=uint8),\n",
       "                array([], shape=(0, 0), dtype=uint8)]], dtype=object)]],\n",
       "      dtype=object)"
      ]
     },
     "execution_count": 15,
     "metadata": {},
     "output_type": "execute_result"
    }
   ],
   "source": [
    "pds[\"sptimes\"]\n"
   ]
  },
  {
   "cell_type": "code",
   "execution_count": 13,
   "metadata": {},
   "outputs": [
    {
     "data": {
      "text/html": [
       "<div><style>\n",
       ".dataframe > thead > tr,\n",
       ".dataframe > tbody > tr {\n",
       "  text-align: right;\n",
       "  white-space: pre-wrap;\n",
       "}\n",
       "</style>\n",
       "<small>shape: (1, 1)</small><table border=\"1\" class=\"dataframe\"><thead><tr><th>column_0</th></tr><tr><td>i64</td></tr></thead><tbody><tr><td>0</td></tr></tbody></table></div>"
      ],
      "text/plain": [
       "shape: (1, 1)\n",
       "┌──────────┐\n",
       "│ column_0 │\n",
       "│ ---      │\n",
       "│ i64      │\n",
       "╞══════════╡\n",
       "│ 0        │\n",
       "└──────────┘"
      ]
     },
     "execution_count": 13,
     "metadata": {},
     "output_type": "execute_result"
    }
   ],
   "source": [
    "import polars as pl\n",
    "\n",
    "pl.DataFrame(pds[\"samplesBlinkLogical\"][0][0][0][0].T).select(pl.sum(\"column_0\"))\n"
   ]
  },
  {
   "cell_type": "code",
   "execution_count": 3,
   "metadata": {},
   "outputs": [
    {
     "ename": "NameError",
     "evalue": "name 'pl' is not defined",
     "output_type": "error",
     "traceback": [
      "\u001b[0;31m---------------------------------------------------------------------------\u001b[0m",
      "\u001b[0;31mNameError\u001b[0m                                 Traceback (most recent call last)",
      "Cell \u001b[0;32mIn[3], line 1\u001b[0m\n\u001b[0;32m----> 1\u001b[0m \u001b[43mpl\u001b[49m\u001b[38;5;241m.\u001b[39mDataFrame(pds[\u001b[38;5;124m\"\u001b[39m\u001b[38;5;124monlineLickForce\u001b[39m\u001b[38;5;124m\"\u001b[39m][\u001b[38;5;241m0\u001b[39m]\u001b[38;5;241m.\u001b[39mitem()[\u001b[38;5;241m0\u001b[39m][\u001b[38;5;241m0\u001b[39m])\n",
      "\u001b[0;31mNameError\u001b[0m: name 'pl' is not defined"
     ]
    }
   ],
   "source": [
    "pl.DataFrame(pds[\"onlineLickForce\"][0].item()[0][0])\n"
   ]
  },
  {
   "cell_type": "code",
   "execution_count": 5,
   "metadata": {},
   "outputs": [
    {
     "data": {
      "text/plain": [
       "array([[array([[  1,   2,   3,   4,   5,   6,   7,   8,   9,  10,  11,  12,  13,\n",
       "                 14,  15,  16,  17,  18,  19,  20,  21,  22,  23,  24,  25,  26,\n",
       "                 27,  28,  29,  30,  31,  32,  33,  34,  35,  36,  37,  38,  39,\n",
       "                 40,  41,  42,  43,  44,  45,  46,  47,  48,  49,  50,  51,  52,\n",
       "                 53,  54,  55,  56,  57,  58,  59,  60,  61,  62,  63,  64,  65,\n",
       "                 66,  67,  68,  69,  70,  71,  72,  73,  74,  75,  76,  77,  78,\n",
       "                 79,  80,  81,  82,  83,  84,  85,  86,  87,  88,  89,  90,  91,\n",
       "                 92,  93,  94,  95,  96,  97,  98,  99, 100, 101, 102, 103, 104,\n",
       "                105, 106, 107, 108, 109, 110, 111, 112, 113, 114, 115, 116, 117,\n",
       "                118, 119, 120, 121, 122, 123, 124, 125, 126, 127, 128]],\n",
       "              dtype=uint8)                                                      ]],\n",
       "      dtype=object)"
      ]
     },
     "execution_count": 5,
     "metadata": {},
     "output_type": "execute_result"
    }
   ],
   "source": [
    "pds[\"trialnumber\"]\n"
   ]
  },
  {
   "cell_type": "code",
   "execution_count": 42,
   "metadata": {},
   "outputs": [
    {
     "data": {
      "text/plain": [
       "(1, 128)"
      ]
     },
     "execution_count": 42,
     "metadata": {},
     "output_type": "execute_result"
    }
   ],
   "source": [
    "pds[\"onlineLickForce\"][0].item().shape\n"
   ]
  },
  {
   "cell_type": "code",
   "execution_count": 6,
   "metadata": {},
   "outputs": [
    {
     "data": {
      "text/plain": [
       "array([[array([[0.35, 0.35, 0.35, 0.35, 0.35, 0.35,  nan, 0.35,  nan, 0.35, 0.35,\n",
       "                0.35, 0.35, 0.35, 0.35, 0.35, 0.35,  nan, 0.35, 0.35, 0.35, 0.35,\n",
       "                0.35, 0.35, 0.35,  nan, 0.35, 0.35, 0.35, 0.35, 0.35, 0.35, 0.35,\n",
       "                 nan,  nan, 0.35,  nan,  nan,  nan,  nan, 0.35, 0.35, 0.35, 0.35,\n",
       "                0.35, 0.35, 0.35,  nan, 0.35, 0.35, 0.35,  nan, 0.35, 0.35, 0.35,\n",
       "                0.35, 0.35, 0.35, 0.35, 0.35, 0.35,  nan, 0.35, 0.35, 0.35, 0.35,\n",
       "                 nan, 0.35, 0.35, 0.35, 0.35, 0.35, 0.35,  nan, 0.35, 0.35,  nan,\n",
       "                0.35, 0.35, 0.35,  nan,  nan, 0.35, 0.35,  nan, 0.35,  nan, 0.35,\n",
       "                0.35, 0.35,  nan, 0.35, 0.35, 0.35, 0.35, 0.35, 0.35,  nan, 0.35,\n",
       "                 nan, 0.35, 0.35,  nan, 0.35, 0.35, 0.35, 0.35, 0.35, 0.35, 0.35,\n",
       "                0.35, 0.35, 0.35,  nan, 0.35,  nan, 0.35, 0.35, 0.35, 0.35, 0.35,\n",
       "                 nan, 0.35, 0.35, 0.35, 0.35, 0.35, 0.35]])                      ]],\n",
       "      dtype=object)"
      ]
     },
     "execution_count": 6,
     "metadata": {},
     "output_type": "execute_result"
    }
   ],
   "source": [
    "pds[\"fixOverlap\"]\n"
   ]
  },
  {
   "cell_type": "code",
   "execution_count": 3,
   "metadata": {},
   "outputs": [],
   "source": [
    "import pandas as pd\n",
    "\n",
    "img1 = pd.DataFrame(pds[\"img1\"].item())\n"
   ]
  },
  {
   "cell_type": "code",
   "execution_count": 10,
   "metadata": {},
   "outputs": [
    {
     "data": {
      "text/plain": [
       "128"
      ]
     },
     "execution_count": 10,
     "metadata": {},
     "output_type": "execute_result"
    }
   ],
   "source": [
    "img1.size\n"
   ]
  },
  {
   "cell_type": "code",
   "execution_count": 4,
   "metadata": {},
   "outputs": [],
   "source": [
    "img1_0 = img1[0]\n"
   ]
  },
  {
   "cell_type": "code",
   "execution_count": 5,
   "metadata": {},
   "outputs": [
    {
     "data": {
      "text/plain": [
       "(100, 100, 3)"
      ]
     },
     "execution_count": 5,
     "metadata": {},
     "output_type": "execute_result"
    }
   ],
   "source": [
    "img1_0.item().shape\n"
   ]
  },
  {
   "cell_type": "code",
   "execution_count": 6,
   "metadata": {},
   "outputs": [
    {
     "data": {
      "application/javascript": "(function(root) {\n  function now() {\n    return new Date();\n  }\n\n  var force = true;\n  var py_version = '3.4.0'.replace('rc', '-rc.').replace('.dev', '-dev.');\n  var reloading = false;\n  var Bokeh = root.Bokeh;\n\n  if (typeof (root._bokeh_timeout) === \"undefined\" || force) {\n    root._bokeh_timeout = Date.now() + 5000;\n    root._bokeh_failed_load = false;\n  }\n\n  function run_callbacks() {\n    try {\n      root._bokeh_onload_callbacks.forEach(function(callback) {\n        if (callback != null)\n          callback();\n      });\n    } finally {\n      delete root._bokeh_onload_callbacks;\n    }\n    console.debug(\"Bokeh: all callbacks have finished\");\n  }\n\n  function load_libs(css_urls, js_urls, js_modules, js_exports, callback) {\n    if (css_urls == null) css_urls = [];\n    if (js_urls == null) js_urls = [];\n    if (js_modules == null) js_modules = [];\n    if (js_exports == null) js_exports = {};\n\n    root._bokeh_onload_callbacks.push(callback);\n\n    if (root._bokeh_is_loading > 0) {\n      console.debug(\"Bokeh: BokehJS is being loaded, scheduling callback at\", now());\n      return null;\n    }\n    if (js_urls.length === 0 && js_modules.length === 0 && Object.keys(js_exports).length === 0) {\n      run_callbacks();\n      return null;\n    }\n    if (!reloading) {\n      console.debug(\"Bokeh: BokehJS not loaded, scheduling load and callback at\", now());\n    }\n\n    function on_load() {\n      root._bokeh_is_loading--;\n      if (root._bokeh_is_loading === 0) {\n        console.debug(\"Bokeh: all BokehJS libraries/stylesheets loaded\");\n        run_callbacks()\n      }\n    }\n    window._bokeh_on_load = on_load\n\n    function on_error() {\n      console.error(\"failed to load \" + url);\n    }\n\n    var skip = [];\n    if (window.requirejs) {\n      window.requirejs.config({'packages': {}, 'paths': {}, 'shim': {}});\n      root._bokeh_is_loading = css_urls.length + 0;\n    } else {\n      root._bokeh_is_loading = css_urls.length + js_urls.length + js_modules.length + Object.keys(js_exports).length;\n    }\n\n    var existing_stylesheets = []\n    var links = document.getElementsByTagName('link')\n    for (var i = 0; i < links.length; i++) {\n      var link = links[i]\n      if (link.href != null) {\n\texisting_stylesheets.push(link.href)\n      }\n    }\n    for (var i = 0; i < css_urls.length; i++) {\n      var url = css_urls[i];\n      if (existing_stylesheets.indexOf(url) !== -1) {\n\ton_load()\n\tcontinue;\n      }\n      const element = document.createElement(\"link\");\n      element.onload = on_load;\n      element.onerror = on_error;\n      element.rel = \"stylesheet\";\n      element.type = \"text/css\";\n      element.href = url;\n      console.debug(\"Bokeh: injecting link tag for BokehJS stylesheet: \", url);\n      document.body.appendChild(element);\n    }    var existing_scripts = []\n    var scripts = document.getElementsByTagName('script')\n    for (var i = 0; i < scripts.length; i++) {\n      var script = scripts[i]\n      if (script.src != null) {\n\texisting_scripts.push(script.src)\n      }\n    }\n    for (var i = 0; i < js_urls.length; i++) {\n      var url = js_urls[i];\n      if (skip.indexOf(url) !== -1 || existing_scripts.indexOf(url) !== -1) {\n\tif (!window.requirejs) {\n\t  on_load();\n\t}\n\tcontinue;\n      }\n      var element = document.createElement('script');\n      element.onload = on_load;\n      element.onerror = on_error;\n      element.async = false;\n      element.src = url;\n      console.debug(\"Bokeh: injecting script tag for BokehJS library: \", url);\n      document.head.appendChild(element);\n    }\n    for (var i = 0; i < js_modules.length; i++) {\n      var url = js_modules[i];\n      if (skip.indexOf(url) !== -1 || existing_scripts.indexOf(url) !== -1) {\n\tif (!window.requirejs) {\n\t  on_load();\n\t}\n\tcontinue;\n      }\n      var element = document.createElement('script');\n      element.onload = on_load;\n      element.onerror = on_error;\n      element.async = false;\n      element.src = url;\n      element.type = \"module\";\n      console.debug(\"Bokeh: injecting script tag for BokehJS library: \", url);\n      document.head.appendChild(element);\n    }\n    for (const name in js_exports) {\n      var url = js_exports[name];\n      if (skip.indexOf(url) >= 0 || root[name] != null) {\n\tif (!window.requirejs) {\n\t  on_load();\n\t}\n\tcontinue;\n      }\n      var element = document.createElement('script');\n      element.onerror = on_error;\n      element.async = false;\n      element.type = \"module\";\n      console.debug(\"Bokeh: injecting script tag for BokehJS library: \", url);\n      element.textContent = `\n      import ${name} from \"${url}\"\n      window.${name} = ${name}\n      window._bokeh_on_load()\n      `\n      document.head.appendChild(element);\n    }\n    if (!js_urls.length && !js_modules.length) {\n      on_load()\n    }\n  };\n\n  function inject_raw_css(css) {\n    const element = document.createElement(\"style\");\n    element.appendChild(document.createTextNode(css));\n    document.body.appendChild(element);\n  }\n\n  var js_urls = [\"https://cdn.bokeh.org/bokeh/release/bokeh-3.4.0.min.js\", \"https://cdn.bokeh.org/bokeh/release/bokeh-gl-3.4.0.min.js\", \"https://cdn.bokeh.org/bokeh/release/bokeh-widgets-3.4.0.min.js\", \"https://cdn.bokeh.org/bokeh/release/bokeh-tables-3.4.0.min.js\", \"https://cdn.holoviz.org/panel/1.4.0/dist/panel.min.js\"];\n  var js_modules = [];\n  var js_exports = {};\n  var css_urls = [];\n  var inline_js = [    function(Bokeh) {\n      Bokeh.set_log_level(\"info\");\n    },\nfunction(Bokeh) {} // ensure no trailing comma for IE\n  ];\n\n  function run_inline_js() {\n    if ((root.Bokeh !== undefined) || (force === true)) {\n      for (var i = 0; i < inline_js.length; i++) {\n\ttry {\n          inline_js[i].call(root, root.Bokeh);\n\t} catch(e) {\n\t  if (!reloading) {\n\t    throw e;\n\t  }\n\t}\n      }\n      // Cache old bokeh versions\n      if (Bokeh != undefined && !reloading) {\n\tvar NewBokeh = root.Bokeh;\n\tif (Bokeh.versions === undefined) {\n\t  Bokeh.versions = new Map();\n\t}\n\tif (NewBokeh.version !== Bokeh.version) {\n\t  Bokeh.versions.set(NewBokeh.version, NewBokeh)\n\t}\n\troot.Bokeh = Bokeh;\n      }} else if (Date.now() < root._bokeh_timeout) {\n      setTimeout(run_inline_js, 100);\n    } else if (!root._bokeh_failed_load) {\n      console.log(\"Bokeh: BokehJS failed to load within specified timeout.\");\n      root._bokeh_failed_load = true;\n    }\n    root._bokeh_is_initializing = false\n  }\n\n  function load_or_wait() {\n    // Implement a backoff loop that tries to ensure we do not load multiple\n    // versions of Bokeh and its dependencies at the same time.\n    // In recent versions we use the root._bokeh_is_initializing flag\n    // to determine whether there is an ongoing attempt to initialize\n    // bokeh, however for backward compatibility we also try to ensure\n    // that we do not start loading a newer (Panel>=1.0 and Bokeh>3) version\n    // before older versions are fully initialized.\n    if (root._bokeh_is_initializing && Date.now() > root._bokeh_timeout) {\n      root._bokeh_is_initializing = false;\n      root._bokeh_onload_callbacks = undefined;\n      console.log(\"Bokeh: BokehJS was loaded multiple times but one version failed to initialize.\");\n      load_or_wait();\n    } else if (root._bokeh_is_initializing || (typeof root._bokeh_is_initializing === \"undefined\" && root._bokeh_onload_callbacks !== undefined)) {\n      setTimeout(load_or_wait, 100);\n    } else {\n      root._bokeh_is_initializing = true\n      root._bokeh_onload_callbacks = []\n      var bokeh_loaded = Bokeh != null && (Bokeh.version === py_version || (Bokeh.versions !== undefined && Bokeh.versions.has(py_version)));\n      if (!reloading && !bokeh_loaded) {\n\troot.Bokeh = undefined;\n      }\n      load_libs(css_urls, js_urls, js_modules, js_exports, function() {\n\tconsole.debug(\"Bokeh: BokehJS plotting callback run at\", now());\n\trun_inline_js();\n      });\n    }\n  }\n  // Give older versions of the autoload script a head-start to ensure\n  // they initialize before we start loading newer version.\n  setTimeout(load_or_wait, 100)\n}(window));",
      "application/vnd.holoviews_load.v0+json": ""
     },
     "metadata": {},
     "output_type": "display_data"
    },
    {
     "data": {
      "application/javascript": "\nif ((window.PyViz === undefined) || (window.PyViz instanceof HTMLElement)) {\n  window.PyViz = {comms: {}, comm_status:{}, kernels:{}, receivers: {}, plot_index: []}\n}\n\n\n    function JupyterCommManager() {\n    }\n\n    JupyterCommManager.prototype.register_target = function(plot_id, comm_id, msg_handler) {\n      if (window.comm_manager || ((window.Jupyter !== undefined) && (Jupyter.notebook.kernel != null))) {\n        var comm_manager = window.comm_manager || Jupyter.notebook.kernel.comm_manager;\n        comm_manager.register_target(comm_id, function(comm) {\n          comm.on_msg(msg_handler);\n        });\n      } else if ((plot_id in window.PyViz.kernels) && (window.PyViz.kernels[plot_id])) {\n        window.PyViz.kernels[plot_id].registerCommTarget(comm_id, function(comm) {\n          comm.onMsg = msg_handler;\n        });\n      } else if (typeof google != 'undefined' && google.colab.kernel != null) {\n        google.colab.kernel.comms.registerTarget(comm_id, (comm) => {\n          var messages = comm.messages[Symbol.asyncIterator]();\n          function processIteratorResult(result) {\n            var message = result.value;\n            console.log(message)\n            var content = {data: message.data, comm_id};\n            var buffers = []\n            for (var buffer of message.buffers || []) {\n              buffers.push(new DataView(buffer))\n            }\n            var metadata = message.metadata || {};\n            var msg = {content, buffers, metadata}\n            msg_handler(msg);\n            return messages.next().then(processIteratorResult);\n          }\n          return messages.next().then(processIteratorResult);\n        })\n      }\n    }\n\n    JupyterCommManager.prototype.get_client_comm = function(plot_id, comm_id, msg_handler) {\n      if (comm_id in window.PyViz.comms) {\n        return window.PyViz.comms[comm_id];\n      } else if (window.comm_manager || ((window.Jupyter !== undefined) && (Jupyter.notebook.kernel != null))) {\n        var comm_manager = window.comm_manager || Jupyter.notebook.kernel.comm_manager;\n        var comm = comm_manager.new_comm(comm_id, {}, {}, {}, comm_id);\n        if (msg_handler) {\n          comm.on_msg(msg_handler);\n        }\n      } else if ((plot_id in window.PyViz.kernels) && (window.PyViz.kernels[plot_id])) {\n        var comm = window.PyViz.kernels[plot_id].connectToComm(comm_id);\n        comm.open();\n        if (msg_handler) {\n          comm.onMsg = msg_handler;\n        }\n      } else if (typeof google != 'undefined' && google.colab.kernel != null) {\n        var comm_promise = google.colab.kernel.comms.open(comm_id)\n        comm_promise.then((comm) => {\n          window.PyViz.comms[comm_id] = comm;\n          if (msg_handler) {\n            var messages = comm.messages[Symbol.asyncIterator]();\n            function processIteratorResult(result) {\n              var message = result.value;\n              var content = {data: message.data};\n              var metadata = message.metadata || {comm_id};\n              var msg = {content, metadata}\n              msg_handler(msg);\n              return messages.next().then(processIteratorResult);\n            }\n            return messages.next().then(processIteratorResult);\n          }\n        }) \n        var sendClosure = (data, metadata, buffers, disposeOnDone) => {\n          return comm_promise.then((comm) => {\n            comm.send(data, metadata, buffers, disposeOnDone);\n          });\n        };\n        var comm = {\n          send: sendClosure\n        };\n      }\n      window.PyViz.comms[comm_id] = comm;\n      return comm;\n    }\n    window.PyViz.comm_manager = new JupyterCommManager();\n    \n\n\nvar JS_MIME_TYPE = 'application/javascript';\nvar HTML_MIME_TYPE = 'text/html';\nvar EXEC_MIME_TYPE = 'application/vnd.holoviews_exec.v0+json';\nvar CLASS_NAME = 'output';\n\n/**\n * Render data to the DOM node\n */\nfunction render(props, node) {\n  var div = document.createElement(\"div\");\n  var script = document.createElement(\"script\");\n  node.appendChild(div);\n  node.appendChild(script);\n}\n\n/**\n * Handle when a new output is added\n */\nfunction handle_add_output(event, handle) {\n  var output_area = handle.output_area;\n  var output = handle.output;\n  if ((output.data == undefined) || (!output.data.hasOwnProperty(EXEC_MIME_TYPE))) {\n    return\n  }\n  var id = output.metadata[EXEC_MIME_TYPE][\"id\"];\n  var toinsert = output_area.element.find(\".\" + CLASS_NAME.split(' ')[0]);\n  if (id !== undefined) {\n    var nchildren = toinsert.length;\n    var html_node = toinsert[nchildren-1].children[0];\n    html_node.innerHTML = output.data[HTML_MIME_TYPE];\n    var scripts = [];\n    var nodelist = html_node.querySelectorAll(\"script\");\n    for (var i in nodelist) {\n      if (nodelist.hasOwnProperty(i)) {\n        scripts.push(nodelist[i])\n      }\n    }\n\n    scripts.forEach( function (oldScript) {\n      var newScript = document.createElement(\"script\");\n      var attrs = [];\n      var nodemap = oldScript.attributes;\n      for (var j in nodemap) {\n        if (nodemap.hasOwnProperty(j)) {\n          attrs.push(nodemap[j])\n        }\n      }\n      attrs.forEach(function(attr) { newScript.setAttribute(attr.name, attr.value) });\n      newScript.appendChild(document.createTextNode(oldScript.innerHTML));\n      oldScript.parentNode.replaceChild(newScript, oldScript);\n    });\n    if (JS_MIME_TYPE in output.data) {\n      toinsert[nchildren-1].children[1].textContent = output.data[JS_MIME_TYPE];\n    }\n    output_area._hv_plot_id = id;\n    if ((window.Bokeh !== undefined) && (id in Bokeh.index)) {\n      window.PyViz.plot_index[id] = Bokeh.index[id];\n    } else {\n      window.PyViz.plot_index[id] = null;\n    }\n  } else if (output.metadata[EXEC_MIME_TYPE][\"server_id\"] !== undefined) {\n    var bk_div = document.createElement(\"div\");\n    bk_div.innerHTML = output.data[HTML_MIME_TYPE];\n    var script_attrs = bk_div.children[0].attributes;\n    for (var i = 0; i < script_attrs.length; i++) {\n      toinsert[toinsert.length - 1].childNodes[1].setAttribute(script_attrs[i].name, script_attrs[i].value);\n    }\n    // store reference to server id on output_area\n    output_area._bokeh_server_id = output.metadata[EXEC_MIME_TYPE][\"server_id\"];\n  }\n}\n\n/**\n * Handle when an output is cleared or removed\n */\nfunction handle_clear_output(event, handle) {\n  var id = handle.cell.output_area._hv_plot_id;\n  var server_id = handle.cell.output_area._bokeh_server_id;\n  if (((id === undefined) || !(id in PyViz.plot_index)) && (server_id !== undefined)) { return; }\n  var comm = window.PyViz.comm_manager.get_client_comm(\"hv-extension-comm\", \"hv-extension-comm\", function () {});\n  if (server_id !== null) {\n    comm.send({event_type: 'server_delete', 'id': server_id});\n    return;\n  } else if (comm !== null) {\n    comm.send({event_type: 'delete', 'id': id});\n  }\n  delete PyViz.plot_index[id];\n  if ((window.Bokeh !== undefined) & (id in window.Bokeh.index)) {\n    var doc = window.Bokeh.index[id].model.document\n    doc.clear();\n    const i = window.Bokeh.documents.indexOf(doc);\n    if (i > -1) {\n      window.Bokeh.documents.splice(i, 1);\n    }\n  }\n}\n\n/**\n * Handle kernel restart event\n */\nfunction handle_kernel_cleanup(event, handle) {\n  delete PyViz.comms[\"hv-extension-comm\"];\n  window.PyViz.plot_index = {}\n}\n\n/**\n * Handle update_display_data messages\n */\nfunction handle_update_output(event, handle) {\n  handle_clear_output(event, {cell: {output_area: handle.output_area}})\n  handle_add_output(event, handle)\n}\n\nfunction register_renderer(events, OutputArea) {\n  function append_mime(data, metadata, element) {\n    // create a DOM node to render to\n    var toinsert = this.create_output_subarea(\n    metadata,\n    CLASS_NAME,\n    EXEC_MIME_TYPE\n    );\n    this.keyboard_manager.register_events(toinsert);\n    // Render to node\n    var props = {data: data, metadata: metadata[EXEC_MIME_TYPE]};\n    render(props, toinsert[0]);\n    element.append(toinsert);\n    return toinsert\n  }\n\n  events.on('output_added.OutputArea', handle_add_output);\n  events.on('output_updated.OutputArea', handle_update_output);\n  events.on('clear_output.CodeCell', handle_clear_output);\n  events.on('delete.Cell', handle_clear_output);\n  events.on('kernel_ready.Kernel', handle_kernel_cleanup);\n\n  OutputArea.prototype.register_mime_type(EXEC_MIME_TYPE, append_mime, {\n    safe: true,\n    index: 0\n  });\n}\n\nif (window.Jupyter !== undefined) {\n  try {\n    var events = require('base/js/events');\n    var OutputArea = require('notebook/js/outputarea').OutputArea;\n    if (OutputArea.prototype.mime_types().indexOf(EXEC_MIME_TYPE) == -1) {\n      register_renderer(events, OutputArea);\n    }\n  } catch(err) {\n  }\n}\n",
      "application/vnd.holoviews_load.v0+json": ""
     },
     "metadata": {},
     "output_type": "display_data"
    },
    {
     "data": {
      "text/html": [
       "<style>*[data-root-id],\n",
       "*[data-root-id] > * {\n",
       "  box-sizing: border-box;\n",
       "  font-family: var(--jp-ui-font-family);\n",
       "  font-size: var(--jp-ui-font-size1);\n",
       "  color: var(--vscode-editor-foreground, var(--jp-ui-font-color1));\n",
       "}\n",
       "\n",
       "/* Override VSCode background color */\n",
       ".cell-output-ipywidget-background:has(\n",
       "    > .cell-output-ipywidget-background > .lm-Widget > *[data-root-id]\n",
       "  ),\n",
       ".cell-output-ipywidget-background:has(> .lm-Widget > *[data-root-id]) {\n",
       "  background-color: transparent !important;\n",
       "}\n",
       "</style>"
      ]
     },
     "metadata": {},
     "output_type": "display_data"
    },
    {
     "data": {
      "application/vnd.holoviews_exec.v0+json": "",
      "text/html": [
       "<div id='p1002'>\n",
       "  <div id=\"ed4f4c01-892e-4b38-b963-a6c9d1c96f60\" data-root-id=\"p1002\" style=\"display: contents;\"></div>\n",
       "</div>\n",
       "<script type=\"application/javascript\">(function(root) {\n",
       "  var docs_json = {\"4316e5c6-d3ab-42cd-bf18-e2dd9f18bdaa\":{\"version\":\"3.4.0\",\"title\":\"Bokeh Application\",\"roots\":[{\"type\":\"object\",\"name\":\"panel.models.browser.BrowserInfo\",\"id\":\"p1002\"},{\"type\":\"object\",\"name\":\"panel.models.comm_manager.CommManager\",\"id\":\"p1003\",\"attributes\":{\"plot_id\":\"p1002\",\"comm_id\":\"82eafd126b67491cb6412dff23efbc78\",\"client_comm_id\":\"70718b62a18b4210bf8f7f9800a19e18\"}}],\"defs\":[{\"type\":\"model\",\"name\":\"ReactiveHTML1\"},{\"type\":\"model\",\"name\":\"FlexBox1\",\"properties\":[{\"name\":\"align_content\",\"kind\":\"Any\",\"default\":\"flex-start\"},{\"name\":\"align_items\",\"kind\":\"Any\",\"default\":\"flex-start\"},{\"name\":\"flex_direction\",\"kind\":\"Any\",\"default\":\"row\"},{\"name\":\"flex_wrap\",\"kind\":\"Any\",\"default\":\"wrap\"},{\"name\":\"justify_content\",\"kind\":\"Any\",\"default\":\"flex-start\"},{\"name\":\"gap\",\"kind\":\"Any\",\"default\":\"\"}]},{\"type\":\"model\",\"name\":\"FloatPanel1\",\"properties\":[{\"name\":\"config\",\"kind\":\"Any\",\"default\":{\"type\":\"map\"}},{\"name\":\"contained\",\"kind\":\"Any\",\"default\":true},{\"name\":\"position\",\"kind\":\"Any\",\"default\":\"right-top\"},{\"name\":\"offsetx\",\"kind\":\"Any\",\"default\":null},{\"name\":\"offsety\",\"kind\":\"Any\",\"default\":null},{\"name\":\"theme\",\"kind\":\"Any\",\"default\":\"primary\"},{\"name\":\"status\",\"kind\":\"Any\",\"default\":\"normalized\"}]},{\"type\":\"model\",\"name\":\"GridStack1\",\"properties\":[{\"name\":\"mode\",\"kind\":\"Any\",\"default\":\"warn\"},{\"name\":\"ncols\",\"kind\":\"Any\",\"default\":null},{\"name\":\"nrows\",\"kind\":\"Any\",\"default\":null},{\"name\":\"allow_resize\",\"kind\":\"Any\",\"default\":true},{\"name\":\"allow_drag\",\"kind\":\"Any\",\"default\":true},{\"name\":\"state\",\"kind\":\"Any\",\"default\":[]}]},{\"type\":\"model\",\"name\":\"drag1\",\"properties\":[{\"name\":\"slider_width\",\"kind\":\"Any\",\"default\":5},{\"name\":\"slider_color\",\"kind\":\"Any\",\"default\":\"black\"},{\"name\":\"value\",\"kind\":\"Any\",\"default\":50}]},{\"type\":\"model\",\"name\":\"click1\",\"properties\":[{\"name\":\"terminal_output\",\"kind\":\"Any\",\"default\":\"\"},{\"name\":\"debug_name\",\"kind\":\"Any\",\"default\":\"\"},{\"name\":\"clears\",\"kind\":\"Any\",\"default\":0}]},{\"type\":\"model\",\"name\":\"FastWrapper1\",\"properties\":[{\"name\":\"object\",\"kind\":\"Any\",\"default\":null},{\"name\":\"style\",\"kind\":\"Any\",\"default\":null}]},{\"type\":\"model\",\"name\":\"NotificationAreaBase1\",\"properties\":[{\"name\":\"js_events\",\"kind\":\"Any\",\"default\":{\"type\":\"map\"}},{\"name\":\"position\",\"kind\":\"Any\",\"default\":\"bottom-right\"},{\"name\":\"_clear\",\"kind\":\"Any\",\"default\":0}]},{\"type\":\"model\",\"name\":\"NotificationArea1\",\"properties\":[{\"name\":\"js_events\",\"kind\":\"Any\",\"default\":{\"type\":\"map\"}},{\"name\":\"notifications\",\"kind\":\"Any\",\"default\":[]},{\"name\":\"position\",\"kind\":\"Any\",\"default\":\"bottom-right\"},{\"name\":\"_clear\",\"kind\":\"Any\",\"default\":0},{\"name\":\"types\",\"kind\":\"Any\",\"default\":[{\"type\":\"map\",\"entries\":[[\"type\",\"warning\"],[\"background\",\"#ffc107\"],[\"icon\",{\"type\":\"map\",\"entries\":[[\"className\",\"fas fa-exclamation-triangle\"],[\"tagName\",\"i\"],[\"color\",\"white\"]]}]]},{\"type\":\"map\",\"entries\":[[\"type\",\"info\"],[\"background\",\"#007bff\"],[\"icon\",{\"type\":\"map\",\"entries\":[[\"className\",\"fas fa-info-circle\"],[\"tagName\",\"i\"],[\"color\",\"white\"]]}]]}]}]},{\"type\":\"model\",\"name\":\"Notification\",\"properties\":[{\"name\":\"background\",\"kind\":\"Any\",\"default\":null},{\"name\":\"duration\",\"kind\":\"Any\",\"default\":3000},{\"name\":\"icon\",\"kind\":\"Any\",\"default\":null},{\"name\":\"message\",\"kind\":\"Any\",\"default\":\"\"},{\"name\":\"notification_type\",\"kind\":\"Any\",\"default\":null},{\"name\":\"_destroyed\",\"kind\":\"Any\",\"default\":false}]},{\"type\":\"model\",\"name\":\"TemplateActions1\",\"properties\":[{\"name\":\"open_modal\",\"kind\":\"Any\",\"default\":0},{\"name\":\"close_modal\",\"kind\":\"Any\",\"default\":0}]},{\"type\":\"model\",\"name\":\"BootstrapTemplateActions1\",\"properties\":[{\"name\":\"open_modal\",\"kind\":\"Any\",\"default\":0},{\"name\":\"close_modal\",\"kind\":\"Any\",\"default\":0}]},{\"type\":\"model\",\"name\":\"TemplateEditor1\",\"properties\":[{\"name\":\"layout\",\"kind\":\"Any\",\"default\":[]}]},{\"type\":\"model\",\"name\":\"MaterialTemplateActions1\",\"properties\":[{\"name\":\"open_modal\",\"kind\":\"Any\",\"default\":0},{\"name\":\"close_modal\",\"kind\":\"Any\",\"default\":0}]},{\"type\":\"model\",\"name\":\"copy_to_clipboard1\",\"properties\":[{\"name\":\"fill\",\"kind\":\"Any\",\"default\":\"none\"},{\"name\":\"value\",\"kind\":\"Any\",\"default\":null}]}]}};\n",
       "  var render_items = [{\"docid\":\"4316e5c6-d3ab-42cd-bf18-e2dd9f18bdaa\",\"roots\":{\"p1002\":\"ed4f4c01-892e-4b38-b963-a6c9d1c96f60\"},\"root_ids\":[\"p1002\"]}];\n",
       "  var docs = Object.values(docs_json)\n",
       "  if (!docs) {\n",
       "    return\n",
       "  }\n",
       "  const py_version = docs[0].version.replace('rc', '-rc.').replace('.dev', '-dev.')\n",
       "  function embed_document(root) {\n",
       "    var Bokeh = get_bokeh(root)\n",
       "    Bokeh.embed.embed_items_notebook(docs_json, render_items);\n",
       "    for (const render_item of render_items) {\n",
       "      for (const root_id of render_item.root_ids) {\n",
       "\tconst id_el = document.getElementById(root_id)\n",
       "\tif (id_el.children.length && (id_el.children[0].className === 'bk-root')) {\n",
       "\t  const root_el = id_el.children[0]\n",
       "\t  root_el.id = root_el.id + '-rendered'\n",
       "\t}\n",
       "      }\n",
       "    }\n",
       "  }\n",
       "  function get_bokeh(root) {\n",
       "    if (root.Bokeh === undefined) {\n",
       "      return null\n",
       "    } else if (root.Bokeh.version !== py_version) {\n",
       "      if (root.Bokeh.versions === undefined || !root.Bokeh.versions.has(py_version)) {\n",
       "\treturn null\n",
       "      }\n",
       "      return root.Bokeh.versions.get(py_version);\n",
       "    } else if (root.Bokeh.version === py_version) {\n",
       "      return root.Bokeh\n",
       "    }\n",
       "    return null\n",
       "  }\n",
       "  function is_loaded(root) {\n",
       "    var Bokeh = get_bokeh(root)\n",
       "    return (Bokeh != null && Bokeh.Panel !== undefined)\n",
       "  }\n",
       "  if (is_loaded(root)) {\n",
       "    embed_document(root);\n",
       "  } else {\n",
       "    var attempts = 0;\n",
       "    var timer = setInterval(function(root) {\n",
       "      if (is_loaded(root)) {\n",
       "        clearInterval(timer);\n",
       "        embed_document(root);\n",
       "      } else if (document.readyState == \"complete\") {\n",
       "        attempts++;\n",
       "        if (attempts > 200) {\n",
       "          clearInterval(timer);\n",
       "\t  var Bokeh = get_bokeh(root)\n",
       "\t  if (Bokeh == null || Bokeh.Panel == null) {\n",
       "            console.warn(\"Panel: ERROR: Unable to run Panel code because Bokeh or Panel library is missing\");\n",
       "\t  } else {\n",
       "\t    console.warn(\"Panel: WARNING: Attempting to render but not all required libraries could be resolved.\")\n",
       "\t    embed_document(root)\n",
       "\t  }\n",
       "        }\n",
       "      }\n",
       "    }, 25, root)\n",
       "  }\n",
       "})(window);</script>"
      ]
     },
     "metadata": {
      "application/vnd.holoviews_exec.v0+json": {
       "id": "p1002"
      }
     },
     "output_type": "display_data"
    },
    {
     "data": {
      "text/html": [
       "\n",
       "<div class=\"logo-block\">\n",
       "<img src='data:image/png;base64,iVBORw0KGgoAAAANSUhEUgAAAEAAAABACAYAAACqaXHeAAAABHNCSVQICAgIfAhkiAAAAAlwSFlz\n",
       "AAAB+wAAAfsBxc2miwAAABl0RVh0U29mdHdhcmUAd3d3Lmlua3NjYXBlLm9yZ5vuPBoAAA6zSURB\n",
       "VHic7ZtpeFRVmsf/5966taWqUlUJ2UioBBJiIBAwCZtog9IOgjqACsogKtqirT2ttt069nQ/zDzt\n",
       "tI4+CrJIREFaFgWhBXpUNhHZQoKBkIUASchWla1S+3ar7r1nPkDaCAnZKoQP/D7mnPOe9/xy76n3\n",
       "nFSAW9ziFoPFNED2LLK5wcyBDObkb8ZkxuaoSYlI6ZcOKq1eWFdedqNzGHQBk9RMEwFAASkk0Xw3\n",
       "ETacDNi2vtvc7L0ROdw0AjoSotQVkKSvHQz/wRO1lScGModBFbDMaNRN1A4tUBCS3lk7BWhQkgpD\n",
       "lG4852/+7DWr1R3uHAZVQDsbh6ZPN7CyxUrCzJMRouusj0ipRwD2uKm0Zn5d2dFwzX1TCGhnmdGo\n",
       "G62Nna+isiUqhkzuKrkQaJlPEv5mFl2fvGg2t/VnzkEV8F5ioioOEWkLG86fvbpthynjdhXYZziQ\n",
       "x1hC9J2NFyi8vCTt91Fh04KGip0AaG9zuCk2wQCVyoNU3Hjezee9bq92duzzTmxsRJoy+jEZZZYo\n",
       "GTKJ6SJngdJqAfRzpze0+jHreUtPc7gpBLQnIYK6BYp/uGhw9YK688eu7v95ysgshcg9qSLMo3JC\n",
       "4jqLKQFBgdKDPoQ+Pltb8dUyQLpeDjeVgI6EgLIQFT5tEl3rn2losHVsexbZ3EyT9wE1uGdkIPcy\n",
       "BGxn8QUq1QrA5nqW5i2tLqvrrM9NK6AdkVIvL9E9bZL/oyfMVd/jqvc8LylzRBKDJSzIExwhQzuL\n",
       "QYGQj4rHfFTc8mUdu3E7yoLtbTe9gI4EqVgVkug2i5+uXGo919ixbRog+3fTbQ8qJe4ZOYNfMoTI\n",
       "OoshUNosgO60AisX15aeI2PSIp5KiFLI9ubb1vV3Qb2ltwLakUCDAkWX7/nHKRmmGIl9VgYsUhJm\n",
       "2NXjKYADtM1ygne9QQDIXlk49FBstMKx66D1v4+XuQr7vqTe0VcBHQlRWiOCbmmSYe2SqtL6q5rJ\n",
       "zsTb7lKx3FKOYC4DoqyS/B5bvLPxvD9Qtf6saxYLQGJErmDOdOMr/zo96km1nElr8bmPOBwI9COv\n",
       "HnFPRIwmkSOv9kcAS4heRsidOkpeWBgZM+UBrTFAXNYL5Vf2ii9c1trNzpYdaoVil3WIc+wdk+gQ\n",
       "noie3ecCcxt9ITcLAPWt/laGEO/9U6PmzZkenTtsSMQ8uYywJVW+grCstAvCIaAdArAsIWkRDDs/\n",
       "KzLm2YcjY1Lv0UdW73HabE9n6V66cxSzfEmuJssTpKGVp+0vHq73FwL46eOjpMpbRAnNmJFrGJNu\n",
       "Ukf9Yrz+3rghiumCKNXXWPhLYcjxGsIpoCMsIRoFITkW8AuyM8jC1+/QLx4bozCEJIq38+1rtpR6\n",
       "V/yzb8eBlRb3fo5l783N0CWolAzJHaVNzkrTzlEp2bQ2q3TC5gn6wpnoQAmwSiGh2GitnTmVMc5O\n",
       "UyfKWUKCIsU7+fZDKwqdT6DDpvkzAX4/+AMFjk0tDp5GRXLpQ2MUmhgDp5gxQT8+Y7hyPsMi8uxF\n",
       "71H0oebujHALECjFKaW9Lm68n18wXp2kVzIcABytD5iXFzg+WVXkegpAsOOYziqo0OkK76GyquC3\n",
       "ltZAzMhhqlSNmmWTE5T6e3IN05ITFLM4GdN0vtZ3ob8Jh1NAKXFbm5PtLU/eqTSlGjkNAJjdgn/N\n",
       "aedXa0tdi7+t9G0FIF49rtMSEgAs1kDLkTPO7ebm4IUWeyh1bKomXqlgMG6kJmHcSM0clYLJ8XtR\n",
       "1GTnbV3F6I5wCGikAb402npp1h1s7LQUZZSMIfALFOuL3UUrfnS8+rez7v9qcold5tilgHbO1fjK\n",
       "9ubb17u9oshxzMiUBKXWqJNxd+fqb0tLVs4lILFnK71H0Ind7uiPgACVcFJlrb0tV6DzxqqTIhUM\n",
       "CwDf1/rrVhTa33/3pGPxJYdQ2l2cbgVcQSosdx8uqnDtbGjh9SlDVSMNWhlnilfqZk42Th2ZpLpf\n",
       "xrHec5e815zrr0dfBZSwzkZfqsv+1FS1KUknUwPARVvItfKUY+cn57yP7qv07UE3p8B2uhUwLk09\n",
       "e0SCOrK+hbdYHYLjRIl71wWzv9jpEoeOHhGRrJAzyEyNiJuUqX0g2sBN5kGK6y2Blp5M3lsB9Qh4\n",
       "y2Ja6x6+i0ucmKgwMATwhSjdUu49tKrQ/pvN5d53ml2CGwCmJipmKjgmyuaXzNeL2a0AkQ01Th5j\n",
       "2DktO3Jyk8f9vcOBQHV94OK+fPumJmvQHxJoWkaKWq9Vs+yUsbq0zGT1I4RgeH2b5wef7+c7bl8F\n",
       "eKgoHVVZa8ZPEORzR6sT1BzDUAD/d9F78e2Tzv99v8D+fLVTqAKAsbGamKey1Mt9Ann4eH3gTXTz\n",
       "idWtAJ8PQWOk7NzSeQn/OTHDuEikVF1R4z8BQCy+6D1aWRfY0tTGG2OM8rRoPaeIj5ZHzJxszElN\n",
       "VM8K8JS5WOfv8mzRnQAKoEhmt8gyPM4lU9SmBK1MCQBnW4KONT86v1hZ1PbwSXPw4JWussVjtH9Y\n",
       "NCoiL9UoH/6PSu8jFrfY2t36erQHXLIEakMi1SydmzB31h3GGXFDFNPaK8Rme9B79Ixrd0WN+1ij\n",
       "NRQ/doRmuFLBkHSTOm5GruG+pFjFdAmorG4IXH1Qua6ASniclfFtDYt+oUjKipPrCQB7QBQ2lrgP\n",
       "fFzm+9XWUtcqJ3/5vDLDpJ79XHZk3u8nGZ42qlj1+ydtbxysCezrydp6ugmipNJ7WBPB5tydY0jP\n",
       "HaVNzs3QzeE4ZpTbI+ZbnSFPbVOw9vsfnVvqWnirPyCNGD08IlqtYkh2hjZ5dErEQzoNm+6ykyOt\n",
       "Lt5/PQEuSRRKo22VkydK+vvS1XEKlhCJAnsqvcVvH7f/ZU2R67eXbMEGAMiIV5oWZWiWvz5Fv2xG\n",
       "sjqNJQRvn3Rs2lji/lNP19VjAQDgD7FHhujZB9OGqYxRkZxixgRDVlqS6uEOFaJUVu0rPFzctrnF\n",
       "JqijImVp8dEKVWyUXDk92zAuMZ6bFwpBU1HrOw6AdhQgUooChb0+ItMbWJitSo5Ws3IAOGEOtL53\n",
       "0vHZih9sC4vtofZ7Qu6523V/fmGcds1TY3V36pUsBwAbSlxnVh2xLfAD/IAIMDf7XYIkNmXfpp2l\n",
       "18rkAJAy9HKFaIr/qULkeQQKy9zf1JgDB2uaeFNGijo5QsUyacNUUTOnGO42xSnv4oOwpDi1zYkc\n",
       "efUc3I5Gk6PhyTuVKaOGyLUAYPGIoY9Pu/atL/L92+4q9wbflRJ2Trpm/jPjdBtfnqB/dIThcl8A\n",
       "KG7hbRuKnb8qsQsVvVlTrwQAQMUlf3kwJI24Z4JhPMtcfng5GcH49GsrxJpGvvHIaeem2ma+KSjQ\n",
       "lIwUdYyCY8j4dE1KzijNnIP2llF2wcXNnsoapw9XxsgYAl6k+KzUXbi2yP3KR2ecf6z3BFsBICdW\n",
       "nvnIaG3eHybqX7vbpEqUMT+9OL4Qpe8VON7dXuFd39v19FoAABRVePbGGuXTszO0P7tu6lghUonE\n",
       "llRdrhArLvmKdh9u29jcFiRRkfLUxBiFNiqSU9icoZQHo5mYBI1MBgBH6wMNb+U7Pnw337H4gi1Y\n",
       "ciWs+uks3Z9fztUvfzxTm9Ne8XXkvQLHNytOOZeiD4e0PgkAIAYCYknKUNUDSXEKzdWNpnil7r4p\n",
       "xqkjTarZMtk/K8TQ6Qve78qqvXurGwIJqcOUKfUWHsm8KGvxSP68YudXq4pcj39X49uOK2X142O0\n",
       "Tz5/u/7TVybqH0rSya6ZBwD21/gubbrgWdDgEOx9WUhfBaC2ibcEBYm7a7x+ukrBMNcEZggyR0TE\n",
       "T8zUPjikQ4VosQZbTpS4vqizBKvqmvjsqnpfzaZyx9JPiz1/bfGKdgD45XB1zoIMzYbfTdS/NClB\n",
       "Gct0USiY3YL/g0LHy/uq/Ef6uo5+n0R/vyhp17Klpge763f8rMu6YU/zrn2nml+2WtH+Z+5IAAFc\n",
       "2bUTdTDOSNa9+cQY7YLsOIXhevEkCvzph7a8laecz/Un/z4/Ae04XeL3UQb57IwU9ZDr9UuKVajv\n",
       "nxp1+1UVIo/LjztZkKH59fO3G/JemqCfmaCRqbqbd90ZZ8FfjtkfAyD0J/9+C2h1hDwsSxvGjNDc\n",
       "b4zk5NfrSwiQblLHzZhg+Jf4aPlUwpDqkQqa9nimbt1/TDH8OitGMaQnj+RJS6B1fbF7SY1TqO5v\n",
       "/v0WAADl1f7zokgS7s7VT2DZ7pegUjBM7mjtiDZbcN4j0YrHH0rXpCtY0qPX0cVL0rv5jv/ZXend\n",
       "0u/EESYBAFBU4T4Qa5TflZOhTe7pmKpaP8kCVUVw1+yhXfJWvn1P3hnXi33JsTN6PnP3hHZ8Z3/h\n",
       "aLHzmkNPuPj7Bc/F/Q38CwjTpSwQXgE4Vmwry9tpfq/ZFgqFMy4AVDtCvi8rvMvOmv0N4YwbVgEA\n",
       "sPM72/KVnzfspmH7HQGCRLG2yL1+z8XwvPcdCbsAANh+xPzstgMtxeGKt+6MK3/tacfvwhWvIwMi\n",
       "oKEBtm0H7W+UVfkc/Y1V0BhoPlDr/w1w/eu1vjIgAgDg22OtX6/eYfnEz/focrZTHAFR+PSs56/7\n",
       "q32nwpjazxgwAQCwcU/T62t3WL7r6/jVRa6/byp1rei+Z98ZUAEAhEPHPc8fKnTU9nbgtnOe8h0l\n",
       "9hcGIqmODLQAHCy2Xti6v/XNRivf43f4fFvIteu854+VHnR7q9tfBlwAAGz+pnndB9vM26UebAe8\n",
       "SLHujPOTPVW+rwY+sxskAAC2HrA8t2Vvc7ffP1r9o+vwR2dcr92InIAbKKC1FZ5tB1tf+/G8p8sv\n",
       "N/9Q5zd/XR34LYCwV5JdccMEAMDBk45DH243r/X4xGvqxFa/GNpS7n6rwOwNWwHVE26oAADYurf1\n",
       "zx/utOzt+DMKYM0p17YtZZ5VNzqfsB2HewG1WXE8PoZ7gOclbTIvynZf9JV+fqZtfgs/8F/Nu5rB\n",
       "EIBmJ+8QRMmpU7EzGRsf2FzuePqYRbzh/zE26EwdrT10f6r6o8HOYzCJB9Dpff8tbnGLG8L/A/WE\n",
       "roTBs2RqAAAAAElFTkSuQmCC'\n",
       "     style='height:25px; border-radius:12px; display: inline-block; float: left; vertical-align: middle'></img>\n",
       "\n",
       "\n",
       "  <img src='data:image/png;base64,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'\n",
       "       style='height:15px; border-radius:12px; display: inline-block; float: left'></img>\n",
       "  \n",
       "\n",
       "\n",
       "\n",
       "\n",
       "</div>\n"
      ]
     },
     "metadata": {},
     "output_type": "display_data"
    },
    {
     "data": {},
     "metadata": {},
     "output_type": "display_data"
    },
    {
     "data": {
      "application/vnd.holoviews_exec.v0+json": "",
      "text/html": [
       "<div id='p1004'>\n",
       "  <div id=\"f711894f-d7de-450a-8e6f-504541138f7e\" data-root-id=\"p1004\" style=\"display: contents;\"></div>\n",
       "</div>\n",
       "<script type=\"application/javascript\">(function(root) {\n",
       "  var docs_json = {\"c0308630-3de5-42b8-b7ce-7d4cade0ea61\":{\"version\":\"3.4.0\",\"title\":\"Bokeh Application\",\"roots\":[{\"type\":\"object\",\"name\":\"Row\",\"id\":\"p1004\",\"attributes\":{\"name\":\"Row00867\",\"tags\":[\"embedded\"],\"stylesheets\":[\"\\n:host(.pn-loading):before, .pn-loading:before {\\n  background-color: #c3c3c3;\\n  mask-size: auto calc(min(50%, 400px));\\n  -webkit-mask-size: auto calc(min(50%, 400px));\\n}\",{\"type\":\"object\",\"name\":\"ImportedStyleSheet\",\"id\":\"p1007\",\"attributes\":{\"url\":\"https://cdn.holoviz.org/panel/1.4.0/dist/css/loading.css\"}},{\"type\":\"object\",\"name\":\"ImportedStyleSheet\",\"id\":\"p1062\",\"attributes\":{\"url\":\"https://cdn.holoviz.org/panel/1.4.0/dist/css/listpanel.css\"}},{\"type\":\"object\",\"name\":\"ImportedStyleSheet\",\"id\":\"p1005\",\"attributes\":{\"url\":\"https://cdn.holoviz.org/panel/1.4.0/dist/bundled/theme/default.css\"}},{\"type\":\"object\",\"name\":\"ImportedStyleSheet\",\"id\":\"p1006\",\"attributes\":{\"url\":\"https://cdn.holoviz.org/panel/1.4.0/dist/bundled/theme/native.css\"}}],\"min_width\":300,\"margin\":0,\"sizing_mode\":\"stretch_width\",\"align\":\"start\",\"children\":[{\"type\":\"object\",\"name\":\"Spacer\",\"id\":\"p1008\",\"attributes\":{\"name\":\"HSpacer00873\",\"stylesheets\":[\"\\n:host(.pn-loading):before, .pn-loading:before {\\n  background-color: #c3c3c3;\\n  mask-size: auto calc(min(50%, 400px));\\n  -webkit-mask-size: auto calc(min(50%, 400px));\\n}\",{\"id\":\"p1007\"},{\"id\":\"p1005\"},{\"id\":\"p1006\"}],\"margin\":0,\"sizing_mode\":\"stretch_width\",\"align\":\"start\"}},{\"type\":\"object\",\"name\":\"Figure\",\"id\":\"p1015\",\"attributes\":{\"width\":300,\"height\":300,\"margin\":[5,10],\"sizing_mode\":\"fixed\",\"align\":\"start\",\"x_range\":{\"type\":\"object\",\"name\":\"Range1d\",\"id\":\"p1009\",\"attributes\":{\"tags\":[[[\"x\",\"x\",null]],[]],\"start\":-0.5,\"end\":0.5,\"reset_start\":-0.5,\"reset_end\":0.5}},\"y_range\":{\"type\":\"object\",\"name\":\"Range1d\",\"id\":\"p1010\",\"attributes\":{\"tags\":[[[\"y\",\"y\",null]],{\"type\":\"map\",\"entries\":[[\"invert_yaxis\",false],[\"autorange\",false]]}],\"start\":-0.5,\"end\":0.5,\"reset_start\":-0.5,\"reset_end\":0.5}},\"x_scale\":{\"type\":\"object\",\"name\":\"LinearScale\",\"id\":\"p1025\"},\"y_scale\":{\"type\":\"object\",\"name\":\"LinearScale\",\"id\":\"p1026\"},\"title\":{\"type\":\"object\",\"name\":\"Title\",\"id\":\"p1018\",\"attributes\":{\"text_color\":\"black\",\"text_font_size\":\"12pt\"}},\"renderers\":[{\"type\":\"object\",\"name\":\"GlyphRenderer\",\"id\":\"p1055\",\"attributes\":{\"data_source\":{\"type\":\"object\",\"name\":\"ColumnDataSource\",\"id\":\"p1046\",\"attributes\":{\"selected\":{\"type\":\"object\",\"name\":\"Selection\",\"id\":\"p1047\",\"attributes\":{\"indices\":[],\"line_indices\":[]}},\"selection_policy\":{\"type\":\"object\",\"name\":\"UnionRenderers\",\"id\":\"p1048\"},\"data\":{\"type\":\"map\",\"entries\":[[\"image\",[{\"type\":\"ndarray\",\"array\":{\"type\":\"bytes\",\"data\":\"AAAA/wAAAP8AAAD/AAAA/wAAAP8AAAD/AAAA/wAAAP8AAAD/AAAA/wAAAP8AAAD/AAAA/wAAAP8AAAD/AAAA/wAAAP8AAAD/AAAA/wAAAP8AAAD/AAAA/wAAAP8AAAD/AAAA/wAAAP8AAAD/AAAA/wAAAP8AAAD/AAAA/wAAAP8AAAD/AAAA/wAAAP8AAAD/AAAA/wAAAP8AAAD/AAAA/wAAAP8AAAD/AAAA/wAAAP8AAAD/AAAA/wAAAP8AAAD/AAAA/wAAAP8AAAD/AAAA/wAAAP8AAAD/AAAA/wAAAP8AAAD/AAAA/wAAAP8AAAD/AAAA/wAAAP8AAAD/AAAA/wAAAP8AAAD/AAAA/wAAAP8AAAD/AAAA/wAAAP8AAAD/AAAA/wAAAP8AAAD/AAAA/wAAAP8AAAD/AAAA/wAAAP8AAAD/AAAA/wAAAP8AAAD/AAAA/wAAAP8AAAD/AAAA/wAAAP8AAAD/AAAA/wAAAP8AAAD/AAAA/wAAAP8AAAD/AAAA/wAAAP8AAAD/AAAA/wAAAP8AAAD/AAAA/wAAAP8AAAD/AAAA/wAAAP8AAAD/AAAA/wAAAP8AAAD/AAAA/wAAAP8AAAD/AAAA/wAAAP8AAAD/AAAA/wAAAP8AAAD/AAAA/wAAAP8AAAD/AAAA/wAAAP8AAAD/AAAA/wAAAP8AAAD/AAAA/wAAAP8AAAD/AAAA/wAAAP8AAAD/AAAA/wAAAP8AAAD/AAAA/wAAAP8AAAD/AAAA/wAAAP8AAAD/AAAA/wAAAP9EMR3/5KVg/+SlYP/kpWD/5KVg/+SlYP/kpWD/5KVg/9+iXv/Fj1P/pnhG/51xQv9pTCz/AAAA/wAAAP8AAAD/AAAA/wAAAP8AAAD/AAAA/wAAAP8AAAD/AAAA/wAAAP8AAAD/AAAA/wAAAP8AAAD/AAAA/wAAAP8AAAD/AAAA/wAAAP8AAAD/AAAA/wAAAP8AAAD/AAAA/wAAAP8AAAD/AAAA/wAAAP8AAAD/AAAA/wAAAP8AAAD/AAAA/wAAAP8AAAD/AAAA/wAAAP8AAAD/AAAA/wAAAP8AAAD/AAAA/wAAAP8AAAD/AAAA/wAAAP8AAAD/AAAA/wAAAP8AAAD/AAAA/wAAAP8AAAD/AAAA/wAAAP8AAAD/AAAA/wAAAP8AAAD/AAAA/wAAAP8AAAD/AAAA/wAAAP8AAAD/AAAA/wAAAP8AAAD/AAAA/wAAAP8AAAD/AAAA/wAAAP8AAAD/AAAA/wAAAP8AAAD/AAAA/wAAAP8AAAD/AAAA/wAAAP8AAAD/AAAA/wAAAP8AAAD/zZRW/+SlYP/kpWD/5KVg/31bNf/kpWD/5KVg/+SlYP/kpWD/5KVg/2RIKv8AAAD/AAAA/8+WV//ho1//qntI/wAAAP8AAAD/AAAA/wAAAP8AAAD/AAAA/wAAAP8AAAD/AAAA/wAAAP8AAAD/AAAA/wAAAP8AAAD/AAAA/wAAAP8AAAD/AAAA/wAAAP8AAAD/AAAA/wAAAP8AAAD/AAAA/wAAAP8AAAD/AAAA/wAAAP8AAAD/AAAA/wAAAP8AAAD/AAAA/wAAAP8AAAD/AAAA/wAAAP8AAAD/AAAA/wAAAP8AAAD/AAAA/wAAAP8AAAD/AAAA/wAAAP8AAAD/AAAA/wAAAP8AAAD/AAAA/wAAAP8AAAD/AAAA/wAAAP8AAAD/AAAA/wAAAP8AAAD/AAAA/wAAAP8AAAD/AAAA/wAAAP8AAAD/AAAA/wAAAP8AAAD/AAAA/wAAAP8AAAD/Vj8k/+SlYP/anlz/AAAA/wAAAP8AAAD/AAAA/wAAAP8SDQf/STUf/5RrPv/kpWD/5KVg/yoeEv8AAAD/AAAA/wAAAP8AAAD/zJRW/+SlYP/kpWD/pnhG/wAAAP8AAAD/AAAA/wAAAP8AAAD/5KVg/+SlYP/kpWD/5KVg/9SZWf9ALhv/AAAA/wAAAP8AAAD/AAAA/wAAAP8AAAD/AAAA/wAAAP8AAAD/AAAA/wAAAP8AAAD/AAAA/wAAAP8AAAD/AAAA/wAAAP8AAAD/AAAA/wAAAP8AAAD/AAAA/wAAAP8AAAD/AAAA/wAAAP8AAAD/AAAA/wAAAP8AAAD/AAAA/wAAAP8AAAD/AAAA/wAAAP8AAAD/AAAA/wAAAP8AAAD/AAAA/wAAAP8AAAD/AAAA/wAAAP8AAAD/AAAA/wAAAP8AAAD/AAAA/wAAAP8AAAD/AAAA/wAAAP8AAAD/AAAA/wAAAP8AAAD/AAAA/wAAAP8AAAD/AAAA/wAAAP8AAAD/AAAA/wAAAP+oeUf/5KVg/+SlYP/kpWD/5KVg/9mdW/+neUb/zZRW/5duQP8gGA7/DAkF/wAAAP8AAAD/ZUkq/+CiXv8AAAD/AAAA/wAAAP8AAAD/AAAA/wAAAP/bnlz/BwUD/wAAAP8AAAD/AAAA/wAAAP8AAAD/AAAA/wMCAf/kpWD/5KVg/+SlYP/kpWD/5KVg/+SlYP/cn1z/rX5J/wAAAP8AAAD/AAAA/wAAAP8AAAD/AAAA/wAAAP8AAAD/AAAA/wAAAP8AAAD/AAAA/wAAAP8AAAD/AAAA/wAAAP8AAAD/AAAA/wAAAP8AAAD/AAAA/wAAAP8AAAD/AAAA/wAAAP8AAAD/AAAA/wAAAP8AAAD/AAAA/wAAAP8AAAD/AAAA/wAAAP8AAAD/AAAA/wAAAP8AAAD/AAAA/wAAAP8AAAD/AAAA/wAAAP8AAAD/AAAA/wAAAP8AAAD/AAAA/wAAAP8AAAD/AAAA/wAAAP8AAAD/AAAA/wAAAP8AAAD/AAAA/wAAAP8AAAD/EQ0H/8SOU//kpWD/5KVg/8eQVP+Taj7/OioY/wAAAP8AAAD/36Je/9yfXf8AAAD/AAAA/wAAAP8AAAD/AAAA/wAAAP/kpWD/kmo+/wAAAP8AAAD/dZKR/6V3Rf/kpWD/1Zpa/wAAAP8AAAD/AAAA/wAAAP8AAAD/AAAA/wAAAP8AAAD/HxcN/+SlYP/kpWD/WUAm/x0VDP/fol7/5KVg/+SlYP8AAAD/AAAA/wAAAP8AAAD/AAAA/wAAAP8AAAD/AAAA/wAAAP8AAAD/AAAA/wAAAP8AAAD/AAAA/wAAAP8AAAD/AAAA/wAAAP8AAAD/AAAA/wAAAP8AAAD/AAAA/wAAAP8AAAD/AAAA/wAAAP8AAAD/AAAA/wAAAP8AAAD/AAAA/wAAAP8AAAD/AAAA/wAAAP8AAAD/AAAA/wAAAP8AAAD/AAAA/wAAAP8AAAD/AAAA/wAAAP8AAAD/AAAA/wAAAP8AAAD/AAAA/wAAAP8AAAD/AAAA/wAAAP8AAAD/AAAA/wAAAP8xIxX/1JlZ/+SlYP/kpWD/5KVg/+SlYP8AAAD/AAAA/wAAAP8AAAD/AAAA/0g0Hv9fRCj/AAAA/wAAAP8AAAD/AAAA/wAAAP8PCwb/5KVg/+SlYP/anlz/fVo1/+SlYP/kpWD/5KVg/+SlYP8XEQr/AAAA/wAAAP8AAAD/AAAA/wAAAP8AAAD/AAAA/wAAAP9TPCP/LSET/wAAAP8AAAD/AAAA/15FKP/kpWD/AAAA/wAAAP8AAAD/AAAA/wAAAP8AAAD/AAAA/wAAAP8AAAD/AAAA/wAAAP8AAAD/AAAA/wAAAP8AAAD/AAAA/wAAAP8AAAD/AAAA/wAAAP8AAAD/AAAA/wAAAP8AAAD/AAAA/wAAAP8AAAD/AAAA/wAAAP8AAAD/AAAA/wAAAP8AAAD/AAAA/wAAAP8AAAD/AAAA/wAAAP8AAAD/AAAA/wAAAP8AAAD/AAAA/wAAAP8AAAD/AAAA/wAAAP8AAAD/AAAA/wAAAP8AAAD/AAAA/wAAAP8AAAD/AAAA/15FKP+dckL/u4dP/9abWv/kpWD/5KVg/+SlYP/kpWD/AAAA/wAAAP8AAAD/AAAA/wEBAP/kpWD/5KVg/zUmFv8AAAD/AAAA/wAAAP8AAAD/toRN/+SlYP/kpWD/2p5c/1I8I//kpWD/5KVg/+SlYP/kpWD/5KVg/wAAAP8AAAD/AAAA/wAAAP8AAAD/AAAA/wAAAP9JNR//5KVg/+SlYP8BAQH/AAAA/wAAAP8AAAD/AAAA/9+iXv8XEQr/AAAA/wAAAP8AAAD/AAAA/wAAAP8AAAD/AAAA/wAAAP8AAAD/AAAA/wAAAP8AAAD/AAAA/wAAAP8AAAD/AAAA/wAAAP8AAAD/AAAA/wAAAP8AAAD/AAAA/wAAAP8AAAD/AAAA/wAAAP8AAAD/AAAA/wAAAP8AAAD/AAAA/wAAAP8AAAD/AAAA/wAAAP8AAAD/AAAA/wAAAP8AAAD/AAAA/wAAAP8AAAD/AAAA/wAAAP8AAAD/AAAA/wAAAP8AAAD/AAAA/wAAAP8AAAD/AAAA/69/Sv9HMx7/AAAA/wAAAP8AAAD/AAAA/wAAAP8kGg//vopQ/9ecW/+xgEr/X0Uo/wgGBP/SmFj/5KVg/+SlYP/kpWD/CwgF/wAAAP8AAAD/AAAA/+SlYP/kpWD/5KVg/+OkX/8AAAD/n8K9/+SlYP/kpWD/5KVg/+SlYP8oHhH/AAAA/wAAAP8AAAD/AAAA/wAAAP9UPST/5KVg/+SlYP/kpWD/3J9d/wAAAP8AAAD/AAAA/wAAAP/kpWD/5KVg/7mGTv8AAAD/AAAA/wAAAP8AAAD/AAAA/wAAAP8AAAD/AAAA/wAAAP8AAAD/AAAA/wAAAP8AAAD/AAAA/wAAAP8AAAD/AAAA/wAAAP8AAAD/AAAA/wAAAP8AAAD/AAAA/wAAAP8AAAD/AAAA/wAAAP8AAAD/AAAA/wAAAP8AAAD/AAAA/wAAAP8AAAD/AAAA/wAAAP8AAAD/AAAA/wAAAP8AAAD/AAAA/wAAAP8AAAD/AAAA/wAAAP8AAAD/AAAA/wAAAP8AAAD/CgcE/+SlYP/kpWD/AAAA/wAAAP8AAAD/AAAA/wAAAP8AAAD/AAAA/72JUP/kpWD/5KVg/+SlYP/kpWD/AgEB/+SlYP/kpWD/5KVg/+SlYP8AAAD/AAAA/zEkFf/kpWD/5KVg/+SlYP/kpWD/AAAA/5zDwf8AAAD/vIhP/+SlYP/kpWD/5KVg/wAAAP8AAAD/AAAA/wAAAP+AXTb/5KVg/+SlYP/kpWD/5KVg/+SlYP+vf0r/HhYN/8GMUf/kpWD/AAAA/wAAAP8AAAD/QzAc/35bNf8AAAD/AAAA/wAAAP8AAAD/AAAA/wAAAP8AAAD/AAAA/wAAAP8AAAD/AAAA/wAAAP8AAAD/AAAA/wAAAP8AAAD/AAAA/wAAAP8AAAD/AAAA/wAAAP8AAAD/AAAA/wAAAP8AAAD/AAAA/wAAAP8AAAD/AAAA/wAAAP8AAAD/AAAA/wAAAP8AAAD/AAAA/wAAAP8AAAD/AAAA/wAAAP8AAAD/AAAA/wAAAP8AAAD/AAAA/wAAAP8AAAD/XEMn/+SlYP/kpWD/y5NW/wAAAP8AAAD/AAAA/wAAAP8AAAD/AAAA/wAAAP/ZnVv/5KVg/+SlYP/kpWD/WkEm/wAAAP/kpWD/5KVg/+SlYP/kpWD/3aBd/wAAAP/kpWD/5KVg/+SlYP/kpWD/5KVg/zcoF/+cw8H/AAAA/wAAAP83KBf/5KVg/+SlYP8sIBL/AAAA/wAAAP+PZzz/5KVg/+SlYP/kpWD/5KVg/+SlYP+0gkz/PCwZ/+SlYP/kpWD/5KVg/wAAAP8AAAD/AAAA/wAAAP8AAAD/jmc8/0YzHv8AAAD/AAAA/wAAAP8mGxD/AAAA/wAAAP8AAAD/AAAA/wAAAP8AAAD/AAAA/wAAAP8AAAD/AAAA/wAAAP8AAAD/AAAA/wAAAP8AAAD/AAAA/wAAAP8AAAD/AAAA/wAAAP8AAAD/AAAA/wAAAP8AAAD/AAAA/wAAAP8AAAD/AAAA/wAAAP8AAAD/AAAA/wAAAP8AAAD/AAAA/wAAAP8AAAD/AAAA/wAAAP8BAQH/5KVg/+SlYP/kpWD/5KVg/wAAAP8AAAD/AAAA/wAAAP8AAAD/AAAA/wAAAP8AAAD/5KVg/+SlYP/kpWD/2Z1b/wAAAP8AAAD/5KVg/+SlYP/kpWD/5KVg/+SlYP/kpWD/5KVg/+SlYP/kpWD/5KVg/+SlYP+uilv/nMPB/0pdW/8uOjn/VEUx/+SlYP/kpWD/5KVg/wAAAP/CjFL/5KVg/+SlYP/foV7/kmk9/wAAAP8AAAD/AAAA/yMZD//kpWD/5KVg/+SlYP8AAAD/AAAA/wAAAP8AAAD/AAAA/wAAAP/kpWD/5KVg/yMaD//kpWD/5KVg/0czHv8AAAD/AAAA/wAAAP8AAAD/AAAA/wAAAP8AAAD/AAAA/wAAAP8AAAD/AAAA/wAAAP8AAAD/AAAA/wAAAP8AAAD/AAAA/wAAAP8AAAD/AAAA/wAAAP8AAAD/AAAA/wAAAP8AAAD/AAAA/wAAAP8AAAD/AAAA/wAAAP8AAAD/AAAA/wAAAP8AAAD/AAAA/wAAAP8bFAv/5KVg/+SlYP/kpWD/5KVg/+SlYP8AAAD/AAAA/wAAAP8AAAD/AAAA/wAAAP8AAAD/AAAA/+SlYP/kpWD/5KVg/wAAAP8AAAD/AAAA/9yfXf/kpWD/5KVg/+SlYP/kpWD/5KVg/+SlYP/kpWD/5KVg/+SlYP/kpWD/5KVg/5zDwf+cw8H/nMPB/9+nZ//kpWD/5KVg/+SlYP/SoGT/5KVg/+SlYP/kpWD/AAAA/wAAAP8AAAD/AAAA/wAAAP/kpWD/5KVg/+SlYP/kpWD/AAAA/wAAAP8AAAD/AAAA/wAAAP8AAAD/3aBd/8KNUv8bFAz/5KVg/+SlYP/kpWD/aUwt/wAAAP8AAAD/AAAA/wAAAP8AAAD/AAAA/wAAAP8AAAD/AAAA/wAAAP8AAAD/AAAA/wAAAP8AAAD/AAAA/wAAAP8AAAD/AAAA/wAAAP8AAAD/AAAA/wAAAP8AAAD/AAAA/wAAAP8AAAD/AAAA/wAAAP8AAAD/AAAA/wAAAP8AAAD/AAAA/wAAAP9hRin/5KVg/+SlYP8ZEwv/AwIB/+SlYP+BXjf/AAAA/wAAAP8AAAD/AAAA/wAAAP8AAAD/AAAA/wcFA//kpWD/5KVg/0o1H/+cw8H/ERUV/wAAAP+pekf/5KVg/+SlYP/kpWD/5KVg/+SlYP/kpWD/5KVg/+SlYP/kpWD/5KVg/+SlYP+cw8H/nMPB/5zDwf/kpWD/5KVg/+SlYP/kpWD/5KVg/+SlYP/kpWD/5KVg/wAAAP8AAAD/AAAA/wAAAP/Rp3D/5KVg/+SlYP/kpWD/5KVg/wAAAP8AAAD/AAAA/wAAAP8AAAD/xI5T/+SlYP8AAAD/AAAA/wAAAP8aFAv/5KVg/+SlYP+JZDr/AAAA/wAAAP8AAAD/AAAA/wAAAP8AAAD/AAAA/wAAAP8AAAD/AAAA/wAAAP8AAAD/AAAA/wAAAP8AAAD/AAAA/wAAAP8AAAD/AAAA/wAAAP8AAAD/AAAA/wAAAP8AAAD/AAAA/wAAAP8AAAD/AAAA/wAAAP8AAAD/AAAA/wAAAP8RDAf/5KVg/+SlYP9hRin/AAAA/wAAAP8cFAz/5KVg/+SlYP9mSiv/AAAA/wAAAP8AAAD/AAAA/wAAAP8kGg//5KVg/+SlYP8hGhL/nMPB/5zDwf87Skn/bU8u/+SlYP/kpWD/5KVg/+SlYP/kpWD/5KVg/+SlYP/kpWD/5KVg/+SlYP/kpWD/nMPB/5zDwf+vu6f/5KVg/+SlYP/kpWD/5KVg/+SlYP/kpWD/5KVg/+SlYP8AAAD/AAAA/wkKCv+lv7X/5KVg/+SlYP/kpWD/5KVg/+SlYP8WEQr/AAAA/wAAAP91VTH/5KVg/+SlYP/kpWD/BwUD/wAAAP8AAAD/AAAA/wAAAP/Umln/5KVg/3dWMv8AAAD/AAAA/wAAAP8AAAD/AAAA/wAAAP8AAAD/AAAA/wAAAP8AAAD/AAAA/wAAAP8AAAD/AAAA/wAAAP8AAAD/AAAA/wAAAP8AAAD/AAAA/wAAAP8AAAD/AAAA/wAAAP8AAAD/AAAA/wAAAP8AAAD/AAAA/wAAAP8AAAD/AAAA/9+iXv+leEb/AAAA/wAAAP8AAAD/36Fe/+SlYP/kpWD/5KVg/+SlYP/HkFT/AAAA/wAAAP8AAAD/TTgh/+SlYP/kpWD/5KVg/5zDwf+cw8H/nMPB/6yynP/kpWD/5KVg/+SlYP/kpWD/5KVg/+SlYP/kpWD/5KVg/+SlYP/kpWD/5KVg/7+0kf+cw8H/4qZj/+SlYP/kpWD/5KVg/+SlYP/kpWD/5KVg/+SlYP/kpWD/AAAA/y45Of+cw8H/46Vh/+SlYP/kpWD/5KVg/+SlYP/kpWD/FhEK/0w3IP/kpWD/5KVg/+SlYP/kpWD/5KVg/39cNv8AAAD/AAAA/wAAAP8AAAD/5KVg/+SlYP/kpWD/oXVE/wAAAP8AAAD/AAAA/wAAAP8AAAD/AAAA/wAAAP8AAAD/AAAA/wAAAP8AAAD/AAAA/wAAAP8AAAD/AAAA/wAAAP8AAAD/AAAA/wAAAP8AAAD/AAAA/wAAAP8AAAD/AAAA/wAAAP8AAAD/AAAA/wAAAP8AAAD/AAAA/wAAAP/Lk1b/AAAA/wAAAP8AAAD/AAAA/+SlYP/kpWD/5KVg/+SlYP/kpWD/5KVg/+SlYP/eoF3/OSoY/4JeN//kpWD/5KVg/+SlYP/jpWL/nMPB/5zDwf+iwbr/5KVg/+SlYP/kpWD/5KVg/+SlYP/kpWD/5KVg/+SlYP/kpWD/5KVg/+SlYP/kpWD/ncK//+SlYP/kpWD/5KVg/+SlYP/kpWD/5KVg/+SlYP/kpWD/5KVg/22Ih/+cw8H/xrGI/+SlYP/kpWD/5KVg/+SlYP/kpWD/5KVg/+SlYP/kpWD/5KVg/+SlYP/kpWD/5KVg/6F1RP/HkFT/5KVg/8WPU/9ZQSb/MCMU/+SlYP/kpWD/5KVg/+SlYP+fc0P/AAAA/wAAAP8AAAD/AAAA/wAAAP8AAAD/AAAA/wAAAP8AAAD/AAAA/wAAAP8AAAD/AAAA/wAAAP8AAAD/AAAA/wAAAP8AAAD/AAAA/wAAAP8AAAD/AAAA/wAAAP8AAAD/AAAA/wAAAP8AAAD/AAAA/wAAAP+HYTn/5KVg/xEMB/8AAAD/AAAA/1Q9I//kpWD/5KVg/+SlYP/kpWD/5KVg/+SlYP/kpWD/5KVg/+SlYP/kpWD/5KVg/+SlYP/kpWD/5KVg/9qpbf+cw8H/nMPB/+SlYP/kpWD/5KVg/+SlYP/kpWD/5KVg/+SlYP/kpWD/5KVg/+SlYP/kpWD/5KVg/8C0kf/kpWD/5KVg/+SlYP/kpWD/5KVg/+SlYP/kpWD/5KVg/+SlYP+cw8H/oMG8/+SlYP/kpWD/5KVg/+SlYP/kpWD/5KVg/+SlYP/kpWD/5KVg/+SlYP/kpWD/5KVg/+SlYP8AAAD/Vj4k/+SlYP/kpWD/5KVg/+SlYP8VDwn/SDUf/9OZWf/kpWD/5KVg/8KMUv8AAAD/AAAA/wAAAP8AAAD/AAAA/wAAAP8AAAD/AAAA/wAAAP8AAAD/AAAA/wAAAP8AAAD/AAAA/wAAAP8AAAD/AAAA/wAAAP8AAAD/AAAA/wAAAP8AAAD/AAAA/wAAAP8AAAD/AAAA/wAAAP8+LRr/qXtH/49oPP/kpWD/5KVg/+SlYP/BjFH/AAAA/wAAAP8AAAD/AAAA/wAAAP8JCwv/5KVg/+SlYP/kpWD/5KVg/+SlYP/kpWD/5KVg/+SlYP/kpWD/ybCE/5zDwf/kpWD/5KVg/+SlYP/kpWD/5KVg/+SlYP/kpWD/5KVg/+SlYP/kpWD/5KVg/+SlYP/kpWD/5KVg/+SlYP/kpWD/5KVg/+SlYP/kpWD/5KVg/+SlYP/kpWD/nMPB/+GmZP/kpWD/5KVg/+SlYP/kpWD/5KVg/+SlYP/kpWD/5KVg/+SlYP/kpWD/5KVg/+SlYP9/XDX/AAAA/wAAAP/kpWD/5KVg/+SlYP/YnVv/aIKB/wAAAP8AAAD/AAAA/wAAAP8AAAD/tIJM/wAAAP8AAAD/AAAA/wAAAP8AAAD/AAAA/wAAAP8AAAD/AAAA/wAAAP8AAAD/AAAA/wAAAP8AAAD/AAAA/wAAAP8AAAD/AAAA/wAAAP8AAAD/AAAA/wAAAP8AAAD/AAAA/wAAAP8cFAz/Kx8S/wAAAP8AAAD/UDoi/+SlYP/kpWD/5KVg/4dhOf8AAAD/AAAA/wAAAP8OERH/nMPB/9+nZv/kpWD/5KVg/+SlYP/kpWD/5KVg/+SlYP/kpWD/5KVg/+SlYP+xuqX/5KVh/+SlYP/kpWD/5KVg/+SlYP/kpWD/5KVg/+SlYP/kpWD/5KVg/+SlYP+zuaL/5KVg/+SlYP/kpWD/5KVg/+SlYP/kpWD/5KVg/+SlYP/kpWD/5KVg/7u2l//kpWD/5KVg/+SlYP/kpWD/5KVg/+SlYP/kpWD/5KVg/+SlYP/kpWD/5KVg/+SlYP/kpWD/AAAA/wAAAP8AAAD/5KVg/+SlYP/kpWD/yqp6/wAAAP8AAAD/AAAA/wAAAP8AAAD/AAAA/x8WDf80JRb/AAAA/wAAAP8AAAD/AAAA/wAAAP8AAAD/AAAA/wAAAP8AAAD/AAAA/wAAAP8AAAD/AAAA/wAAAP8AAAD/AAAA/wAAAP8AAAD/AAAA/wAAAP8AAAD/AAAA/wAAAP8AAAD/aUwt/wAAAP8AAAD/AAAA/wAAAP/kpWD/5KVg/+SlYP/kpWD/15ta/wAAAP8YHR3/nMPB/5zDwf+vu6j/5KVg/+SlYP/kpWD/5KVg/+SlYP/kpWD/5KVg/+SlYP/kpWD/5KVg/+OmYv/kpWD/5KVg/+SlYP/kpWD/5KVg/+SlYP/kpWD/5KVg/+GmZP+cw8H/xLKL/+SlYP/kpWD/5KVg/+SlYP/kpWD/5KVg/+SlYP/kpWD/5KVg/+SlYP/kpWD/5KVg/+SlYP/kpWD/5KVg/+SlYP/kpWD/5KVg/+SlYP/kpWD/5KVg/+SlYP/kpWD/ybCE/2R9e/8AAAD/AAAA/9GXWP/kpWD/5KVg/yIYDv8AAAD/AAAA/wAAAP8AAAD/AAAA/wAAAP8bFAz/5KVg/wAAAP8AAAD/AAAA/wAAAP8AAAD/AAAA/wAAAP8AAAD/AAAA/wAAAP8AAAD/AAAA/wAAAP8AAAD/AAAA/wAAAP8AAAD/AAAA/wAAAP8AAAD/AAAA/wAAAP8AAAD/0JdY/wAAAP8AAAD/AAAA/wAAAP8AAAD/05lZ/+SlYP/kpWD/5KVg/+SlYP/kpWD/osC5/5zDwf+cw8H/nMPB/+SlYP/kpWD/5KVg/+SlYP/kpWD/5KVg/+SlYP/kpWD/5KVg/+SlYP/kpWD/q72t/8qwg//kpWD/5KVg/+SlYP/kpWD/5KVg/7q3mf+cw8H/nMPB/+SlYP/kpWD/5KVg/+SlYP/kpWD/5KVg/+SlYP/kpWD/5KVg/+SlYP/kpWD/wrON/+SlYP/kpWD/5KVg/+SlYP/kpWD/5KVg/+SlYP/kpWD/5KVg/+SlYP/kpWD/5KVg/5zDwf+cw8H/dpOS/wAAAP9cQyf/5KVg/+SlYP8AAAD/AAAA/wAAAP8AAAD/AAAA/wAAAP8AAAD/GxQM/+SlYP++iVD/AAAA/wAAAP8AAAD/AAAA/wAAAP8AAAD/AAAA/wAAAP8AAAD/AAAA/wAAAP8AAAD/AAAA/wAAAP8AAAD/AAAA/wAAAP8AAAD/AAAA/wAAAP8AAAD/zJRW/1hAJf8AAAD/AAAA/wAAAP8AAAD/AAAA/1xDJ//kpWD/5KVg/+SlYP/kpWD/5KVg/+SlYP+2uJ7/nMPB/5zDwf/QrXv/5KVg/+SlYP/kpWD/5KVg/+SlYP/kpWD/5KVg/+SlYP/kpWD/5KVg/+GmZP+cw8H/nMPB/5zDwf+fwr3/4qZj/9upbP+rva3/nsK+/5zDwf+cw8H/46Vh/+SlYP/kpWD/5KVg/+SlYP/kpWD/5KVg/+SlYP/kpWD/5KVg/5zDwf/hpmT/5KVg/+SlYP/kpWD/5KVg/+SlYP/kpWD/5KVg/+SlYP/kpWD/5KVg/7q2mP+cw8H/nMPB/5zDwf+VrqX/5KVg/+SlYP/kpWD/AAAA/wAAAP8AAAD/AAAA/wAAAP8AAAD/AAAA/xsUDP/kpWD/5KVg/yUbD/8AAAD/AAAA/wAAAP8AAAD/AAAA/wAAAP8AAAD/AAAA/wAAAP8AAAD/AAAA/wAAAP8AAAD/AAAA/wAAAP8AAAD/AAAA/9abWv+meEb/rHxI/+SlYP+QaD3/AAAA/wAAAP8AAAD/AAAA/wAAAP8AAAD/5KVg/+SlYP/kpWD/5KVg/+SlYP/kpWD/5KVg/9iqcP+cw8H/oMG8/+SlYP/kpWD/5KVg/+SlYP/kpWD/5KVg/+SlYP/kpWD/5KVg/+SlYP/kpWD/o8C4/5zDwf+2uJ7/5KVg/+SlYP/kpWD/5KVg/+SlYP/kpWD/1at0/5zDwf/ipmL/5KVg/+SlYP/kpWD/5KVg/+SlYP/kpWD/5KVg/+SlYP+cw8H/nMPB/+SlYP/kpWD/5KVg/+SlYP/kpWD/5KVg/+SlYP/kpWD/5KVg/+OlYf+cw8H/nMPB/5zDwf/UrHX/5KVg/+SlYP/kpWD/wItR/wAAAP8AAAD/AAAA/wAAAP8AAAD/AAAA/wAAAP8TDgj/5KVg/+SlYP/kpWD/AAAA/wAAAP8AAAD/AAAA/wAAAP8AAAD/AAAA/wAAAP8AAAD/AAAA/wAAAP8AAAD/AAAA/wAAAP8AAAD/AAAA/6Z4Rv/kpWD/5KVg/wAAAP8AAAD/4aNf/+SlYP/kpWD/vopQ/0o1H/8GBAP/AQAA/+GjX//kpWD/5KVg/+SlYP/kpWD/5KVg/+SlYP/kpWD/5KVg/53Cv//ipmP/5KVg/+SlYP/kpWD/5KVg/+SlYP/kpWD/5KVg/+SlYP/kpWD/3Khr/5zDwf/kpWD/5KVg/+SlYP/kpWD/5KVg/+SlYP/kpWD/5KVg/+SlYP+cw8H/nMPB/9eqcf/kpWD/5KVg/+SlYP/kpWD/26lr/5zDwf+cw8H/nMPB/5zDwf+cw8H/5KVg/+SlYP/kpWD/5KVg/+SlYP/kpWD/5KVg/+SlYP+6tpj/nMPB/7q3mf/kpWD/5KVg/+SlYP/kpWD/5KVg/ygdEf8AAAD/AAAA/wAAAP8AAAD/AAAA/wAAAP8AAAD/DQoG/+SlYP/kpWD/5KVg/8GMUf8AAAD/AAAA/wAAAP8AAAD/AAAA/wAAAP8AAAD/AAAA/wAAAP8AAAD/AAAA/wAAAP8AAAD/AAAA/wMCAf/kpWD/5KVg/xwVDP8AAAD/AAAA/9+iXv/kpWD/5KVg/+SlYP/kpWD/5KVg/+SlYP/kpWD/5KVg/+SlYP/kpWD/5KVg/+SlYP/kpWD/5KVg/+SlYP/kpWD/2Kpw/+SlYP/kpWD/5KVg/+SlYP/kpWD/5KVg/+SlYP/kpWD/5KVg/5/Cvf/kpWD/5KVg/+SlYP/kpWD/5KVg/+SlYP/kpWD/5KVg/+SlYP/aqXL/pr+0/5zDwf+cw8H/1Kt2/9upa/+tvKv/nMPB/5zDwf/kpWD/5KVg/+SlYP/dqGn/0q14/9+nZ//kpWD/5KVg/+SlYP/kpWD/5KVg/+SlYP/kpWD/o8C3/+KmY//kpWD/5KVg/+SlYP/kpWD/5KVg/+SlYP+DclX/Z0ss/4BdNv+RaT3/nXJC/7mGTv/IkVT/5KVg/+SlYP+DXzf/bE4u/4hjOf/kpWD/PCsZ/wAAAP8AAAD/AAAA/wAAAP8AAAD/AAAA/wAAAP8AAAD/AAAA/wAAAP8AAAD/AAAA/wAAAP+dckL/5KVg/zYnF/8AAAD/AAAA/wAAAP+MZjv/5KVg/+SlYP/kpWD/5KVg/+SlYP/kpWD/5KVg/+SlYP/kpWD/5KVg/+SlYP/kpWD/5KVg/+SlYP/kpWD/5KVg/+SlYP/kpWD/5KVg/+SlYP/kpWD/5KVg/+SlYP/kpWD/5KVg/9Srdv+cw8H/3qho/+SlYP/kpWD/5KVg/+SlYP/kpWD/5KVg/+SlYP/kpWD/kMDw/6+7qP/gp2X/5KVg/+SlYP/kpWD/qL6w/5zDwf+ovrH/5KVg/+SlYP/kpWD/5KVg/+SlYP/kpWD/4qZj/53DwP+ewr//ocG6/7+0kf/WqnL/5KVg/+SlYP/kpWD/5KVg/+SlYP/kpWD/5KVg/+SlYP/kpWD/5KVg/+SlYP/kpWD/5KVg/+SlYP/kpWD/5KVg/+SlYP/kpWD/BQQC/wAAAP8AAAD/5KVg/+SlYP8AAAD/AAAA/wAAAP8AAAD/AAAA/wAAAP8AAAD/AAAA/wAAAP8AAAD/AAAA/wAAAP8AAAD/5KVg/86VV/8AAAD/AAAA/wAAAP8GBQP/0ZdY/x8XDf/kpWD/5KVg/+SlYP/kpWD/5KVg/+SlYP/kpWD/5KVg/+SlYP/kpWD/5KVg/+SlYP/kpWD/5KVg/+SlYP+yuqP/3qdn/+SlYP/kpWD/5KVg/+SlYP/kpWD/5KVg/+SlYP+cw8H/nMPB/6m+r//kpWD/5KVg/+SlYP/kpWD/5KVg/+SlYP/kpWD/k7/r/5DA8P/kpWD/5KVg/+SlYP/kpWD/5KVg/+SlYP+/tJL/3ahp/+SlYP/kpWD/5KVg/+SlYP/kpWD/5KVg/+SlYP+0uaH/nMPB/5zDwf++tZP/5KVg/+SlYP/kpWD/5KVg/+SlYP/kpWD/5KVg/+SlYP/kpWD/5KVg/+SlYP/kpWD/5KVg/8aQVP/kpWD/5KVg/+SlYP/kpWD/5KVg/wUEAv8AAAD/AAAA/9SZWf/kpWD/yZJV/wAAAP8AAAD/AAAA/wAAAP8AAAD/AAAA/wAAAP8AAAD/AAAA/wAAAP8AAAD/q3xI/+SlYP/kpWD/Kx8S/wAAAP+CXjf/5KVg/+SlYP8AAAD/BgQD/+SlYP/kpWD/5KVg/+SlYP/kpWD/5KVg/+SlYP/kpWD/5KVg/+SlYP/kpWD/5KVg/+SlYP/kpWD/oMG8/6m+sP/kpWD/5KVg/+SlYP/kpWD/5KVg/+SlYP/dqGn/06x2/9Osdv/TrHb/5KVg/+SlYP/kpWD/5KVg/+SlYP/kpWD/oLvU/5DA8P+QwPD/5KVg/+SlYP/kpWD/5KVg/+SlYP/kpWD/5KVg/+SlYP/kpWD/5KVg/+SlYP/kpWD/5KVg/+SlYP/kpWD/5KVg/5/Cvf+pva//5KVg/+SlYP/kpWD/5KVg/+SlYP/kpWD/5KVg/+SlYP/kpWD/5KVg/+SlYP/kpWD/5KVg/9KYWP8AAAD/BAMC/4pjOv/kpWD/5KVg/+SlYP8FBAL/AAAA/wAAAP8xIxX/5KVg/55yQ/8AAAD/AAAA/wAAAP8AAAD/AAAA/wAAAP8AAAD/AAAA/wAAAP8AAAD/AwIB/+SlYP/kpWD/5KVg/+SlYP/kpWD/5KVg/+SlYP/kpWD/AAAA/wAAAP8HBQP/4aJf/+SlYP/kpWD/5KVg/+SlYP/kpWD/5KVg/+SlYP/kpWD/5KVg/+SlYP/kpWD/46Vh/5zDwf+cw8H/nMPB/7q2mf+cw8H/nMPB/5zDwf/YqnD/5KVg/+SlYP/kpWD/5KVg/9arc/+cw8H/5KVg/+SlYP/kpWD/xK+X/5DA8P+QwPD/kMDw/+SlYP/kpWD/5KVg/8utiv+Vvuf/5KVg/+GmZP+cw8H/5KVg/+SlYP/kpWD/5KVg/+SlYP/kpWD/5KVg/+SlYP/kpWD/n8K9/+SlYP/kpWD/5KVg/+SlYP/kpWD/5KVg/+SlYP/kpWD/5KVg/+SlYP/kpWD/5KVg/9+nZv8WGxv/AAAA/wAAAP8AAAD/AAAA/19FKP/kpWD/BQQC/wAAAP8AAAD/AAAA/82VVv8AAAD/AAAA/wAAAP8AAAD/AAAA/wAAAP8AAAD/AAAA/wAAAP8AAAD/AAAA/4hiOf/kpWD/5KVg/9SaWf8FBAL/5KVg/+SlYP/kpWD/5KVg/ykeEf8AAAD/AAAA/wAAAP/kpWD/5KVg/+SlYP/kpWD/5KVg/+SlYP/kpWD/5KVg/+SlYP/kpWD/5KVg/8ixhv+cw8H/ureZ/+OlYf/kpWD/3ahp/5zDwf+UweD/5KVg/+SlYP/kpWD/5KVg/+SlYP/kpWD/nMPB/+SlYP/kpWD/4KZn/5DA8P+QwPD/kMDw/5DA8P/kpWD/5KVg/6G60v+QwPD/rre9/+SlYP+wuqf/trig/8ysiP/kpWD/5KVg/+SlYP/kpWD/5KVg/+GmZv/kpWD/5KVg/5zDwf/kpWD/5KVg/+SlYP/kpWD/5KVg/+SlYP/kpWD/5KVg/+SlYP/kpWD/5KVg/+SlYP+cw8H/BwgI/wAAAP8AAAD/AAAA/wAAAP8AAAD/CwgF/+SlYP+7h0//AAAA/6h6R//kpWD/AAAA/wAAAP8AAAD/AAAA/wAAAP8AAAD/AAAA/wAAAP8AAAD/AAAA/wAAAP/kpWD/3qFe/yEYDv8AAAD/AAAA/wwJBf/kpWD/5KVg/+SlYP9QOiL/AAAA/wAAAP8AAAD/AAAA/9yiYP/kpWD/5KVg/+SlYP/kpWD/5KVg/+SlYP/kpWD/5KVg/+SlYP/BtI//5KVg/+SlYP/kpWD/5KVg/+SlYP/gp2b/3qdo/5DA8P+QwPD/l77j/8+shP/jpWH/5KVg/6PAuP/aqW7/5KVg/5DA8P+QwPD/kMDw/5DA8P+QwPD/3adr/5DA8P+QwPD/kMDw/9mpc//kpWD/nMPB/6G70/+Wvub/5KVg/+SlYP/kpWD/5KVg/6G60v/fp2n/5KVg/6W/tf+cw8H/46Vh/+SlYP/kpWD/5KVg/+SlYP/kpWD/5KVg/+SlYP/kpWD/5KVg/+SlYP+fwr3/nMPB/wAAAP8AAAD/AAAA/ykeEf/IkVT/5KVg/+SlYP/kpWD/5KVg/+SlYP+5hk7/5KVg/wAAAP8AAAD/AAAA/wAAAP8AAAD/AAAA/wAAAP8AAAD/AAAA/wAAAP+hdUT/Zkor/wAAAP8AAAD/AAAA/wAAAP8AAAD/qntI/+SlYP/kpWD/gFw2/wAAAP8AAAD/AAAA/wAAAP+EpaP/2qlu/+SlYP/kpWD/5KVg/+SlYP/kpWD/5KVg/+SlYP/SrHj/5KVg/+SlYP/kpWD/5KVg/+SlYP/kpWD/5KVg/+SlYP+1tLD/kMDw/5DA8P+QwPD/kMDw/5HA7v+cvdX/qL6x/5282v+QwPD/kMDw/5DA8P+QwPD/kMDw/5DA8P+QwPD/kMDw/5DA8P/kpWD/w7ON/6S/t/+QwPD/kMDw/+SlYP/kpWD/5KVg/623vv+QwPD/3qdr/8qwgv+cw8H/nMPB/9iqcP/kpWD/5KVg/+SlYP/kpWD/5KVg/+SlYP/kpWD/5KVg/+SlYP+kv7b/nMPB/5zDwf9VPiT/x5BU/+SlYP/kpWD/5KVg/+SlYP/kpWD/5KVg/+SlYP8eFg3/AAAA/wYFA/+PZzz/AAAA/wAAAP8AAAD/AAAA/wAAAP8AAAD/AAAA/wAAAP8CAQH/SzYg/wAAAP8AAAD/AAAA/wAAAP8AAAD/AAAA/wAAAP/kpWD/5KVg/9qdXP9cQyf/GxQL/wIBAf8AAAD/c5CP/5zDwf/Yqm//5KVg/+SlYP/kpWD/5KVg/8Kzjv+cw8H/4Kdl/+SlYP/kpWD/5KVg/+SlYP+QwLH/3adn/96oaP+cw8H/5KVg/5HA7v+QwPD/kMDw/5DA8P+QwPD/kMDw/5DA8P+2tLD/lr7l/5DA8P+QwPD/h8Pv/1XT6P+QwPD/kMDw/5DA8P+QwPD/5KVg/5zDwf+7sqb/kMDw/5DA8P/BsJz/5KVg/8eukv+QwPD/kMDw/92nbf/jpWH/Z83W/761k/++tZP/5KVg/+SlYP/kpWD/5KVg/+SlYP/kpWD/5KVg/+SlYP+zuaL/uLeb/+SlYP/kpWD/5KVg/+SlYP/kpWD/5KVg/+SlYP/kpWD/5KVg/+SlYP9lSSv/AAAA/wAAAP8AAAD/m3BB/wAAAP8AAAD/AAAA/wAAAP8AAAD/AAAA/wAAAP8AAAD/Eg0H/yAXDf8AAAD/AAAA/wAAAP8AAAD/AAAA/wAAAP8AAAD/KR4R/+SlYP/kpWD/5KVg/+SlYP/kpWD/5KVg/9yoa//JsIT/r7un/8uwgv/kpWD/wbOQ/5zDwf+cw8H/nMPB/+SlYP/kpWD/5KVg/+SlYP/kpWD/5KVg/4nCtv/kpWD/xLKK/5zDwf/ZqHP/kMDw/5DA8P+QwPD/kMDw/5DA8P+awsf/3Khr/37Gwf9qzev/kMDw/4zB7/92yOz/kMDw/5DA8P+QwPD/hsPv/9iqcf+cw8H/kMDw/5DA8P+QwPD/kMDw/9qocP+QwPD/kMDw/5DA8P/cqG7/Yc/c/+SlYP/kpWD/5KVg/9upbP/kpWD/5KVg/+SlYP/kpWD/5KVg/+SlYP/hpmT/5KVg/+SlYP/kpWD/5KVg/+SlYP/kpWD/5KVg/+SlYP/kpWD/5KVg/+SlYP+fc0P/AAAA/wAAAP8AAAD/AAAA/xUPCf8QDAf/AAAA/wAAAP8AAAD/AAAA/wAAAP8AAAD/AAAA/2pNLf/kpWD/AAAA/wAAAP8AAAD/AAAA/wAAAP8AAAD/AAAA/wAAAP/Vmlr/5KVg/+SlYP/kpWD/5KVg/+SlYP/kpWD/5KVg/+SlYP/kpWD/5KVg/+SlYP/YqnD/ncPA/6y8q//kpWD/5KVg/+SlYP/kpWD/5KVg/+OlYv/jpWL/X9Df/86sd/+xuqb/nMPC/5a+5v+QwPD/kMDw/5DA8P+4s6v/i8O+/1nS6P+Lwu//kMDw/5DA8P+QwPD/kMDw/2XO6v+Bxe7/kMDw/2LP6v9V0+j/b8re/5DA8P+QwPD/kMDw/5DA8P+QwPD/kMDw/5DA8P+QwPD/XdHn/+SlYP/kpWD/5KVg/+SlYP+dw8D/nMPB/6e+sv/hpmP/5KVg/+SlYP/YqnD/xbKK/+SlYP/kpWD/5KVg/+SlYP/kpWD/5KVg/+SlYP/kpWD/5KVg/+SlYP/OlVf/AAAA/wAAAP8AAAD/AAAA/wAAAP8AAAD/iGM5/wAAAP8AAAD/AAAA/wAAAP8AAAD/AAAA/wAAAP/Umln/5KVg/wAAAP8AAAD/AAAA/wAAAP8AAAD/AAAA/wAAAP8AAAD/AAAA/+SlYP/kpWD/5KVg/+SlYP/kpWD/5KVg/+SlYP/kpWD/5KVg/+SlYP/kpWD/5KVg/6TAt//TrHf/5KVg/+SlYP/kpWD/5KVg/+SlYP/kpWD/nbza/5DA8P+QwPD/kMDw/5DA8P+QwPD/qLi6/37Gwf+Mwe//kMDw/5DA8P9yyuz/VdPo/1XT6P9V0+j/VdPo/1XT6P+QwPD/kMDw/5DA8P9X0uj/bMzr/5DA8P+QwPD/kMDw/5DA8P+Sv9j/kMDw/5DA8P+QwPD/kMDw/9Kqf//kpWD/5KVg/+SlYP/kpWD/vbWU/5zDwf+cw8H/vLaW/5zDwf++tZP/nMPB/82vf//kpWD/5KVg/+SlYP/kpWD/5KVg/+SlYP/kpWD/5KVg/+SlYP/kpWD/AAAA/wAAAP8AAAD/AAAA/wAAAP8AAAD/AAAA/7uIT/8AAAD/AAAA/wAAAP8AAAD/AAAA/wAAAP8AAAD/5KVg/+SlYP9lSSv/AAAA/wAAAP8AAAD/AAAA/wAAAP8AAAD/AgIB/45nPP/kpWD/5KVg/+SlYP/kpWD/5KVg/+SlYP/kpWD/5KVg/+SlYP/kpWD/5KVg/+SlYP/Kr4L/2alv/+SlYP/kpWD/5KVg/+SlYP/kpWD/5KVg/+SlYP+kuc7/kMDw/5DA8P+QwPD/kMDw/5DA8P98x+3/kMDw/5DA8P9V0+j/VdPo/1XT6P9V0+j/VdPo/1XT6P9V0+j/kMDw/5DA8P+QwPD/VdPo/1rR6f+QwPD/kMDw/3PJ7P+PwPD/VtPo/4nC7/+QwPD/kMDw/5DA8P/Jro//5KVg/+SlYP/kpWD/5KVg/9iqcf+4t5v/5KVg/+SlYP/Zqm7/nMPB/5zDwf/Uq3X/5KVg/+SlYP/kpWD/5KVg/+SlYP/kpWD/5KVg/+SlYP/kpWD/5KVg/+SlYP/kpWD/sYBL/wwJBf8CAQH/AAAA/wcFA//kpWD/GBIK/wAAAP8AAAD/AAAA/wAAAP8AAAD/AAAA/+SlYP/kpWD/15ta/wAAAP8AAAD/AAAA/yEYDv+XbUD/5KVg/+SlYP/kpWD/5KVg/+SlYP/kpWD/5KVg/+SlYP/kpWD/5KVg/+SlYP/kpWD/5KVg/+SlYP/kpWD/5KVg/5zDwf+kv7b/5KVg/+SlYP/FsYv/5KVg/+SlYP/kpWD/5KVg/7+xoP+QwPD/kMDw/5DA8P+QwPD/jcHw/4XE7v9V0+j/VdPo/1XT6P9V0+j/VdPo/1XT6P9V0+j/VdPo/5DA8P+QwPD/iMPv/1XT6P+Iw+//kMDw/5DA8P+OwfD/kMDw/5DA8P+QwPD/kMDw/5DA8P+QwPD/xK+X/+SlYP/kpWD/5KVg/+SlYP/dqGn/5KVg/+SlYP/kpWD/5KVg/82vf/+cw8H/36dn/+SlYP/kpWD/5KVg/+SlYP/kpWD/5KVg/+SlYP/kpWD/5KVg/+SlYP/kpWD/5KVg/+SlYP/kpWD/5KVg/+SlYP/doF3/3J9d/9GXWP8KBwT/AAAA/wAAAP8AAAD/AAAA/2ZJK//kpWD/5KVg/+SlYP8aFAv/2Z1b/+SlYP/kpWD/5KVg/+SlYP/kpWD/5KVg/+SlYP/kpWD/5KVg/+SlYP/kpWD/5KVg/+SlYP/kpWD/5KVg/+SlYP/kpWD/5KVg/+SlYP+cw8H/nMPB/8Syi//kpWH/nMPB/5DA7//kpWD/5KVg/+SlYP/kpWD/WNLo/5DA8P+QwPD/fcbt/5DA8P9f0On/VdPo/1XT6P9V0+j/VdPo/1XT6P9V0+j/VdPo/1XT6P+QwPD/kMDw/3bI7P9V0+j/kMDw/5DA8P+QwPD/VtPo/1fS6P+QwPD/kMDw/3HK7P9Y0uj/lb7n/7azrv/kpWD/5KVg/8SyjP+cw8H/q72s/+SlYP/kpWD/5KVg/+SlYP/kpWD/0K17/+SlYP/kpWD/5KVg/+SlYP/kpWD/5KVg/+SlYP/kpWD/5KVg/+SlYP/kpWD/5KVg/+SlYP/kpWD/5KVg/+SlYP/kpWD/LyIU/wAAAP8kGg//5KVg/+SlYP8AAAD/AAAA/wAAAP/YnFv/5KVg/7yIT/9GMx7/5KVg/+SlYP/kpWD/5KVg/+SlYP/TmVn/bk8u/+SlYP/kpWD/5KVg/+SlYP/kpWD/5KVg/+SlYP/kpWD/5KVg/+SlYP/kpWD/5KVg/+SlYP/kpWD/nMPB/9qpbf/kpWD/5KVg/+SlYP+Tv+r/kMDw/6C71P/kpWD/5KVg/1XT6P9b0en/kMDw/5DA8P+QwPD/kMDw/1XT6P9V0+j/VdPo/1XT6P9V0+j/VdPo/1XT6P9V0+j/isLv/5DA8P9b0en/eMft/5DA8P+QwPD/WNLo/1XT6P9V0+j/VdPo/4LF7v+QwPD/VdPo/6a5m/+QwO//kMDw/5DA7f+awc3/4aZk/+SlYP/kpWD/5KVg/+SlYP/kpWD/5KVg/+SlYP/kpWD/5KVg/+SlYP/kpWD/5KVg/+SlYP/kpWD/5KVg/+SlYP/kpWD/5KVg/+SlYP/kpWD/5KVg/+SlYP/kpWD/255c/wAAAP8AAAD/AAAA/+SlYP/kpWD/BQQC/wAAAP8AAAD/5KVg/8ONUv8AAAD/AAAA/7B/Sv/kpWD/5KVg/+SlYP/Vmlr/AAAA/wAAAP8AAAD/rX1J/+SlYP/kpWD/5KVg/+SlYP/kpWD/5KVg/+SlYP/kpWD/5KVg/+SlYP/kpWD/5KVg/+GmZP/kpWD/5KVg/+SlYP/kpWD/tbSx/5DA8P+QwPD/kMDw/5a+z/9V0+j/f8Xu/1bT6P+QwPD/kMDw/5DA8P97x+3/VdPo/1XT6P9V0+j/VdPo/1XT6P9V0+j/VdPo/4HF7v+QwPD/VdPo/5DA8P+QwPD/Ys/q/1XT6P9V0+j/VdPo/1XT6P9V0+j/Zs7q/2PO6v9ozdn/kMDv/5DA8P+QwPD/kMDw/5DA8P+bvN3/4aZl/+SlYP/kpWD/5KVg/+SlYP/kpWD/xLKL/+SlYP/kpWD/5KVg/+SlYP/kpWD/5KVg/+SlYP/kpWD/5KVg/+SlYP/kpWD/5KVg/+SlYP8nHBD/CggE/4VgOP8AAAD/AAAA/wAAAP+xgEr/5KVg/ycdEf8AAAD/EQ0H/+SlYP/DjVL/AAAA/wAAAP8AAAD/5KVg/+SlYP/Pllf/AAAA/wAAAP8AAAD/DA8P/5zDwf+cw8H/2qlu/+SlYP/kpWD/5KVg/+SlYP/kpWD/5KVg/+SlYP/kpWD/5KVg/8uwgv/kpWD/5KVg/+SlYP/kpWD/5KVg/+SlYP+QwPD/kMDw/5DA8P+QwPD/kMDw/2LP6v9V0+j/VdPo/47B8P+QwPD/kMDw/1fT6P9V0+j/VdPo/1XT6P9V0+j/VdPo/1XT6P97x+3/kMDw/2XO6v+QwPD/dsjs/1XT6P9V0+j/VdPo/1XT6P9V0+j/VdPo/1XT6P+QwPD/gMXu/5HA7f+QwPD/kMDw/5DA8P+QwPD/kMDw/5DA8P+QwPD/rba9/+SlYP/kpWD/5KVg/7u2l/+cw8H/5KVg/+SlYP/kpWD/5KVg/+SlYP/kpWD/5KVg/+SlYP/kpWD/u4hP/wMDAf8AAAD/AAAA/5VsP//kpWD/OCkY/wAAAP8AAAD/DAkF/+SlYP9TPCP/AAAA/29RL//kpWD/w41S/wAAAP8AAAD/AAAA/+SlYP+2hE3/AAAA/wAAAP8AAAD/QVFQ/5zDwf+cw8H/nMPB/5zDwf+jwLj/5KVg/+SlYP/kpWD/5KVg/+SlYP/kpWD/5KVg/7W5n/+cw8H/xa+V/5DA8P+cvNv/w6+Y/+SlYP/kpWD/kMDw/5DA8P+QwPD/kMDw/5DA8P+QwPD/isLv/1XT6P9V0+j/iMPv/5DA8P+Mwe//VdPo/1XT6P9V0+j/VdPo/1XT6P9V0+j/ccrs/4TE7v+OwfD/i8Hv/1XT6P9V0+j/VdPo/1XT6P9V0+j/VdPo/1XT6P9V0+j/isLv/5DA8P+QwPD/kMDw/5DA8P+QwPD/kMDw/5DA8P+Vvuf/1ap6/+SlYP/kpWD/5KVg/+SlYP+yuqP/nMPB/6TAt//kpWD/5KVg/+SlYP/kpWD/5KVg/+SlYP+7tpf/nMPB/4Cgnv8AAAD/AAAA/wAAAP/kpWD/5KVg/+SlYP8NCgb/AAAA/2xPLv/kpWD/eFcz/wAAAP+QaD3/5KVg/8ONUv8AAAD/AAAA/wAAAP/kpWD/BQMC/w4KBv8UDwn/IhkO/6m9r/+rva3/tLmh/7u2l//Cs47/z617/9aqcv/kpWD/5KVg/+SlYP/kpWD/5KVg/5zDwf+cw8H/nMPB/9KseP+bvN7/kMDw/5DA8P+QwPD/kMDw/5DA8P+QwPD/kMDw/43B8P+QwPD/kMDw/5DA8P+QwPD/csns/1XT6P99xu3/kMDw/2fN6v9V0+j/VdPo/1XT6P9V0+j/VdPo/2zM6/9b0en/i8Hv/1XT6P9V0+j/VdPo/1XT6P9V0+j/VdPo/1XT6P9V0+j/VdPo/1XT6P+QwPD/i8Hv/82shv+QwPD/kMDw/6i4x//kpWD/5KVg/+SlYP/kpWD/5KVg/+SlYP/kpWD/qr2u/5zDwf+cw8H/p76y/+SlYP/kpWD/36dn/6a/tP+cw8H/nMPB/5zDwf+cw8H/BwkJ/wAAAP+hdET/5KVg/+SlYP/kpWD/5KVg/9GYWP/kpWD/5KVg/6p7SP8AAAD/AAAA/wgGA//anlz/AAAA/wYEA//cn13/5KVg/+SlYP/kpWD/5KVg/+SlYP/kpWD/5KVg/+SlYP/kpWD/5KVg/+SlYP/kpWD/5KVg/6a/tP/Bs47/46Vh/53Cv//hpmT/2Kpw/8+uff/Nr3//5KVg/5DA8P+QwPD/kMDw/5DA8P+QwPD/4aZl/2PP6v+QwPD/kMDw/5DA8P+QwPD/kMDw/5DA8P+PwPD/W9Hp/2vM6/+QwPD/VdPo/1XT6P9V0+j/VdPo/1XT6P9kzur/iMPv/1XT6P9V0+j/VdPo/1XT6P9V0+j/VdPo/1XT6P9V0+j/VdPo/1XT6P9V0+j/kMDw/5DA8P+jutD/kMDw/6S5zf/kpWD/5KVg/+SlYP/kpWD/5KVg/+SlYP/kpWD/5KVg/6HBuv/cqWv/5KVg/+SlYP/ipmP/06x3/7W5n/+cw8H/nMPB/5zDwf+cw8H/nMPB/wgKCv8AAAD/5KVg/+SlYP/kpWD/5KVg/5JqPv/CjVL/5KVg/+SlYP/fol7/AAAA/wAAAP8AAAD/wYxR/+SlYP/kpWD/5KVg/+SlYP/kpWD/5KVg/+SlYP/kpWD/5KVg/+SlYP/kpWD/5KVg/+SlYP/kpWD/5KVg/+SlYP/fp2b/nMPB/5zDwf+qva//5KVg/+SlYP/kpWD/5KVg/53DwP+Zwsv/kMDw/5DA8P+QwPD/kMDw/3vH4/+QwPD/kMDw/1XT6P9V0+j/VdPo/3PJ7P+Lwu//kMDw/5DA8P+Mwe//X9Dp/4rC7/9V0+j/VdPo/1XT6P9V0+j/dcns/17Q6f9V0+j/VdPo/1XT6P9V0+j/VdPo/1XT6P9V0+j/VdPo/1XT6P9V0+j/ZM7q/5DA8P+MwfD/kMDw/5DA8P+QwPD/kMDw/5zDw/+cw8H/nMPB/9yoav/ipmL/1qtz/6y8rP+nvrP/5KVg/+SlYP/kpWD/5KVg/+SlYP/kpWD/5KVg/+SlYP/kpWD/5KVg/9WrdP9aRCv/i2Q7/+SlYP/kpWD/5KVg/0k0H/8AAAD/AAAA/92gXf/kpWD/5KVg/wAAAP8AAAD/AAAA/8GMUf9wUS//AAAA/4diOf/kpWD/5KVg/+SlYP/kpWD/5KVg/+SlYP/kpWD/5KVg/+SlYP/kpWD/5KVg/+SlYP/kpWD/5KVg/6LBuf+cw8H/3qdo/+SlYP/kpWD/5KVg/+SlYP/kpWD/3Khr/5q93/+QwPD/kMDw/5DA8P+QwPD/kMDw/3zG7f9V0+j/VdPo/1XT6P9V0+j/VdPo/1XT6P9X0uj/bMvr/43B8P98xu3/csrs/1XT6P9V0+j/VdPo/43B8P9V0+j/VdPo/1XT6P9V0+j/VdPo/1XT6P9V0+j/VdPo/1jS6P99xu3/kMDw/5DA8P+QwPD/jcHw/5DA8P+QwPD/kMDw/5DA8P+QwPD/yK6P/+SlYP/kpWD/ocG6/5zDwf+cw8H/4qZj/+SlYP/kpWD/5KVg/+SlYP/kpWD/5KVg/+SlYP/kpWD/5KVg/+SlYP/kpWD/5KVg/+SlYP/kpWD/3qFe/woHBP8AAAD/AAAA/wAAAP8AAAD/5KVg/+SlYP8AAAD/AAAA/wAAAP+2hE3/AAAA/wAAAP8AAAD/AAAA/9icW//kpWD/5KVg/+SlYP/kpWD/5KVg/+SlYP/kpWD/5KVg/+SlYP/kpWD/5KVg/+SlYP/UrHb/n8K+/+SlYP/kpWD/5KVg/+SlYP/kpWD/5KVg/+SlYP/kpWD/kMDw/5DA8P+QwPD/Ys/q/5DA8P9b0en/VdPo/1XT6P9V0+j/VdPo/1XT6P9V0+j/VdPo/1XT6P9V0+j/VdPo/4HF7v+Gw+//VdPo/1XT6P90yez/VdPo/1XT6P9V0+j/VdPo/1XT6P9V0+j/XtDp/5DA8P+QwPD/kMDw/5DA8P+QwPD/kMDw/5DA8P+QwPD/kMDw/5DA8P+QwPD/kMDw/5HA7v+avd//5KVg/+SlYP+cw8H/sLqm/+SlYP/kpWD/5KVg/+SlYP/kpWD/5KVg/+SlYP/kpWD/5KVg/+SlYP/kpWD/5KVg/+SlYP/kpWD/vIhP/wAAAP8AAAD/AAAA/wAAAP8AAAD/AAAA/wgGBP/kpWD/AAAA/wAAAP8AAAD/mW9B/wAAAP8AAAD/AAAA/wAAAP8AAAD/IxkP/+SlYP/kpWD/5KVg/+SlYP/kpWD/5KVg/+SlYP/kpWD/5KVg/+SlYP/kpWD/5KVg/9mpb//kpWD/5KVg/+SlYP/kpWD/5KVg/+SlYP/kpWD/5KVg/9ipdP+QwPD/Y87q/1XT6P+QwPD/VdPo/1XT6P9V0+j/VdPo/1XT6P9V0+j/VdPo/1XT6P9V0+j/VdPo/1XT6P9V0+j/VtPo/2fN6v9V0+j/VdPo/1XT6P9V0+j/VdPo/1bT6P98xu3/kMDw/5DA8P+QwPD/kMDw/4zB7/+CxO7/eMjt/23L6/+Mwe//XtDp/1XT6P+utpP/5KVg/+SlYP/kpWD/5KVg/+SlYP/kpWD/v7SS/+SlYP/kpWD/5KVg/+SlYP/kpWD/5KVg/+SlYP/kpWD/5KVg/+SlYP/kpWD/5KVg/+SlYP/kpWD/PCwZ/wAAAP8AAAD/AAAA/wAAAP8AAAD/AAAA/wAAAP8AAAD/Tzkh/wAAAP8AAAD/AAAA/5lvQf8AAAD/Pk5N/4mrqf+cw8H/nMPB/5zDwf+cw8H/5KVg/+SlYP/kpWD/5KVg/+SlYP/kpWD/5KVg/+SlYP/kpWD/5KVg/+SlYP/kpWD/5KVg/+SlYP/kpWD/ecfG/2fN1/9V0+j/VdPo/1XT6P9V0+j/jMHv/1XT6P9V0+j/jMHw/1XT6P9V0+j/VdPo/1XT6P9V0+j/VdPo/1XT6P9V0+j/VdPo/1XT6P9V0+j/VdPo/1XT6P9V0+j/VdPo/1XT6P+Hw+//kMDw/5DA8P+ExO7/bcvr/1XT6P9V0+j/VdPo/1XT6P9V0+j/VdPo/1XT6P9V0+j/isLv/1XT6P9V0+j/VdPo/1XT6P9V0+j/VdPo/1XT6P9f0N7/aM3W/+SlYP/kpWD/5KVg/+SlYP/kpWD/5KVg/+SlYP/kpWD/5KVg/+SlYP/kpWD/5KVg/+SlYP/kpWD/sbql/5zDwf+cw8H/nMPB/5zDwf+Jq6n/dZKR/wAAAP8AAAD/AAAA/wAAAP8AAAD/AAAA/wAAAP+rfEj/AAAA/wAAAP8AAAD/AAAA/wAAAP+Saj7/5KVg/+SlYP/kpWD/5KVg/+SlYP/kpWD/5KVg/+SlYP/kpWD/5KVg/+SlYP/kpWD/vrWU/+SlYP/kpWD/5KVg/+SlYP/kpWD/5KVg/+SlYP/kpWD/vbGj/5DA8P99xu3/VdPo/5DA8P9V0+j/VdPo/1XT6P9V0+j/VdPo/1XT6P9V0+j/VdPo/1XT6P9V0+j/VdPo/1XT6P9rzOv/aszr/1XT6P9a0en/VdPo/1XT6P9V0+j/VdPo/2HP6v+Gw+//kMDw/5DA8P+QwPD/kMDw/5DA8P+QwPD/jMHv/4/A8P94yO3/bcvr/7+xlP/YqXX/5KVg/+SlYP/kpWD/5KVg/+SlYP+qva7/46Vh/+SlYP/kpWD/5KVg/+SlYP/kpWD/5KVg/+SlYP/kpWD/5KVg/+SlYP/kpWD/5KVg/+SlYP+vf0r/AAAA/wAAAP8AAAD/AAAA/wAAAP8AAAD/AAAA/wAAAP+eckP/AAAA/wAAAP8AAAD/wItR/wAAAP8AAAD/AAAA/zcoF//jpGD/5KVg/+SlYP/kpWD/5KVg/+SlYP/kpWD/5KVg/+SlYP/kpWD/5KVg/+SlYP/kpWD/wrOO/5zDwf/kpWD/5KVg/+SlYP/kpWD/5KVg/+SlYP/kpWD/5KVg/5DA8P+QwPD/kMDw/2zL6/+QwPD/Zc7q/1XT6P9V0+j/VdPo/1XT6P9V0+j/VdPo/1XT6P9V0+j/VdPo/1bT6P+PwPD/X9Dp/1XT6P9V0+j/gsTu/1XT6P9V0+j/VdPo/1XT6P9V0+j/VdPo/1XT6P94x+3/kMDw/5DA8P+QwPD/kMDw/5DA8P+QwPD/kMDw/5DA8P+QwPD/kMDw/5DA8P+QwPD/1al4/+SlYP/ipmP/nMPB/53Cv//kpWD/5KVg/+SlYP/kpWD/5KVg/+SlYP/kpWD/5KVg/+SlYP/kpWD/5KVg/+SlYP/kpWD/5KVg/+KkX/8AAAD/AAAA/wAAAP8AAAD/AAAA/wAAAP9ZQSb/5KVg/wAAAP8AAAD/AAAA/8GMUf/Vmlr/FA8J/9yfXP/kpWD/5KVg/+SlYP/kpWD/5KVg/+SlYP/kpWD/5KVg/+SlYP/kpWD/5KVg/+SlYP/kpWD/5KVg/5zDwf+cw8H/0a15/+SlYP/kpWD/5KVg/+SlYP/Orn7/vLaW/5HA7f+QwPD/kMDw/5DA8P+QwPD/kMDw/4jC7/9V0+j/VdPo/1XT6P9V0+j/VdPo/1nS6f9vy+z/kMDw/47B8P91yOz/XNHp/1XT6P9V0+j/VdPo/4nC7/9V0+j/VdPo/1XT6P9V0+j/VdPo/1XT6P9V0+j/VdPo/1XT6P9a0en/i8Lv/5DA8P+QwPD/jcHw/5DA8P+QwPD/kMDw/5DA8P+QwO7/zK+B/+SlYP/kpWD/nMPB/5zDwf+cw8H/2qlt/+SlYP/kpWD/5KVg/+SlYP/kpWD/5KVg/+SlYP/kpWD/5KVg/+SlYP/kpWD/5KVg/+SlYP/kpWD/5KVg/z0sGv8AAAD/AAAA/wAAAP8mGxD/5KVg/+SlYP8AAAD/AAAA/wAAAP/BjFH/5KVg/8KNUv/kpWD/5KVg/+SlYP/kpWD/5KVg/+SlYP/kpWD/5KVg/+SlYP/kpWD/5KVg/+SlYP/kpWD/5KVg/9qpbf+cw8H/nMPB/57Cv//kpWD/5KVg/+SlYP/kpWD/qr2u/5+9zP+QwPD/kMDw/5DA8P+QwPD/qret/5DA8P+QwPD/VdPo/1jS6P95yO3/i8Lv/5DA8P+QwPD/kMDw/2zM6/+Bxe7/dsjt/1XT6P9V0+j/VdPo/1XT6P9ty+v/bMzr/1XT6P9V0+j/VdPo/1XT6P9V0+j/VdPo/1XT6P9V0+j/VdPo/1XT6P9W0+j/jcHw/4/A8P+QwPD/kMDw/5DA8P+qt8P/z658/6HBuv+cw8H/46Vi/+SlYP/jpWH/26hs/53Cv//kpWD/5KVg/+SlYP/kpWD/5KVg/+SlYP/kpWD/5KVg/9yoav++tZP/pb+1/xISD/9QOiL/5KVg/+SlYP/kpWD/r39K/wAAAP8EAwL/5KVg/+SlYP/kpWD/AAAA/wAAAP9UPSP/y5NW/wAAAP8AAAD/vYlQ/+SlYP/kpWD/5KVg/+SlYP/kpWD/5KVg/+SlYP/kpWD/5KVg/+SlYP/kpWD/5KVg/+SlYP+hwbr/4qZj/+SlYP+tu6r/yLGG/7W5n/+dw8D/wbOP/+GmZf+QwPD/kMDw/5DA8P+QwPD/kMDw/9qocv9zyez/icLv/5DA8P+QwPD/kMDw/5DA8P+QwPD/g8Tu/1XT6P+Iw+//j8Dw/1XT6P9V0+j/VdPo/1XT6P9V0+j/Z83q/3jI7f9b0en/VdPo/1XT6P9V0+j/VdPo/1XT6P9V0+j/VdPo/1XT6P9V0+j/VdPo/5DA8P+QwPD/1Kp6/5K/7f/Fr5X/5KVg/+SlYP/kpWD/5KVg/+SlYP/kpWD/5KVg/+SlYP+jwLj/yrCD/+CnZf/Uq3X/5KVg/8OyjP+cw8H/nMPB/5zDwf+cw8H/nMPB/5zDwf8ICgr/AAAA/+KjX//kpWD/5KVg/+SlYP/kpWD/5KVg/+SlYP/kpWD/0JZY/wAAAP+jdkX/5KVg/8ONUv8AAAD/AAAA/wAAAP/TmVn/AAAA/wAAAP8AAAD/AAAA/5zDwf+cw8H/nsK+/6DBu/+lv7X/p76y/6q9r//ipmL/5KVg/+SlYP/kpWD/5KVg/8OyjP+cw8H/nMPB/9qpbv+RwO7/kMDw/5DA8P+QwPD/o7rP/5282v+QwPD/kMDw/5DA8P+QwPD/kMDw/5DA8P+OwfD/WtHp/1XT6P+OwfD/kMDw/1zR6f9V0+j/VdPo/1XT6P9V0+j/VdPo/2zM6/9f0On/kMDw/1fS6P9V0+j/VdPo/1XT6P9V0+j/VdPo/1XT6P9V0+j/VdPo/1rS6f+QwPD/mb3g/6K60f+QwPD/kMDw/5K/7f+/sZ//5KVg/+SlYP/kpWD/5KVg/+SlYP/kpWD/rL2s/5zDwf+cw8H/xbKJ/+SlYP/kpWD/5KVg/9Gtef+cw8H/nMPB/5zDwf+cw8H/BwkJ/wAAAP9hRin/5KVg/+SlYP/kpWD/1Zpa/0AuG//kpWD/5KVg/5twQf8AAAD/Vj4k/+SlYP/DjVL/AAAA/wAAAP8AAAD/5KVg/+SlYP8AAAD/AAAA/wAAAP8AAAD/nMPB/5zDwf+cw8H/ncPA/8Syi//kpWD/5KVg/+SlYP/kpWD/5KVg/+SlYP/kpWD/0qx4/5zDwf+vtrv/nrzZ/86shf/kpWD/5KVg/+SlYP+QwPD/kMDw/5DA8P+QwPD/kMDw/5DA8P9uy+v/VdPo/1bT6P+QwPD/kMDw/4PE7v9V0+j/VdPo/1XT6P9V0+j/VdPo/1XT6P90yez/kMDw/4jD7/+QwPD/VdPo/1XT6P9V0+j/VdPo/1XT6P9V0+j/VdPo/1XT6P+PwPD/kMDw/5DA8P+QwPD/kMDw/5DA8P+QwPD/kMDw/5DA8P+bvd3/36dp/+SlYP/kpWD/5KVg/7a4nv+cw8H/v7SS/+SlYP/kpWD/5KVg/+SlYP/kpWD/5KVg/+SlYP+qva7/OEVF/wAAAP8AAAD/AAAA/+SlYP/kpWD/36Je/wAAAP8AAAD/AAAA/+SlYP9yUzD/AAAA/wAAAP/kpWD/w41S/wAAAP8AAAD/HRUM/+SlYP/kpWD/4aNf/wAAAP8AAAD/AAAA/wAAAP+NsK//s7qi/+SlYP/kpWD/5KVg/+SlYP/kpWD/5KVg/+SlYP/kpWD/5KVg/+SlYP/hpmT/5KVg/+SlYP/kpWD/5KVg/+SlYP/fpmn/kMDw/5DA8P+QwPD/kMDw/4HF7v9mzur/VdPo/13Q6f+QwPD/kMDw/5DA8P9V0+j/VdPo/1XT6P9V0+j/VdPo/1XT6P9V0+j/e8ft/5DA8P9Z0un/kMDw/4rC7/9V0+j/VdPo/1XT6P9V0+j/VdPo/1XT6P9V0+j/kMDw/2TO6v+RwO7/kMDw/5DA8P+QwPD/kMDw/5DA8P+QwPD/mb3f/9aqef/kpWD/5KVg/+SlYP+/tJL/tbmf/+SlYP/kpWD/5KVg/+SlYP/kpWD/5KVg/+SlYP/kpWD/5KVg/+SlYP+KZDr/AAAA/wAAAP9VPiT/5KVg/wcFA/8AAAD/AAAA/zYnF//kpWD/Tzkh/wAAAP8AAAD/5KVg/8WPU/8AAAD/AAAA/7+KUP/kpWD/5KVg/+SlYP/kpWD/AAAA/wAAAP8UDgj/5KVg/+SlYP/kpWD/5KVg/+SlYP/kpWD/5KVg/+SlYP/kpWD/5KVg/+SlYP/kpWD/5KVg/8mwhP/kpWD/5KVg/+SlYP/kpWD/pLnN/5DA8P+QwPD/kr/s/8auf/9V0+j/bsvr/2LP6v+QwPD/kMDw/5DA8P9kzur/VdPo/1XT6P9V0+j/VdPo/1XT6P9V0+j/VdPo/4XE7v+QwPD/VdPo/47B8P+QwPD/fcbt/1XT6P9V0+j/VdPo/1XT6P9V0+j/hMTu/1XT6P92yMj/kMDv/5DA8P+QwPD/kMDw/5e+5f/Wqnn/5KVg/+SlYP/kpWD/5KVg/+SlYP/kpWD/16px/+SlYP/kpWD/5KVg/+SlYP/kpWD/5KVg/+SlYP/kpWD/5KVg/+SlYP/kpWD/5KVg/+SlYP/PlVf/GxQM/1Q+JP8AAAD/AAAA/wAAAP/IkVT/5KVg/xoTC/8AAAD/AAAA/9SaWf/kpWD/5KVg/7B/Sv/kpWD/5KVg/+SlYP/kpWD/5KVg/+OkYP/OlVf/5KVg/+SlYP/kpWD/5KVg/+SlYP/kpWD/5KVg/+SlYP/kpWD/5KVg/+SlYP/kpWD/5KVg/+SlYP+cw8H/r7un/+SlYP/kpWD/46Zi/5DA8P+QwPD/ya6P/+SlYP/kpWD/VdPo/3TJ7P+QwPD/kMDw/5DA8P+Lwu//VdPo/1XT6P9V0+j/VdPo/1XT6P9V0+j/VdPo/1XT6P+Kwu//kMDw/1/Q6f9lzur/kMDw/5DA8P9wyuz/VdPo/1XT6P9Y0uj/kMDw/4rC7/9V0+j/xK9+/5DA8P+Sv+z/oL7I/5zDwf/AtJH/5KVg/+SlYP/kpWD/5KVg/+SlYP/kpWD/5KVg/+SlYP/kpWD/5KVg/+SlYP/kpWD/5KVg/+SlYP/kpWD/5KVg/+SlYP/kpWD/5KVg/+SlYP/kpWD/5KVg/+SlYP/kpWD/AAAA/wAAAP8DAgH/5KVg/+SlYP8AAAD/AAAA/wAAAP9KNh//5KVg/+SlYP/kpWD/AAAA/ywgE//cn1z/5KVg/+SlYP/kpWD/5KVg/+SlYP/kpWD/5KVg/+SlYP/kpWD/5KVg/+SlYP/kpWD/5KVg/+SlYP/kpWD/5KVg/+SlYP/kpWD/nMPB/5zDwf+nv7P/3ahp/5zDw/+bvdz/5KVg/+SlYP/kpWD/5KVg/4rC7/+QwPD/kMDw/3/F7v+QwPD/VdPo/1XT6P9V0+j/VdPo/1XT6P9V0+j/VdPo/1XT6P9V0+j/kMDw/5DA8P96x+3/VdPo/5DA8P+QwPD/kMDw/13Q6f9lzur/kMDw/5DA8P9rzOv/e8ft/5DA8P+/sZ//5KVg/+SlYP/kpWD/ocG6/7K6o//kpWD/5KVg/+SlYP/kpWD/5KVg/57Cvv/kpWD/5KVg/+SlYP/kpWD/5KVg/+SlYP/kpWD/5KVg/+SlYP/kpWD/5KVg/+SlYP/kpWD/5KVg/+SlYP/kpWD/5KVg/3BRL/8BAQH/WkEm/+SlYP/foV7/AAAA/wAAAP8AAAD/AAAA/+SlYP/kpWD/wYxR/wAAAP8AAAD/AAAA/wAAAP8mHBD/qntI/+SlYP/kpWD/5KVg/+SlYP/kpWD/5KVg/+SlYP/kpWD/5KVg/+SlYP/kpWD/5KVg/+SlYP/kpWD/4Kdm/5zDwf/HsYf/5KVg/+SlYP/hpmT/5KVg/+SlYP/kpWD/5KVg/5u83f+QwPD/kMDw/5DA8P+QwPD/kMDw/4/A8P9Y0uj/VdPo/1XT6P9V0+j/VdPo/1XT6P9V0+j/VdPo/5DA8P+QwPD/jMHv/1XT6P92yez/kMDw/5DA8P+OwfD/kMDw/5DA8P+Fw+//kMDw/5DA8P+QwPD/ya6P/+SlYP/kpWD/5KVg/+SlYP/kpWD/5KVg/+SlYP/kpWD/5KVg/7C7p/+cw8H/3Khr/+SlYP/kpWD/5KVg/+SlYP/kpWD/5KVg/+SlYP/kpWD/5KVg/+SlYP/kpWD/5KVg/+SlYP/kpWD/5KVg/9WaWv+gdET/5KVg/7eFTf8AAAD/AAAA/wAAAP8AAAD/AAAA/wAAAP/kpWD/5KVg/ykeEf8AAAD/AAAA/wAAAP8AAAD/AAAA/wAAAP8AAAD/AgIB/7WDTP/kpWD/5KVg/+SlYP/kpWD/5KVg/+SlYP/kpWD/5KVg/+SlYP/kpWD/5KVg/8Kzjv/kpWH/5KVg/+SlYP/kpWD/5KVg/+SlYP/kpWD/5KVg/5HA7/+QwPD/kMDw/5DA8P+QwPD/kMDw/2LP6v+QwPD/kMDw/3bJ7P9V0+j/VdPo/1XT6P9V0+j/VdPo/1XT6P+QwPD/kMDw/5DA8P9V0+j/VdPo/5DA8P+Lwu//j8Dw/5DA8P9V0+j/kMDw/5DA8P+QwPD/kMDw/8muj//kpWD/5KVg/+SlYP/kpWD/1qtz/53DwP/kpWD/5KVg/667qf+cw8H/nMPB/9Srdf/kpWD/5KVg/+SlYP/kpWD/5KVg/+SlYP/kpWD/5KVg/+SlYP/kpWD/1pta/1tCJ/8EAwH/AQAA/wAAAP8AAAD/AAAA/+SlYP8BAQD/AAAA/wAAAP8AAAD/AAAA/wAAAP8AAAD/wo1S/+SlYP8AAAD/AAAA/wAAAP8AAAD/AAAA/wAAAP8AAAD/AAAA/wwJBf/kpWD/5KVg/+SlYP/kpWD/5KVg/+SlYP/kpWD/5KVg/+SlYP/kpWD/5KVg/+SlYP+ewr7/w7ON/+SlYP/kpWD/5KVg/+SlYP/kpWD/4aZm/5DA8P+QwPD/kMDw/5DA8P+QwPD/kMDw/7G1uP+bvMH/isLv/5DA8P+QwPD/jcHw/2jN6/9ozev/aM3r/2XO6v9lzur/kMDw/5DA8P+QwPD/a8zr/4XE7/+Lwe//kMDw/5DA8P+QwPD/l77k/5DA8P+QwPD/kMDw/5DA8P/LrYX/5KVg/+SlYP/kpWD/5KVg/7K5o/+cw8H/nMPB/5/Cvf+0uaD/4aZj/5zDwP/KsIP/5KVg/+SlYP/kpWD/5KVg/+SlYP/kpWD/5KVg/+SlYP/kpWD/5KVg/xMOCP8AAAD/AAAA/wAAAP8AAAD/AAAA/wAAAP+0g0z/AAAA/wAAAP8AAAD/AAAA/wAAAP8AAAD/AAAA/004IP+5hk7/AAAA/wAAAP8AAAD/AAAA/wAAAP8AAAD/AAAA/wAAAP/jpF//5KVg/+SlYP/kpWD/5KVg/+SlYP/kpWD/5KVg/+SlYP/kpWD/5KVg/8OzjP+iwbn/nMPB/6i+sf/kpWD/5KVg/+SlYP/kpWD/5KVg/+SlYP/kpWD/WNLl/+KlYf+gwrz/rL2s/5K/7f+QwPD/kMDw/5DA8P+Vvuj/pr6x/1XT6P9nzur/kMDw/5DA8P+QwPD/kMDw/37G7v+OwfD/kMDw/2rM6/9V0+j/rrmg/5DA8P+QwPD/kMDw/5DA8P+QwPD/kMDw/5DA8P+QwPD/W9Hp/+SlYP/kpWD/5KVg/+SlYP+cw8H/ocG6/96naP/kpWD/5KVg/+SlYP/kpWD/wLSR/+SlYP/kpWD/5KVg/+SlYP/kpWD/5KVg/+SlYP/kpWD/5KVg/+SlYP/kpWD/AAAA/wAAAP8AAAD/AAAA/wAAAP8AAAD/cFEv/wAAAP8AAAD/AAAA/wAAAP8AAAD/AAAA/wAAAP8IBgP/GhML/wAAAP8AAAD/AAAA/wAAAP8AAAD/AAAA/wAAAP9kSCr/5KVg/+SlYP/kpWD/5KVg/9ufXP+3iVT/uLGR/6HBu/+cw8H/5KVg/+SlYP/kpWH/p76y/5zDwf+cw8H/5KVg/+SlYP/kpWD/5KVg/+SlYP/jpWH/Yc/c/+SlYP+mv7P/pr+z/8Gwm/+QwPD/kMDw/5DA8P+QwPD/kMDw/5fC1f/hpmX/z6x0/2LP6v+QwPD/dMns/1XT6P+QwPD/kMDw/5DA8P+QwPD/36dn/5zDwf+QwPD/kMDw/5DA8P+bvd3/46Vh/5DA8P+QwPD/kMDw/92nbf+Jwrb/3adn/+SlYP/kpWD/5KVg/+SlYP/kpWD/5KVg/+SlYP/kpWD/5KVg/+SlYP/kpWD/5KVg/+SlYP/kpWD/5KVg/+SlYP/kpWD/5KVg/+SlYP/kpWD/5KVg/+SlYP8AAAD/AAAA/wAAAP8AAAD/KB0R/wAAAP8AAAD/AAAA/wAAAP8AAAD/AAAA/wAAAP8AAAD/AAAA/4tlO/8AAAD/AAAA/wAAAP8AAAD/AAAA/wAAAP8DAgH/5KVg/+SlYP+kd0X/EAwH/wAAAP8AAAD/AAAA/3mXlf+dwr//4qZj/+SlYP/kpWD/5KVg/+SlYP/hpmT/oMG7/9yoa//kpWD/5KVg/+SlYP/kpWD/aszU/+SlYP/fp2f/oMG7/+SlYP+QwPD/kMDw/5DA8P+QwPD/kMDw/5DA8P+QwPD/l77k/5DA8P+QwPD/kMDw/4/A8P9V0+j/kMDw/5DA8P+QwPD/kMDw/+SlYP+hwbr/vrOb/5DA8P+QwPD/0auB/+SlYP/ep2r/kMDw/5DA8P/Bs5H/5KVg/4LGwv+fwrz/ybCE/+SlYP/kpWD/5KVg/+SlYP/kpWD/5KVg/+SlYP/kpWD/1at0/5/Cvf/Cs43/5KVg/+SlYP/kpWD/5KVg/+SlYP/kpWD/5KVg/+SlYP/kpWD/u4dP/wAAAP8AAAD/AAAA/8qSVf8AAAD/AAAA/wAAAP8AAAD/AAAA/wAAAP8AAAD/AAAA/wAAAP9FMh3/2Jxb/wgGA/8AAAD/AAAA/wAAAP8AAAD/5KVg/+SlYP/kpWD/b1Ev/wAAAP8AAAD/AAAA/wAAAP+KqaX/5KVg/+SlYP/kpWD/5KVg/+SlYP/kpWD/5KVg/+SlYP/kpWD/5KVg/+SlYP/kpWD/5KVg/+SlYP/kpWD/5KVg/+SlYP+XvuP/kMDw/5DA8P+QwPD/kr/s/6+2u/+yuaX/rLyr/7O1tP+QwPD/kMDw/5DA8P+QwPD/kMDw/5DA8P+QwPD/kMDw/5DA8P/kpWD/1at0/6DBu/+QwPD/kMDw/+SlYP/kpWD/5KVg/9Wqef+QwPD/3qdr/9upbP+cw8H/nMPB/9upbP/kpWD/5KVg/+SlYP/kpWD/5KVg/+SlYP/kpWD/5KVg/+SlYP/Bs4//nMPB/5zDwf8AAAD/YUYp/9OZWf/kpWD/5KVg/+SlYP/kpWD/5KVg/+SlYP9zUzH/AAAA/0k1H/9LNh//AAAA/wAAAP8AAAD/AAAA/wAAAP8AAAD/AAAA/wAAAP8AAAD/AAAA/+SlYP/kpWD/nHFC/wAAAP8AAAD/UDoi/+SlYP/kpWD/5KVg/0QxHf8AAAD/AAAA/wAAAP8SDQf/5KVg/+SlYP/kpWD/5KVg/+SlYP/kpWD/5KVg/+SlYP/kpWD/5KVg/668qf/fp2f/5KVg/+SlYP/kpWD/5KVg/7e3nf/BspT/kMDw/5S/6v/QrIP/4qVj/+SlYP/kpWD/n8K9/+CmZf/kpWD/lr7l/5DA8P+QwPD/kMDw/5DA8P/kpWD/m73c/5DA8P+QwPD/0at//+SlYP+cw8H/p7nG/5i94v/kpWD/5KVg/+SlYP/kpWD/vbKj/9+naf/kpWD/vrWT/5zDwf/kpWD/5KVg/+SlYP/kpWD/5KVg/+SlYP/kpWD/5KVg/+SlYP/kpWD/5KVg/6y8rP+cw8H/AAAA/wAAAP8AAAD/AQEA/y4hE//kpWD/5KVg/+SlYP/kpWD/5KVg/+SlYP/kpWD/AAAA/wAAAP8AAAD/AAAA/wAAAP8AAAD/AAAA/wAAAP8AAAD/AAAA/wAAAP8/Lhv/5KVg/+SlYP/kpWD/JhwQ/+SlYP/kpWD/5KVg/+SlYP8dFQz/AAAA/wAAAP8UDgj/5KVg/+SlYP/kpWD/5KVg/+SlYP/kpWD/5KVg/+SlYP/kpWD/5KVg/+SlYP/Wq3P/nMPB/5zDwf/bqWz/5KVg/8ayiP+cw8H/m8PF/+SlYP/kpWD/5KVg/+SlYP/kpWD/46Vh/5zDwf/kpWD/5KVg/+SlYP+Sv+3/kMDw/5DA8P+QwPD/5KVg/+SlYP/LrYr/kMDw/6W5zP/kpWD/xLKL/6u9rf/Wqnn/5KVg/+SlYP/kpWD/5KVg/+SlYP/kpWD/5KVg/+SlYP+cw8H/5KVg/+SlYP/kpWD/5KVg/+SlYP/kpWD/5KVg/+SlYP/kpWD/5KVg/+SlYP/kpWD/ocG6/wgJCf8AAAD/AAAA/wAAAP8AAAD/AAAA/w4KBv/foV7/NycX/wAAAP9NOCH/yZJV/wAAAP8AAAD/AAAA/wAAAP8AAAD/AAAA/wAAAP8AAAD/AAAA/wAAAP8AAAD/AAAA/+SlYP/kpWD/5KVg/9icW//Gj1P/5KVg/+SlYP/kpWD/AAAA/wAAAP8/Lhr/5KVg/+SlYP/kpWD/5KVg/+SlYP/kpWD/5KVg/+SlYP/kpWD/5KVg/+SlYP/kpWD/5KVg/5zDwf+cw8H/nMPB/57Cv/+cw8H/nMPB/5zDwf+7tpf/5KVg/+SlYP/kpWD/5KVg/8uwgv+lv7X/5KVg/+SlYP/kpWD/4KZo/5DA8P+QwPD/kMDw/+SlYP/kpWD/5KVg/+SlYP+Sv+z/5KVg/+SlYP+gwbz/5KVg/+SlYP/kpWD/5KVg/+SlYP/kpWD/5KVg/+SlYP/aqW3/oMG7/+SlYP/kpWD/5KVg/+SlYP/kpWD/5KVg/+SlYP/kpWD/5KVg/+SlYP/kpWD/5KVg/+SlYP8bHx3/AAAA/wAAAP8AAAD/KB0R/8eQVP/kpWD/BQQC/wAAAP8AAAD/BgQD/+SlYP8AAAD/AAAA/wAAAP8AAAD/AAAA/wAAAP8AAAD/AAAA/wAAAP8AAAD/AAAA/wAAAP9iRyn/5KVg/+SlYP8AAAD/AAAA/wMCAf/doF3/5KVg/wAAAP8vIxT/5KVg/+SlYP/kpWD/5KVg/+SlYP/kpWD/5KVg/+SlYP/kpWD/5KVg/+SlYP/kpWD/5KVg/+SlYP+iwbn/t7id/+SlYP/kpWD/5KVg/+SlYP/kpWD/5KVg/8yvgP+cw8H/nMPB/5zDwf/kpWD/5KVg/+SlYP/kpWD/5KVg/+SlYP/NrYj/kMDw/5DA8P/kpWD/5KVg/+SlYP/kpWD/5KVg/+SlYP/kpWD/5KVg/+SlYP/kpWD/5KVg/+SlYP/kpWD/5KVg/+SlYP/jpWH/nMPB/628qv/kpWD/5KVg/+SlYP/kpWD/5KVg/+SlYP/kpWD/5KVg/+SlYP/kpWD/5KVg/+SlYP/kpWD/5KVg/wEAAP85KRj/5KVg/+SlYP/kpWD/5KVg/wUEAv8AAAD/AAAA/2FGKf/kpWD/0phY/wAAAP8AAAD/AAAA/wAAAP8AAAD/AAAA/wAAAP8AAAD/AAAA/wAAAP8AAAD/AAAA/+SlYP/cn13/AAAA/wAAAP8AAAD/AAAA/5NqPv+Zb0H/5KVg/+SlYP/kpWD/5KVg/+SlYP/kpWD/5KVg/+SlYP/kpWD/5KVg/+SlYP/kpWD/5KVg/+SlYP/kpWD/xbGJ/+SlYP/kpWD/5KVg/+SlYP/kpWD/5KVg/+SlYP/kpWD/ncK//5zDwf+9tZT/5KVg/+SlYP/kpWD/5KVg/+SlYP/kpWD/5KVg/6O60P+QwPD/5KVg/+SlYP/kpWD/5KVg/+SlYP/kpWD/qL6x/9Wrdf/kpWD/5KVg/+SlYP/kpWD/5KVg/+SlYP/kpWD/ocG7/5zDwf+cw8H/osG6/+SlYP/kpWD/5KVg/+SlYP/kpWD/5KVg/+SlYP/kpWD/5KVg/+SlYP/kpWD/5KVg/+SlYP/kpWD/5KVg/+SlYP/kpWD/5KVg/+SlYP8FBAL/AAAA/wAAAP/kpWD/5KVg/41mPP8AAAD/AAAA/wAAAP8AAAD/AAAA/wAAAP8AAAD/AAAA/wAAAP8AAAD/AAAA/wAAAP9cQyf/5KVg/82UVv8AAAD/AAAA/wAAAP+pekf/5KVg/+SlYP/kpWD/5KVg/+SlYP/kpWD/5KVg/+SlYP/kpWD/5KVg/+SlYP/kpWD/5KVg/+SlYP/kpWD/5KVg/+SlYP/kpWD/5KVg/+SlYP/kpWD/5KVg/+SlYP/kpWD/5KVg/+SlYP+cw8H/36dn/+SlYP/kpWD/5KVg/+SlYP/kpWD/5KVg/+SlYP/kpWD/kMDw/6u9rv+kv7b/4qZj/+SlYP/jpWH/nMPB/5zDwf+cw8H/5KVg/+SlYP/kpWD/5KVg/+SlYP/kpWD/vLaW/6u9rf/JsIX/5KVg/+SlYP/kpWD/2Kpw/+SlYP/kpWD/5KVg/+SlYP/kpWD/5KVg/+SlYP/kpWD/5KVg/+SlYP/kpWD/5KVg/+SlYP/kpWD/5KVg/+SlYP/kpWD/BQQC/wAAAP8AAAD/5KVg/+OkYP8AAAD/AAAA/wAAAP8AAAD/AAAA/wAAAP8AAAD/AAAA/wAAAP8AAAD/AAAA/wAAAP8AAAD/AAAA/+SlYP/kpWD/clIw/wAAAP8AAAD/4KJe/+SlYP/kpWD/5KVg/+SlYP/kpWD/5KVg/82VVv/kpWD/5KVg/+SlYP/kpWD/5KVg/+SlYP/kpWD/5KVg/+KmYv/TrHf/5KVg/+SlYP/kpWD/5KVg/+SlYP/kpWD/5KVg/+SlYP/kpWD/qb2v/+GmY//kpWD/5KVg/+SlYP/kpWD/5KVg/+SlYP/kpWD/5KVg/+SlYP+jwLf/nMPB/5zDwf/gp2b/5KVg/9Gtev+jwLj/nMPB/+OlYf/Xq3L/ybCF/7m3mv+qva//36dn/+SlYP/kpWD/5KVg/+SlYP/kpWD/5KVg/+SlYP+cw8H/zK+A/+SlYP/kpWD/5KVg/+SlYP/kpWD/5KVg/y4uJv8AAAD/DgsG/x8WDf85KRj/SDUf/11EJ/9yUzD/h2I5/+SlYP/eoV7/1pta/+SlYP8QCwf/AAAA/wAAAP8AAAD/AAAA/wAAAP8AAAD/AAAA/wAAAP8AAAD/AAAA/wAAAP8AAAD/AAAA/wAAAP93VjL/5KVg/+SlYP8AAAD/NykY/+OlYP/YnFv/YEYp/wgFA/8CAgH/AAAA/wAAAP/kpWD/5KVg/+SlYP/kpWD/5KVg/+SlYP/kpWD/5KVg/9yoav+cw8H/5KVg/+SlYP/kpWD/5KVg/+SlYP/kpWD/5KVg/+SlYP/kpWD/5KVg/+SlYP+cw8H/tbif/+SlYP/kpWD/5KVg/+SlYP/kpWD/5KVg/+SlYP/kpWD/nMPB/5zDwf/jpWH/5KVg/+SlYP/kpWD/5KVg/+SlYP/Mr4D/nMPB/5zDwf+cw8H/x7GH/+SlYP/kpWD/5KVg/+SlYP/kpWD/5KVg/+SlYP/kpWD/2qlu/5zDwf+ewr//5KVg/+SlYP/kpWD/5KVg/+SlYP9ZQCb/AAAA/wAAAP8AAAD/AAAA/wAAAP8AAAD/AAAA/w0KBv/kpWD/5KVg/+SlYP+KZDr/AAAA/wAAAP8AAAD/AAAA/wAAAP8AAAD/AAAA/wAAAP8AAAD/AAAA/wAAAP8AAAD/AAAA/wAAAP8AAAD/AAAA/3FSMP8oHRH/Kh4S/+SlYP+EYDj/AAAA/wAAAP8AAAD/AAAA/wAAAP8AAAD/5KVg/+SlYP/kpWD/5KVg/+SlYP/kpWD/5KVg/7q3mf+cw8H/qb6v/+SlYP/kpWD/5KVg/+SlYP/kpWD/5KVg/+SlYP/kpWD/5KVg/+SlYP/kpWD/qb2w/5zDwf+cw8H/3qdo/+SlYP/kpWD/5KVg/+SlYP/Vq3X/trie/6m9r//kpWD/5KVg/+SlYP/kpWD/5KVg/+SlYP/kpWD/5KVg/+SlYP+cw8H/p7+z/+SlYP/kpWD/5KVg/+SlYP/kpWD/5KVg/+SlYP/kpWD/5KVg/+SlYP+cw8H/nMPB/5zDwf+wu6X/5KVg/+SlYP/kpWD/5KVg/wAAAP8AAAD/AAAA/wAAAP8AAAD/AAAA/wAAAP8bFAz/5KVg/+SlYP/anVz/AAAA/wAAAP8AAAD/AAAA/wAAAP8AAAD/AAAA/wAAAP8AAAD/AAAA/wAAAP8AAAD/AAAA/wAAAP8AAAD/AAAA/wAAAP8AAAD/AAAA/wAAAP9yUzD/PCsZ/wAAAP8AAAD/AAAA/wAAAP8AAAD/eVgz/+SlYP/kpWD/5KVg/+SlYP/kpWD/5KVg/6HBu/+cw8H/nMPB/+KmY//kpWD/5KVg/+SlYP/kpWD/5KVg/+SlYP/kpWD/5KVg/+SlYP/kpWD/zK+B/5zDwf+cw8H/osC5/9Cte//kpWD/sbql/53DwP+cw8H/nMPB/7y2lv/kpWD/5KVg/+SlYP/kpWD/5KVg/+SlYP/kpWD/5KVg/+SlYP/kpWD/nMPA/+SlYP/kpWD/5KVg/+SlYP/kpWD/5KVg/+SlYP/kpWD/5KVg/+SlYP/kpWD/0qx4/5zDwf+cw8H/nMPB/zhFRf/Dnmz/5KVg/+SlYP8AAAD/AAAA/wAAAP8AAAD/AAAA/wAAAP8AAAD/GxQM/+SlYP/kpWD/CgcE/wAAAP8AAAD/AAAA/wAAAP8AAAD/AAAA/wAAAP8AAAD/AAAA/wAAAP8AAAD/AAAA/wAAAP8AAAD/AAAA/wAAAP8AAAD/AAAA/wAAAP8AAAD/AAAA/7qHTv8AAAD/AAAA/wAAAP8AAAD/AAAA/9qeXP/kpWD/5KVg/+SlYP/kpWD/u4dP/5zDwf+cw8H/nMPB/5zDwf/kpWD/5KVg/+SlYP/kpWD/5KVg/+SlYP/kpWD/5KVg/+SlYP/kpWD/5KVg/82ufv/kpWD/5KVg/+SlYP/kpWD/5KVg/+SlYP/dqGr/nMPB/5zDwf/kpWD/5KVg/+SlYP/kpWD/5KVg/+SlYP/kpWD/5KVg/+SlYP/kpWD/5KVg/+SlYP/kpWD/5KVg/+SlYP/kpWD/5KVg/+SlYP/kpWD/5KVg/+SlYP/kpWD/5KVg/+SlYP+cw8H/nMPB/zZDQ/8AAAD/dVUx/+SlYP/kpWD/AAAA/wAAAP8AAAD/AAAA/wAAAP8AAAD/AAAA/xsUDP/kpWD/dVUx/wAAAP8AAAD/AAAA/wAAAP8AAAD/AAAA/wAAAP8AAAD/AAAA/wAAAP8AAAD/AAAA/wAAAP8AAAD/AAAA/wAAAP8AAAD/AAAA/wAAAP8AAAD/AAAA/wAAAP8AAAD/y5NV/wAAAP8AAAD/AAAA/w4KBv/kpWD/5KVg/+SlYP/kpWD/UToi/wAAAP8CAgL/m8G//5zDwf+/tJL/5KVg/+SlYP/kpWD/5KVg/+SlYP/kpWD/5KVg/+SlYP/kpWD/5KVg/+KmY//kpWD/5KVg/+SlYP/kpWD/5KVg/+SlYP/kpWD/5KVg/+SlYP+wu6b/s7mi/+SlYP/kpWD/5KVg/+SlYP/kpWD/5KVg/+SlYP/kpWD/5KVg/+SlYP/kpWD/5KVg/+SlYP/kpWD/5KVg/+SlYP/kpWD/5KVg/+SlYP/kpWD/5KVg/+SlYP/kpWD/3ahq/xgdHf8AAAD/AAAA/9WaWv/kpWD/5KVg/zYoF/8AAAD/AAAA/wAAAP8AAAD/AAAA/wAAAP8bFAz/5KVg/wAAAP8AAAD/AAAA/wAAAP8AAAD/AAAA/wAAAP8AAAD/AAAA/wAAAP8AAAD/AAAA/wAAAP8AAAD/AAAA/wAAAP8AAAD/AAAA/wAAAP8AAAD/AAAA/wAAAP8AAAD/AAAA/wAAAP+XbT//AAAA/wAAAP9+WzX/5KVg/+SlYP/foV7/AAAA/wAAAP8AAAD/AAAA/wAAAP+WvLr/4qZi/+SlYP/kpWD/5KVg/+SlYP/kpWD/5KVg/+SlYP/kpWD/5KVg/5/BvP/kpWD/5KVg/+SlYP/kpWD/5KVg/+SlYP/kpWD/5KVg/+SlYP/kpWD/5KVg/+SlYP/kpWD/5KVg/+SlYP/kpWD/5KVg/+SlYP/kpWD/5KVg/+SlYP/kpWD/n8K9/+SlYP/kpWD/5KVg/+SlYP/kpWD/5KVg/+SlYP/kpWD/5KVg/+SlYP/kpWD/5KVg/+SlYP8HBQP/AAAA/wAAAP/kpWD/5KVg/+SlYP/Vq3T/BwkJ/wAAAP8AAAD/AAAA/wAAAP8AAAD/MSMV/wUEAv8AAAD/AAAA/wAAAP8AAAD/AAAA/wAAAP8AAAD/AAAA/wAAAP8AAAD/AAAA/wAAAP8AAAD/AAAA/wAAAP8AAAD/AAAA/wAAAP8AAAD/AAAA/wAAAP8AAAD/AAAA/wAAAP8AAAD/BwUD/+SlYP/Vm1r/1Zpa/+SlYP/kpWD/2Z1c/2RIKv9GMx7/Ew8I/wAAAP8AAAD/EQwH/+SlYP/kpWD/5KVg/+SlYP/kpWD/5KVg/+SlYP/kpWD/5KVg/6a/tP+cw8H/5KVg/+SlYP/kpWD/5KVg/+SlYP/kpWD/5KVg/+SlYP/kpWD/5KVg/+SlYP/kpWD/3ahp/+SlYP/kpWD/5KVg/+SlYP/kpWD/5KVg/+SlYP/kpWD/5KVg/5zDwf/QrXv/5KVg/+SlYP/kpWD/5KVg/+SlYP/kpWD/5KVg/+SlYP/kpWD/5KVg/+SlYP/kpWD/uIVN/wAAAP8VDwn/5KVg/+SlYP/kpWD/4KJe/0ZXVv8AAAD/AAAA/wAAAP8UDwn/fFo0/3tZNP8AAAD/AAAA/wAAAP8AAAD/AAAA/wAAAP8AAAD/AAAA/wAAAP8AAAD/AAAA/wAAAP8AAAD/AAAA/wAAAP8AAAD/AAAA/wAAAP8AAAD/AAAA/wAAAP8AAAD/AAAA/wAAAP8AAAD/AAAA/wAAAP8yJRX/5KVg/wAAAP8AAAD/AAAA/y4iE//kpWD/5KVg/+SlYP/kpWD/5KVg/+SlYP/kpWD/5KVg/+SlYP/gol7/5KVg/+SlYP/kpWD/5KVg/761k/+cw8H/nMPB/+SlYP/kpWD/5KVg/+SlYP/kpWD/5KVg/+SlYP/kpWD/5KVg/+SlYP/kpWD/5KVg/7O5ov/kpWD/5KVg/+SlYP/kpWD/5KVg/+SlYP/kpWD/5KVg/+SlYP+cw8H/nMPB/+SlYP/kpWD/5KVg/+SlYP/kpWD/5KVg/+SlYP/kpWD/5KVg/+SlYP/kpWD/5KVg/+SlYP8DAgH/c1Qx/+SlYP/kpWD/5KVg/+SlYP+QaT3/5KVg/+SlYP/kpWD/5KVg/1xCJ/8AAAD/AAAA/wAAAP8AAAD/AAAA/wAAAP8AAAD/AAAA/wAAAP8AAAD/AAAA/wAAAP8AAAD/AAAA/wAAAP8AAAD/AAAA/wAAAP8AAAD/AAAA/wAAAP8AAAD/AAAA/wAAAP8AAAD/AAAA/wAAAP8AAAD/AAAA/8WPU/8AAAD/AAAA/wAAAP8AAAD/5KVg/+SlYP/kpWD/5KVg/+SlYP/kpWD/5KVg/39bNf8CAgH/elk0/+SlYP/kpWD/5KVg/9qpbf+cw8H/nMPB/6W/tf/kpWD/5KVg/+SlYP/kpWD/5KVg/+SlYP/kpWD/5KVg/+SlYP/kpWD/5KVg/96oaP+cw8H/5KVg/+SlYP/kpWD/5KVg/+SlYP/kpWD/5KVg/+SlYP/kpWD/JzAw/5zDwf+mv7T/5KVg/+SlYP/kpWD/5KVg/+SlYP/kpWD/hWA4/+SlYP/kpWD/5KVg/+SlYP/kpWD/0JdY/9CXWP+NZjv/RDEd/xcQCv8AAAD/5KVg/+SlYP/kpWD/5KVg/zMlFv8AAAD/AAAA/wAAAP8AAAD/AAAA/wAAAP8AAAD/AAAA/wAAAP8AAAD/AAAA/wAAAP8AAAD/AAAA/wAAAP8AAAD/AAAA/wAAAP8AAAD/AAAA/wAAAP8AAAD/AAAA/wAAAP8AAAD/AAAA/wAAAP8AAAD/AAAA/wAAAP/kpWD/3aBd/wAAAP8AAAD/AAAA/5NrPv/kpWD/5KVg/+SlYP/cn1z/LCAT/wAAAP8AAAD/AAAA/zQlFv/kpWD/5KVg/+CjX/+cw8H/nMPB/5zDwf94alD/5KVg/+SlYP/kpWD/5KVg/+SlYP/kpWD/5KVg/+SlYP/kpWD/5KVg/+SlYP+svKv/nMPB/9+nZv/kpWD/5KVg/+SlYP/kpWD/5KVg/+SlYP/kpWD/5KVg/wAAAP8AAAD/nMPB/9iqcP/kpWD/5KVg/+SlYP/kpWD/5KVg/xYRCv8AAAD/0phY/+SlYP/kpWD/5KVg/+SlYP9gRSj/AAAA/wAAAP8AAAD/AAAA/+OkYP/kpWD/5KVg/xcRCv8AAAD/AAAA/wAAAP8AAAD/AAAA/wAAAP8AAAD/AAAA/wAAAP8AAAD/AAAA/wAAAP8AAAD/AAAA/wAAAP8AAAD/AAAA/wAAAP8AAAD/AAAA/wAAAP8AAAD/AAAA/wAAAP8AAAD/AAAA/wAAAP8AAAD/AAAA/wAAAP8aEwv/5KVg/+SlYP+/ilD/AAAA/wAAAP8LCAX/5KVg/6J1RP8NCQX/AAAA/wAAAP8AAAD/AAAA/wAAAP8ZEgv/5KVg/+SlYP8EAwL/nMPB/5zDwf8JCgr/hGA4/+SlYP/kpWD/5KVg/+SlYP/kpWD/5KVg/+SlYP/kpWD/5KVg/+SlYP/kpWD/nMPB/5zDwf+jwLf/5KVg/+SlYP/kpWD/5KVg/+SlYP/kpWD/5KVg/+SlYP8AAAD/AAAA/wAAAP+EpKP/5KVg/+SlYP/kpWD/5KVg/+SlYP8KBwT/AAAA/wAAAP8dFQz/5KVg/+SlYP/kpWD/AAAA/wAAAP8AAAD/AAAA/xwVDP/ZnVz/5KVg/yAXDf8AAAD/AAAA/wAAAP8AAAD/AAAA/wAAAP8AAAD/AAAA/wAAAP8AAAD/AAAA/wAAAP8AAAD/AAAA/wAAAP8AAAD/AAAA/wAAAP8AAAD/AAAA/wAAAP8AAAD/AAAA/wAAAP8AAAD/AAAA/wAAAP8AAAD/AAAA/wAAAP8AAAD/AAAA/wAAAP/kpWD/5KVg/4tkOv+PaDz/5KVg/5NqPv8AAAD/AAAA/wAAAP8AAAD/AAAA/wAAAP8AAAD/AAAA/+SlYP/kpWD/nHFC/5a8uv8AAAD/AAAA/7iFTf/kpWD/5KVg/+SlYP/kpWD/5KVg/+SlYP/kpWD/5KVg/+SlYP/kpWD/5KVg/5zDwf+cw8H/nMPB/+SlYP/kpWD/5KVg/+SlYP/kpWD/5KVg/+SlYP/kpWD/AAAA/wAAAP8AAAD/AAAA/3d7av/kpWD/5KVg/+SlYP/kpWD/AAAA/wAAAP8AAAD/AAAA/wAAAP8qHhL/5KVg/wAAAP8AAAD/AQEA/86VV//kpWD/5KVg/wAAAP8AAAD/AAAA/wAAAP8AAAD/AAAA/wAAAP8AAAD/AAAA/wAAAP8AAAD/AAAA/wAAAP8AAAD/AAAA/wAAAP8AAAD/AAAA/wAAAP8AAAD/AAAA/wAAAP8AAAD/AAAA/wAAAP8AAAD/AAAA/wAAAP8AAAD/AAAA/wAAAP8AAAD/AAAA/wAAAP8AAAD/AAAA/8GMUf/kpWD/5KVg/+SlYP/kpWD/AAAA/wAAAP8AAAD/AAAA/wAAAP8AAAD/AAAA/wAAAP/kpWD/5KVg/+SlYP8ZEgr/AAAA/wAAAP/kpWD/5KVg/+SlYP/kpWD/5KVg/+SlYP/kpWD/5KVg/+SlYP/kpWD/5KVg/92oav+cw8H/nMPB/5zDwf/RrXr/5KVg/+SlYP/kpWD/jXZU/+SlYP/kpWD/5KVg/wAAAP8AAAD/AAAA/wAAAP8AAAD/0phZ/+SlYP/kpWD/5KVg/wAAAP8AAAD/AAAA/wAAAP8AAAD/AAAA/96hXv/kpWD/fls1/+SlYP/kpWD/5KVg/xEMB/8AAAD/AAAA/wAAAP8AAAD/AAAA/wAAAP8AAAD/AAAA/wAAAP8AAAD/AAAA/wAAAP8AAAD/AAAA/wAAAP8AAAD/AAAA/wAAAP8AAAD/AAAA/wAAAP8AAAD/AAAA/wAAAP8AAAD/AAAA/wAAAP8AAAD/AAAA/wAAAP8AAAD/AAAA/wAAAP8AAAD/AAAA/wAAAP8AAAD/QzEc/+SlYP/kpWD/5KVg/xkTC/8AAAD/AAAA/wAAAP8AAAD/AAAA/wAAAP8AAAD/5KVg/+SlYP/kpWD/46Vg/wAAAP8AAAD/5KVg/+SlYP/kpWD/5KVg/+SlYP9fRSj/5KVg/+SlYP/kpWD/5KVg/+SlYP97WjX/nMPB/wQFBf8EBAT/IxoQ/+SlYP/kpWD/z5ZX/wAAAP8vIhT/5KVg/+SlYP/kpWD/4KJe/21OLv8AAAD/AAAA/wICAf/kpWD/5KVg/+SlYP8AAAD/AAAA/wAAAP8AAAD/AAAA/wAAAP/kpWD/dVUx/wEBAf+vf0r/5KVg/wUEAv8AAAD/AAAA/wAAAP8AAAD/AAAA/wAAAP8AAAD/AAAA/wAAAP8AAAD/AAAA/wAAAP8AAAD/AAAA/wAAAP8AAAD/AAAA/wAAAP8AAAD/AAAA/wAAAP8AAAD/AAAA/wAAAP8AAAD/AAAA/wAAAP8AAAD/AAAA/wAAAP8AAAD/AAAA/wAAAP8AAAD/AAAA/wAAAP8AAAD/AAAA/wAAAP8LCAX/5KVg/+SlYP/foV7/AAAA/wAAAP8AAAD/AAAA/wAAAP8AAAD/AAAA/9GXWP/kpWD/5KVg/+SlYP+kd0X/AAAA/+SlYP/kpWD/5KVg/+SlYP+ufkr/AAAA/8qSVf/kpWD/5KVg/+SlYP/kpWD/Kh4S/5zDwf8AAAD/AAAA/5NrPv/kpWD/5KVg/xQPCf8AAAD/AAAA/yMaD//kpWD/5KVg/+SlYP/kpWD/5KVg/+SlYP+1g0z/5KVg/+SlYP/kpWD/AAAA/wAAAP8AAAD/AAAA/xoTC/+idkT/AAAA/wAAAP8AAAD/AAAA/wAAAP8AAAD/AAAA/wAAAP8AAAD/AAAA/wAAAP8AAAD/AAAA/wAAAP8AAAD/AAAA/wAAAP8AAAD/AAAA/wAAAP8AAAD/AAAA/wAAAP8AAAD/AAAA/wAAAP8AAAD/AAAA/wAAAP8AAAD/AAAA/wAAAP8AAAD/AAAA/wAAAP8AAAD/AAAA/wAAAP8AAAD/AAAA/wAAAP8AAAD/AAAA/wAAAP8AAAD/AAAA/wAAAP+wgEr/5KVg/wAAAP8AAAD/AAAA/wAAAP8AAAD/AAAA/wAAAP+8iE//5KVg/+SlYP/kpWD/5KVg/8SOU//kpWD/5KVg/+SlYP/PlVf/AAAA/wAAAP8kGg//5KVg/+SlYP/kpWD/5KVg/wAAAP+cw8H/CwgF/96hXv/kpWD/5KVg/76KUP8AAAD/AAAA/wAAAP8AAAD/EAwH/+SlYP/kpWD/5KVg/+SlYP/kpWD/WUAl/wAAAP8kGg//0ZdY/3VVMv8AAAD/AwIB/7aETf8PCwb/AAAA/wAAAP8AAAD/AAAA/wAAAP8AAAD/AAAA/wAAAP8AAAD/AAAA/wAAAP8AAAD/AAAA/wAAAP8AAAD/AAAA/wAAAP8AAAD/AAAA/wAAAP8AAAD/AAAA/wAAAP8AAAD/AAAA/wAAAP8AAAD/AAAA/wAAAP8AAAD/AAAA/wAAAP8AAAD/AAAA/wAAAP8AAAD/AAAA/wAAAP8AAAD/AAAA/wAAAP8AAAD/AAAA/wAAAP8AAAD/AAAA/wAAAP8AAAD/AAAA/ywgEv9xUjD/AAAA/wAAAP8AAAD/FQ8J/z4tGv+NZjv/5KVg/4RfOP8uIRP/AAAA/wAAAP9/XTb/5KVg/+SlYP/gol7/AAAA/wAAAP8AAAD/AAAA/+SlYP/kpWD/5KVg/+CiXv8AAAD/trie/+SlYP/kpWD/5KVg/+SlYP8AAAD/AAAA/wAAAP8AAAD/AAAA/wAAAP8GBAL/5KVg/+SlYP/kpWD/oHRE/wAAAP8AAAD/AAAA/wAAAP/kpWD/5KVg/0QxHf8AAAD/AAAA/wAAAP8AAAD/AAAA/wAAAP8AAAD/AAAA/wAAAP8AAAD/AAAA/wAAAP8AAAD/AAAA/wAAAP8AAAD/AAAA/wAAAP8AAAD/AAAA/wAAAP8AAAD/AAAA/wAAAP8AAAD/AAAA/wAAAP8AAAD/AAAA/wAAAP8AAAD/AAAA/wAAAP8AAAD/AAAA/wAAAP8AAAD/AAAA/wAAAP8AAAD/AAAA/wAAAP8AAAD/AAAA/wAAAP8AAAD/AAAA/wAAAP8AAAD/AAAA/wAAAP8AAAD/EAsH/9yfXf/kpWD/5KVg/+SlYP/kpWD/5KVg/+SlYP8AAAD/AAAA/wAAAP8AAAD/AAAA/+SlYP/kpWD/BAMC/wAAAP8AAAD/AAAA/wAAAP+VbD//5KVg/+SlYP/ipF//uIVN/+SlYP/kpWD/5KVg/+SlYP/Rl1j/AAAA/wAAAP8AAAD/AAAA/wAAAP8AAAD/AAAA/wcFA//kpWD/xpBU/wAAAP8AAAD/AAAA/wAAAP8xJBX/fFo0/wAAAP8AAAD/AAAA/wAAAP8AAAD/AAAA/wAAAP8AAAD/AAAA/wAAAP8AAAD/AAAA/wAAAP8AAAD/AAAA/wAAAP8AAAD/AAAA/wAAAP8AAAD/AAAA/wAAAP8AAAD/AAAA/wAAAP8AAAD/AAAA/wAAAP8AAAD/AAAA/wAAAP8AAAD/AAAA/wAAAP8AAAD/AAAA/wAAAP8AAAD/AAAA/wAAAP8AAAD/AAAA/wAAAP8AAAD/AAAA/wAAAP8AAAD/AAAA/wAAAP8AAAD/AAAA/wAAAP8AAAD/AAAA/wAAAP8AAAD/AAAA/49oPf/kpWD/5KVg/+SlYP/kpWD/AAAA/wAAAP8AAAD/AAAA/wAAAP8zJRX/GBEK/wAAAP8AAAD/AAAA/wAAAP8AAAD/AAAA/+SlYP/kpWD/mG5A/wsJBf/boWD/5KVg/+SlYP/kpWD/BwUD/wAAAP8AAAD/AAAA/wAAAP8AAAD/AAAA/wAAAP8AAAD/toRN/55zQ/8AAAD/AAAA/wYEAv/Umln/5KVg/wAAAP8AAAD/AAAA/wAAAP8AAAD/AAAA/wAAAP8AAAD/AAAA/wAAAP8AAAD/AAAA/wAAAP8AAAD/AAAA/wAAAP8AAAD/AAAA/wAAAP8AAAD/AAAA/wAAAP8AAAD/AAAA/wAAAP8AAAD/AAAA/wAAAP8AAAD/AAAA/wAAAP8AAAD/AAAA/wAAAP8AAAD/AAAA/wAAAP8AAAD/AAAA/wAAAP8AAAD/AAAA/wAAAP8AAAD/AAAA/wAAAP8AAAD/AAAA/wAAAP8AAAD/AAAA/wAAAP8AAAD/AAAA/wAAAP8AAAD/AAAA/wAAAP8AAAD/AAAA/z4tGv/kpWD/5KVg/+SlYP/eoV7/uIVO/3VVMf8pHRH/5KVg/+SlYP8AAAD/AAAA/wAAAP8AAAD/AAAA/wAAAP/kpWD/HBQM/wAAAP8AAAD/Pk5N/zsrGf/kpWD/s4JL/wAAAP8AAAD/AAAA/wAAAP8AAAD/AAAA/wAAAP8AAAD/c1Qx/+SlYP/kpWD/toRN/6R3Rf/kpWD/5KVg/+SlYP8AAAD/AAAA/wAAAP8AAAD/AAAA/wAAAP8AAAD/AAAA/wAAAP8AAAD/AAAA/wAAAP8AAAD/AAAA/wAAAP8AAAD/AAAA/wAAAP8AAAD/AAAA/wAAAP8AAAD/AAAA/wAAAP8AAAD/AAAA/wAAAP8AAAD/AAAA/wAAAP8AAAD/AAAA/wAAAP8AAAD/AAAA/wAAAP8AAAD/AAAA/wAAAP8AAAD/AAAA/wAAAP8AAAD/AAAA/wAAAP8AAAD/AAAA/wAAAP8AAAD/AAAA/wAAAP8AAAD/AAAA/wAAAP8AAAD/AAAA/wAAAP8AAAD/AAAA/wAAAP8AAAD/AAAA/xENB//Umln/5KVg/+SlYP/kpWD/dVUx/wAAAP9eRCj/wYxR/8WOU/9FMh3/FQ8J/wICAf/Wm1r/5KVg/wAAAP8AAAD/AAAA/wAAAP8AAAD/IhkP/+SlYP8wIxT/AAAA/wAAAP8AAAD/AAAA/wAAAP8AAAD/MiUV/+SlYP/kpWD/5KVg/+SlYP/kpWD/4KJe/5pvQf8AAAD/AAAA/wAAAP8AAAD/AAAA/wAAAP8AAAD/AAAA/wAAAP8AAAD/AAAA/wAAAP8AAAD/AAAA/wAAAP8AAAD/AAAA/wAAAP8AAAD/AAAA/wAAAP8AAAD/AAAA/wAAAP8AAAD/AAAA/wAAAP8AAAD/AAAA/wAAAP8AAAD/AAAA/wAAAP8AAAD/AAAA/wAAAP8AAAD/AAAA/wAAAP8AAAD/AAAA/wAAAP8AAAD/AAAA/wAAAP8AAAD/AAAA/wAAAP8AAAD/AAAA/wAAAP8AAAD/AAAA/wAAAP8AAAD/AAAA/wAAAP8AAAD/AAAA/wAAAP8AAAD/AAAA/wAAAP8AAAD/AAAA/wcFA/+jdUT/m3BB/wAAAP8AAAD/AAAA/wAAAP8AAAD/AAAA/wAAAP8uIRP/Y0gq/8aQVP+meEb/RDEd/wAAAP8AAAD/AAAA/96hXv/kpWD/5KVg/96gXf8RDAf/AAAA/wAAAP8AAAD/CggE/+SlYP/kpWD/5KVg/8qTVf9QOiL/AAAA/wAAAP8AAAD/AAAA/wAAAP8AAAD/AAAA/wAAAP8AAAD/AAAA/wAAAP8AAAD/AAAA/wAAAP8AAAD/AAAA/wAAAP8AAAD/AAAA/wAAAP8AAAD/AAAA/wAAAP8AAAD/AAAA/wAAAP8AAAD/AAAA/wAAAP8AAAD/AAAA/wAAAP8AAAD/AAAA/wAAAP8AAAD/AAAA/wAAAP8AAAD/AAAA/wAAAP8AAAD/AAAA/wAAAP8AAAD/AAAA/wAAAP8AAAD/AAAA/wAAAP8AAAD/AAAA/wAAAP8AAAD/AAAA/wAAAP8AAAD/AAAA/wAAAP8AAAD/AAAA/wAAAP8AAAD/AAAA/wAAAP8AAAD/AAAA/wAAAP8AAAD/AAAA/wAAAP8AAAD/AAAA/wAAAP8AAAD/AAAA/wAAAP8AAAD/AAAA/wAAAP8AAAD/tYNM/+SlYP/kpWD/5KVg/+SlYP/kpWD/5KVg/+SlYP/kpWD/5KVg/96hXv8EAwL/DwsG/+KjX/+0gkz/AAAA/wAAAP8AAAD/AAAA/wAAAP8AAAD/AAAA/wAAAP8AAAD/AAAA/wAAAP8AAAD/AAAA/wAAAP8AAAD/AAAA/wAAAP8AAAD/AAAA/wAAAP8AAAD/AAAA/wAAAP8AAAD/AAAA/wAAAP8AAAD/AAAA/wAAAP8AAAD/AAAA/wAAAP8AAAD/AAAA/wAAAP8AAAD/AAAA/wAAAP8AAAD/AAAA/wAAAP8AAAD/AAAA/wAAAP8AAAD/AAAA/wAAAP8AAAD/AAAA/wAAAP8AAAD/AAAA/wAAAP8AAAD/AAAA/wAAAP8AAAD/AAAA/wAAAP8AAAD/AAAA/wAAAP8AAAD/AAAA/wAAAP8AAAD/AAAA/wAAAP8AAAD/AAAA/wAAAP8AAAD/AAAA/wAAAP8AAAD/AAAA/wAAAP8AAAD/AAAA/wAAAP8AAAD/AAAA/wAAAP8AAAD/AAAA/xgSCv/kpWD/5KVg/+SlYP/Umlr/t4RN/6B0RP+IYjn/ZUkr/1I7Iv8+LRr/MCMU/wsIBf8AAAD/AAAA/wAAAP8AAAD/AAAA/wAAAP8AAAD/AAAA/wAAAP8AAAD/AAAA/wAAAP8AAAD/AAAA/wAAAP8AAAD/AAAA/wAAAP8AAAD/AAAA/wAAAP8AAAD/AAAA/wAAAP8AAAD/AAAA/wAAAP8AAAD/AAAA/wAAAP8AAAD/AAAA/wAAAP8AAAD/AAAA/wAAAP8AAAD/AAAA/wAAAP8AAAD/AAAA/w==\"},\"shape\":[100,100],\"dtype\":\"uint32\",\"order\":\"little\"}]],[\"x\",[-0.5]],[\"y\",[-0.5]],[\"dw\",[1.0]],[\"dh\",[1.0]]]}}},\"view\":{\"type\":\"object\",\"name\":\"CDSView\",\"id\":\"p1056\",\"attributes\":{\"filter\":{\"type\":\"object\",\"name\":\"AllIndices\",\"id\":\"p1057\"}}},\"glyph\":{\"type\":\"object\",\"name\":\"ImageRGBA\",\"id\":\"p1052\",\"attributes\":{\"tags\":[\"apply_ranges\"],\"x\":{\"type\":\"field\",\"field\":\"x\"},\"y\":{\"type\":\"field\",\"field\":\"y\"},\"dw\":{\"type\":\"field\",\"field\":\"dw\"},\"dh\":{\"type\":\"field\",\"field\":\"dh\"},\"image\":{\"type\":\"field\",\"field\":\"image\"}}},\"selection_glyph\":{\"type\":\"object\",\"name\":\"ImageRGBA\",\"id\":\"p1058\",\"attributes\":{\"tags\":[\"apply_ranges\"],\"x\":{\"type\":\"field\",\"field\":\"x\"},\"y\":{\"type\":\"field\",\"field\":\"y\"},\"dw\":{\"type\":\"field\",\"field\":\"dw\"},\"dh\":{\"type\":\"field\",\"field\":\"dh\"},\"global_alpha\":{\"type\":\"value\",\"value\":1.0},\"image\":{\"type\":\"field\",\"field\":\"image\"}}},\"nonselection_glyph\":{\"type\":\"object\",\"name\":\"ImageRGBA\",\"id\":\"p1053\",\"attributes\":{\"tags\":[\"apply_ranges\"],\"x\":{\"type\":\"field\",\"field\":\"x\"},\"y\":{\"type\":\"field\",\"field\":\"y\"},\"dw\":{\"type\":\"field\",\"field\":\"dw\"},\"dh\":{\"type\":\"field\",\"field\":\"dh\"},\"global_alpha\":{\"type\":\"value\",\"value\":0.1},\"image\":{\"type\":\"field\",\"field\":\"image\"}}},\"muted_glyph\":{\"type\":\"object\",\"name\":\"ImageRGBA\",\"id\":\"p1054\",\"attributes\":{\"tags\":[\"apply_ranges\"],\"x\":{\"type\":\"field\",\"field\":\"x\"},\"y\":{\"type\":\"field\",\"field\":\"y\"},\"dw\":{\"type\":\"field\",\"field\":\"dw\"},\"dh\":{\"type\":\"field\",\"field\":\"dh\"},\"global_alpha\":{\"type\":\"value\",\"value\":0.2},\"image\":{\"type\":\"field\",\"field\":\"image\"}}}}}],\"toolbar\":{\"type\":\"object\",\"name\":\"Toolbar\",\"id\":\"p1024\",\"attributes\":{\"tools\":[{\"type\":\"object\",\"name\":\"WheelZoomTool\",\"id\":\"p1014\",\"attributes\":{\"tags\":[\"hv_created\"],\"renderers\":\"auto\",\"zoom_together\":\"none\"}},{\"type\":\"object\",\"name\":\"SaveTool\",\"id\":\"p1037\"},{\"type\":\"object\",\"name\":\"PanTool\",\"id\":\"p1038\"},{\"type\":\"object\",\"name\":\"BoxZoomTool\",\"id\":\"p1039\",\"attributes\":{\"overlay\":{\"type\":\"object\",\"name\":\"BoxAnnotation\",\"id\":\"p1040\",\"attributes\":{\"syncable\":false,\"level\":\"overlay\",\"visible\":false,\"left\":{\"type\":\"number\",\"value\":\"nan\"},\"right\":{\"type\":\"number\",\"value\":\"nan\"},\"top\":{\"type\":\"number\",\"value\":\"nan\"},\"bottom\":{\"type\":\"number\",\"value\":\"nan\"},\"left_units\":\"canvas\",\"right_units\":\"canvas\",\"top_units\":\"canvas\",\"bottom_units\":\"canvas\",\"line_color\":\"black\",\"line_alpha\":1.0,\"line_width\":2,\"line_dash\":[4,4],\"fill_color\":\"lightgrey\",\"fill_alpha\":0.5}}}},{\"type\":\"object\",\"name\":\"ResetTool\",\"id\":\"p1045\"}],\"active_drag\":{\"id\":\"p1038\"},\"active_scroll\":{\"id\":\"p1014\"}}},\"left\":[{\"type\":\"object\",\"name\":\"LinearAxis\",\"id\":\"p1032\",\"attributes\":{\"ticker\":{\"type\":\"object\",\"name\":\"BasicTicker\",\"id\":\"p1033\",\"attributes\":{\"mantissas\":[1,2,5]}},\"formatter\":{\"type\":\"object\",\"name\":\"BasicTickFormatter\",\"id\":\"p1034\"},\"axis_label\":\"y\",\"major_label_policy\":{\"type\":\"object\",\"name\":\"AllLabels\",\"id\":\"p1035\"}}}],\"below\":[{\"type\":\"object\",\"name\":\"LinearAxis\",\"id\":\"p1027\",\"attributes\":{\"ticker\":{\"type\":\"object\",\"name\":\"BasicTicker\",\"id\":\"p1028\",\"attributes\":{\"mantissas\":[1,2,5]}},\"formatter\":{\"type\":\"object\",\"name\":\"BasicTickFormatter\",\"id\":\"p1029\"},\"axis_label\":\"x\",\"major_label_policy\":{\"type\":\"object\",\"name\":\"AllLabels\",\"id\":\"p1030\"}}}],\"center\":[{\"type\":\"object\",\"name\":\"Grid\",\"id\":\"p1031\",\"attributes\":{\"axis\":{\"id\":\"p1027\"},\"grid_line_color\":null}},{\"type\":\"object\",\"name\":\"Grid\",\"id\":\"p1036\",\"attributes\":{\"dimension\":1,\"axis\":{\"id\":\"p1032\"},\"grid_line_color\":null}}],\"min_border_top\":10,\"min_border_bottom\":10,\"min_border_left\":10,\"min_border_right\":10,\"output_backend\":\"webgl\"}},{\"type\":\"object\",\"name\":\"Spacer\",\"id\":\"p1060\",\"attributes\":{\"name\":\"HSpacer00874\",\"stylesheets\":[\"\\n:host(.pn-loading):before, .pn-loading:before {\\n  background-color: #c3c3c3;\\n  mask-size: auto calc(min(50%, 400px));\\n  -webkit-mask-size: auto calc(min(50%, 400px));\\n}\",{\"id\":\"p1007\"},{\"id\":\"p1005\"},{\"id\":\"p1006\"}],\"margin\":0,\"sizing_mode\":\"stretch_width\",\"align\":\"start\"}}]}}],\"defs\":[{\"type\":\"model\",\"name\":\"ReactiveHTML1\"},{\"type\":\"model\",\"name\":\"FlexBox1\",\"properties\":[{\"name\":\"align_content\",\"kind\":\"Any\",\"default\":\"flex-start\"},{\"name\":\"align_items\",\"kind\":\"Any\",\"default\":\"flex-start\"},{\"name\":\"flex_direction\",\"kind\":\"Any\",\"default\":\"row\"},{\"name\":\"flex_wrap\",\"kind\":\"Any\",\"default\":\"wrap\"},{\"name\":\"justify_content\",\"kind\":\"Any\",\"default\":\"flex-start\"},{\"name\":\"gap\",\"kind\":\"Any\",\"default\":\"\"}]},{\"type\":\"model\",\"name\":\"FloatPanel1\",\"properties\":[{\"name\":\"config\",\"kind\":\"Any\",\"default\":{\"type\":\"map\"}},{\"name\":\"contained\",\"kind\":\"Any\",\"default\":true},{\"name\":\"position\",\"kind\":\"Any\",\"default\":\"right-top\"},{\"name\":\"offsetx\",\"kind\":\"Any\",\"default\":null},{\"name\":\"offsety\",\"kind\":\"Any\",\"default\":null},{\"name\":\"theme\",\"kind\":\"Any\",\"default\":\"primary\"},{\"name\":\"status\",\"kind\":\"Any\",\"default\":\"normalized\"}]},{\"type\":\"model\",\"name\":\"GridStack1\",\"properties\":[{\"name\":\"mode\",\"kind\":\"Any\",\"default\":\"warn\"},{\"name\":\"ncols\",\"kind\":\"Any\",\"default\":null},{\"name\":\"nrows\",\"kind\":\"Any\",\"default\":null},{\"name\":\"allow_resize\",\"kind\":\"Any\",\"default\":true},{\"name\":\"allow_drag\",\"kind\":\"Any\",\"default\":true},{\"name\":\"state\",\"kind\":\"Any\",\"default\":[]}]},{\"type\":\"model\",\"name\":\"drag1\",\"properties\":[{\"name\":\"slider_width\",\"kind\":\"Any\",\"default\":5},{\"name\":\"slider_color\",\"kind\":\"Any\",\"default\":\"black\"},{\"name\":\"value\",\"kind\":\"Any\",\"default\":50}]},{\"type\":\"model\",\"name\":\"click1\",\"properties\":[{\"name\":\"terminal_output\",\"kind\":\"Any\",\"default\":\"\"},{\"name\":\"debug_name\",\"kind\":\"Any\",\"default\":\"\"},{\"name\":\"clears\",\"kind\":\"Any\",\"default\":0}]},{\"type\":\"model\",\"name\":\"FastWrapper1\",\"properties\":[{\"name\":\"object\",\"kind\":\"Any\",\"default\":null},{\"name\":\"style\",\"kind\":\"Any\",\"default\":null}]},{\"type\":\"model\",\"name\":\"NotificationAreaBase1\",\"properties\":[{\"name\":\"js_events\",\"kind\":\"Any\",\"default\":{\"type\":\"map\"}},{\"name\":\"position\",\"kind\":\"Any\",\"default\":\"bottom-right\"},{\"name\":\"_clear\",\"kind\":\"Any\",\"default\":0}]},{\"type\":\"model\",\"name\":\"NotificationArea1\",\"properties\":[{\"name\":\"js_events\",\"kind\":\"Any\",\"default\":{\"type\":\"map\"}},{\"name\":\"notifications\",\"kind\":\"Any\",\"default\":[]},{\"name\":\"position\",\"kind\":\"Any\",\"default\":\"bottom-right\"},{\"name\":\"_clear\",\"kind\":\"Any\",\"default\":0},{\"name\":\"types\",\"kind\":\"Any\",\"default\":[{\"type\":\"map\",\"entries\":[[\"type\",\"warning\"],[\"background\",\"#ffc107\"],[\"icon\",{\"type\":\"map\",\"entries\":[[\"className\",\"fas fa-exclamation-triangle\"],[\"tagName\",\"i\"],[\"color\",\"white\"]]}]]},{\"type\":\"map\",\"entries\":[[\"type\",\"info\"],[\"background\",\"#007bff\"],[\"icon\",{\"type\":\"map\",\"entries\":[[\"className\",\"fas fa-info-circle\"],[\"tagName\",\"i\"],[\"color\",\"white\"]]}]]}]}]},{\"type\":\"model\",\"name\":\"Notification\",\"properties\":[{\"name\":\"background\",\"kind\":\"Any\",\"default\":null},{\"name\":\"duration\",\"kind\":\"Any\",\"default\":3000},{\"name\":\"icon\",\"kind\":\"Any\",\"default\":null},{\"name\":\"message\",\"kind\":\"Any\",\"default\":\"\"},{\"name\":\"notification_type\",\"kind\":\"Any\",\"default\":null},{\"name\":\"_destroyed\",\"kind\":\"Any\",\"default\":false}]},{\"type\":\"model\",\"name\":\"TemplateActions1\",\"properties\":[{\"name\":\"open_modal\",\"kind\":\"Any\",\"default\":0},{\"name\":\"close_modal\",\"kind\":\"Any\",\"default\":0}]},{\"type\":\"model\",\"name\":\"BootstrapTemplateActions1\",\"properties\":[{\"name\":\"open_modal\",\"kind\":\"Any\",\"default\":0},{\"name\":\"close_modal\",\"kind\":\"Any\",\"default\":0}]},{\"type\":\"model\",\"name\":\"TemplateEditor1\",\"properties\":[{\"name\":\"layout\",\"kind\":\"Any\",\"default\":[]}]},{\"type\":\"model\",\"name\":\"MaterialTemplateActions1\",\"properties\":[{\"name\":\"open_modal\",\"kind\":\"Any\",\"default\":0},{\"name\":\"close_modal\",\"kind\":\"Any\",\"default\":0}]},{\"type\":\"model\",\"name\":\"copy_to_clipboard1\",\"properties\":[{\"name\":\"fill\",\"kind\":\"Any\",\"default\":\"none\"},{\"name\":\"value\",\"kind\":\"Any\",\"default\":null}]}]}};\n",
       "  var render_items = [{\"docid\":\"c0308630-3de5-42b8-b7ce-7d4cade0ea61\",\"roots\":{\"p1004\":\"f711894f-d7de-450a-8e6f-504541138f7e\"},\"root_ids\":[\"p1004\"]}];\n",
       "  var docs = Object.values(docs_json)\n",
       "  if (!docs) {\n",
       "    return\n",
       "  }\n",
       "  const py_version = docs[0].version.replace('rc', '-rc.').replace('.dev', '-dev.')\n",
       "  function embed_document(root) {\n",
       "    var Bokeh = get_bokeh(root)\n",
       "    Bokeh.embed.embed_items_notebook(docs_json, render_items);\n",
       "    for (const render_item of render_items) {\n",
       "      for (const root_id of render_item.root_ids) {\n",
       "\tconst id_el = document.getElementById(root_id)\n",
       "\tif (id_el.children.length && (id_el.children[0].className === 'bk-root')) {\n",
       "\t  const root_el = id_el.children[0]\n",
       "\t  root_el.id = root_el.id + '-rendered'\n",
       "\t}\n",
       "      }\n",
       "    }\n",
       "  }\n",
       "  function get_bokeh(root) {\n",
       "    if (root.Bokeh === undefined) {\n",
       "      return null\n",
       "    } else if (root.Bokeh.version !== py_version) {\n",
       "      if (root.Bokeh.versions === undefined || !root.Bokeh.versions.has(py_version)) {\n",
       "\treturn null\n",
       "      }\n",
       "      return root.Bokeh.versions.get(py_version);\n",
       "    } else if (root.Bokeh.version === py_version) {\n",
       "      return root.Bokeh\n",
       "    }\n",
       "    return null\n",
       "  }\n",
       "  function is_loaded(root) {\n",
       "    var Bokeh = get_bokeh(root)\n",
       "    return (Bokeh != null && Bokeh.Panel !== undefined)\n",
       "  }\n",
       "  if (is_loaded(root)) {\n",
       "    embed_document(root);\n",
       "  } else {\n",
       "    var attempts = 0;\n",
       "    var timer = setInterval(function(root) {\n",
       "      if (is_loaded(root)) {\n",
       "        clearInterval(timer);\n",
       "        embed_document(root);\n",
       "      } else if (document.readyState == \"complete\") {\n",
       "        attempts++;\n",
       "        if (attempts > 200) {\n",
       "          clearInterval(timer);\n",
       "\t  var Bokeh = get_bokeh(root)\n",
       "\t  if (Bokeh == null || Bokeh.Panel == null) {\n",
       "            console.warn(\"Panel: ERROR: Unable to run Panel code because Bokeh or Panel library is missing\");\n",
       "\t  } else {\n",
       "\t    console.warn(\"Panel: WARNING: Attempting to render but not all required libraries could be resolved.\")\n",
       "\t    embed_document(root)\n",
       "\t  }\n",
       "        }\n",
       "      }\n",
       "    }, 25, root)\n",
       "  }\n",
       "})(window);</script>"
      ],
      "text/plain": [
       ":RGB   [x,y]   (R,G,B)"
      ]
     },
     "execution_count": 6,
     "metadata": {
      "application/vnd.holoviews_exec.v0+json": {
       "id": "p1004"
      }
     },
     "output_type": "execute_result"
    }
   ],
   "source": [
    "import holoviews as hv\n",
    "\n",
    "hv.extension(\"bokeh\")\n",
    "\n",
    "hv.RGB(img1_0.item())\n"
   ]
  },
  {
   "cell_type": "code",
   "execution_count": 7,
   "metadata": {},
   "outputs": [],
   "source": [
    "np.save(\"1\", img1_0.item())\n"
   ]
  },
  {
   "cell_type": "code",
   "execution_count": 4,
   "metadata": {},
   "outputs": [
    {
     "data": {
      "text/plain": [
       "array([[array([[ 716.,  763.,  838.,  730.,  834.,  815.,   nan,  869.,   nan,\n",
       "                 735.,  724.,  718.,  722.,  738.,  785.,  802.,  873.,   nan,\n",
       "                 736.,  814.,  742.,  721.,  790.,  816.,  734.,   nan,  731.,\n",
       "                 800.,  777.,  743.,  738.,  818.,  832.,   nan,   nan,  744.,\n",
       "                  nan,   nan,   nan,   nan,  766.,  802.,  729.,  800.,  840.,\n",
       "                 839.,  799.,   nan,  823.,  788.,  804.,   nan,  727.,  728.,\n",
       "                 723.,  830.,  827.,  731.,  728.,  807.,  846.,   nan,  782.,\n",
       "                 805., 1007.,  734.,   nan,  814.,  832.,  738.,  843.,  823.,\n",
       "                 801.,   nan,  728.,  750.,   nan,  732.,  796.,  840.,   nan,\n",
       "                  nan,  747.,  728.,   nan,  729.,   nan,  821.,  800.,  752.,\n",
       "                  nan,  842.,  741.,  731.,  737.,  793.,  807.,   nan,  731.,\n",
       "                  nan,  806., 1218.,   nan,  733.,  826.,  897.,  835.,  861.,\n",
       "                 732.,  730.,  732.,  860.,  738.,   nan,  778.,   nan,  736.,\n",
       "                 730., 1125.,  731.,  760.,   nan,  746.,  855.,  863.,  725.,\n",
       "                 759.,  805.]])                                               ]],\n",
       "      dtype=object)"
      ]
     },
     "execution_count": 4,
     "metadata": {},
     "output_type": "execute_result"
    }
   ],
   "source": [
    "pds[\"loopCountOfTargetOn\"]\n"
   ]
  },
  {
   "cell_type": "code",
   "execution_count": 9,
   "metadata": {},
   "outputs": [
    {
     "data": {
      "text/plain": [
       "array([[array([[nan, nan, nan, nan, nan, nan, nan, nan, nan, nan, nan, nan, nan,\n",
       "                nan, nan, nan, nan, nan, nan, nan, nan, nan, nan, nan, nan, nan,\n",
       "                nan, nan, nan, nan, nan, nan, nan, nan, nan, nan, nan, nan, nan,\n",
       "                nan, nan, nan, nan, nan, nan, nan, nan, nan, nan, nan, nan, nan,\n",
       "                nan, nan, nan, nan, nan, nan, nan, nan, nan, nan, nan, nan, nan,\n",
       "                nan, nan, nan, nan, nan, nan, nan, nan, nan, nan, nan, nan, nan,\n",
       "                nan, nan, nan, nan, nan, nan, nan, nan, nan, nan, nan, nan, nan,\n",
       "                nan, nan, nan, nan, nan, nan, nan, nan, nan, nan, nan, nan, nan,\n",
       "                nan, nan, nan, nan, nan, nan, nan, nan, nan, nan, nan, nan, nan,\n",
       "                nan, nan, nan, nan, nan, nan, nan, nan, nan, nan, nan]])        ]],\n",
       "      dtype=object)"
      ]
     },
     "execution_count": 9,
     "metadata": {},
     "output_type": "execute_result"
    }
   ],
   "source": [
    "pds[\"timeFocused\"]\n"
   ]
  },
  {
   "cell_type": "code",
   "execution_count": 6,
   "metadata": {},
   "outputs": [
    {
     "data": {
      "text/plain": [
       "array([[array([[nan, nan, nan, nan, nan, nan, nan, nan, nan, nan, nan, nan, nan,\n",
       "                nan, nan, nan, nan, nan, nan, nan, nan, nan, nan, nan, nan, nan,\n",
       "                nan, nan, nan, nan, nan, nan, nan, nan, nan, nan, nan, nan, nan,\n",
       "                nan, nan, nan, nan, nan, nan, nan, nan, nan, nan, nan, nan, nan,\n",
       "                nan, nan, nan, nan, nan, nan, nan, nan, nan, nan, nan, nan, nan,\n",
       "                nan, nan, nan, nan, nan, nan, nan, nan, nan, nan, nan, nan, nan,\n",
       "                nan, nan, nan, nan, nan, nan, nan, nan, nan, nan, nan, nan, nan,\n",
       "                nan, nan, nan, nan, nan, nan, nan, nan, nan, nan, nan, nan, nan,\n",
       "                nan, nan, nan, nan, nan, nan, nan, nan, nan, nan, nan, nan, nan,\n",
       "                nan, nan, nan, nan, nan, nan, nan, nan, nan, nan, nan]])        ]],\n",
       "      dtype=object)"
      ]
     },
     "execution_count": 6,
     "metadata": {},
     "output_type": "execute_result"
    }
   ],
   "source": [
    "pds[\"acquisitionTime\"]\n"
   ]
  },
  {
   "cell_type": "code",
   "execution_count": null,
   "metadata": {},
   "outputs": [],
   "source": [
    "pds[\"acquisitionTime\"]\n"
   ]
  },
  {
   "cell_type": "code",
   "execution_count": 8,
   "metadata": {},
   "outputs": [
    {
     "data": {
      "text/plain": [
       "dtype([('targetAcquisitionRequired', 'O'), ('fixOverlap', 'O'), ('probblockonly', 'O'), ('minFixDur', 'O'), ('maxFixDur', 'O'), ('freeRewardProbability', 'O'), ('fp1WindH', 'O'), ('fp1WindW', 'O'), ('maxFixWait', 'O'), ('targFixDurReq', 'O'), ('tp1WindH', 'O'), ('tp1WindW', 'O'), ('choicemax', 'O'), ('targetdur', 'O'), ('fpX', 'O'), ('fpY', 'O'), ('overlapMin', 'O'), ('overlapMax', 'O'), ('minLatency', 'O'), ('maxLatency', 'O'), ('minTargFix', 'O'), ('maxTargFix', 'O'), ('rewardDur', 'O'), ('vFiltLength', 'O'), ('passEye', 'O'), ('vThresh', 'O'), ('postChoiceOnScreenTime', 'O'), ('output_prefix', 'O'), ('protocol_title', 'O'), ('TargAmp', 'O'), ('numTargAngles', 'O'), ('rewardDelay', 'O'), ('j', 'O'), ('trialnumber', 'O'), ('EyePtR', 'O'), ('fixdotW', 'O'), ('fixwinW', 'O'), ('cursorW', 'O'), ('framerate', 'O'), ('useDataPixxBool', 'O'), ('quit', 'O'), ('screen_number', 'O'), ('minTargAmp', 'O'), ('maxTargAmp', 'O'), ('freelookingset', 'O'), ('rasterLineCount', 'O'), ('runflag', 'O'), ('viewdist', 'O'), ('screenhpix', 'O'), ('screenh', 'O'), ('preTrialIti', 'O'), ('repeatflag', 'O'), ('previousTrialRepeated', 'O'), ('goodtrial', 'O'), ('codes', 'O'), ('fixreq', 'O'), ('freq', 'O'), ('rightFreq', 'O'), ('wrongFreq', 'O'), ('nTF', 'O'), ('lrMode', 'O'), ('wrongbuffadd', 'O'), ('wrongtone', 'O'), ('righttone', 'O'), ('noisetone', 'O'), ('bgRGB', 'O'), ('mutedGreen', 'O'), ('colorone', 'O'), ('colortwo', 'O'), ('backcolor', 'O'), ('humanColors', 'O'), ('monkeyColors', 'O'), ('ffc', 'O'), ('humanCLUT', 'O'), ('monkeyCLUT', 'O'), ('combinedClut', 'O'), ('window', 'O'), ('screenRect', 'O'), ('middleXY', 'O'), ('rightbuffadd', 'O'), ('noisebuffadd', 'O'), ('onplotwin', 'O'), ('onRastwin', 'O'), ('uniquefractallist', 'O'), ('plotax', 'O'), ('plotdata', 'O'), ('plotdata2ndCondition', 'O'), ('plotdata3rdCondition', 'O'), ('plotdata4thCondition', 'O'), ('plotaxTitle', 'O'), ('globalMaxForRasters', 'O'), ('globalMaxForMeanRateData', 'O'), ('plotax_raster', 'O'), ('plotax_rasterSum', 'O'), ('plotobj_raster', 'O'), ('plot_rasterSum', 'O'), ('plot_rasterSum2ndConditon', 'O'), ('plot_rasterSum3rdCondition', 'O'), ('plot_rasterSum4thCondition', 'O'), ('CsOnPlotLine', 'O'), ('CsOffPlotLine', 'O'), ('plotaxrasterTitle', 'O'), ('plotMax', 'O'), ('plotMin', 'O'), ('stepSizeOfResampledPDS', 'O'), ('targetWindowPdsVals', 'O'), ('targetDispacementFromCenter', 'O'), ('CS_dur', 'O'), ('trialnumber_', 'O'), ('blocknumid', 'O'), ('BLOCKFINISHED', 'O'), ('typeofblock', 'O'), ('outcomechannel', 'O'), ('TrialTypeSave', 'O'), ('feedid', 'O'), ('fractalid', 'O'), ('forcedorchoice', 'O'), ('img1_', 'O'), ('img3_', 'O'), ('im1', 'O'), ('im2', 'O'), ('im3', 'O'), ('targAngle', 'O'), ('targAmp', 'O'), ('angles_escapecue', 'O'), ('escapeAmp', 'O'), ('escapecuefreq', 'O'), ('escapecuetime', 'O'), ('ITI_dur', 'O'), ('TS_dur', 'O'), ('trace_dur', 'O'), ('setupITI', 'O'), ('freeoutcometype', 'O'), ('possibleanglesfreelook', 'O'), ('freelookamp', 'O'), ('ITItime', 'O'), ('outcomedel', 'O'), ('chosenwindow', 'O'), ('monkeynotinitiated', 'O'), ('loopCountOfTargetOn', 'O'), ('loopCountOfTargetOff', 'O'), ('blinkLogicalSamples', 'O'), ('setWindow', 'O')])"
      ]
     },
     "execution_count": 8,
     "metadata": {},
     "output_type": "execute_result"
    }
   ],
   "source": [
    "mat[\"c\"].dtype\n"
   ]
  },
  {
   "cell_type": "code",
   "execution_count": 9,
   "metadata": {},
   "outputs": [
    {
     "data": {
      "text/plain": [
       "dtype([('TrialNumber', 'O'), ('TrialType', 'O'), ('TrialType1', 'O'), ('blocknumber', 'O'), ('successfulTrials', 'O'), ('choiceblocksCompleted', 'O'), ('choicetrialsCompleted', 'O'), ('targXY', 'O'), ('escapeXY', 'O'), ('fixDur', 'O'), ('RewardTime', 'O'), ('fixXY', 'O'), ('EyeX', 'O'), ('EyeY', 'O')])"
      ]
     },
     "execution_count": 9,
     "metadata": {},
     "output_type": "execute_result"
    }
   ],
   "source": [
    "mat[\"s\"].dtype\n"
   ]
  },
  {
   "cell_type": "code",
   "execution_count": 10,
   "metadata": {},
   "outputs": [
    {
     "data": {
      "text/plain": [
       "array([[(array([[128]], dtype=uint8), array([[6101]], dtype=uint16), array([[0]], dtype=uint8), array([[1]], dtype=uint8), array([[86]], dtype=uint8), array([[0]], dtype=uint8), array([[-1]], dtype=int16), array([[10,  0]], dtype=uint8), array([[ 0, 10]], dtype=uint8), array([[0.5]]), array([[0.36192]]), array([[0, 0]], dtype=uint8), array([[531]], dtype=uint16), array([[521]], dtype=uint16))]],\n",
       "      dtype=[('TrialNumber', 'O'), ('TrialType', 'O'), ('TrialType1', 'O'), ('blocknumber', 'O'), ('successfulTrials', 'O'), ('choiceblocksCompleted', 'O'), ('choicetrialsCompleted', 'O'), ('targXY', 'O'), ('escapeXY', 'O'), ('fixDur', 'O'), ('RewardTime', 'O'), ('fixXY', 'O'), ('EyeX', 'O'), ('EyeY', 'O')])"
      ]
     },
     "execution_count": 10,
     "metadata": {},
     "output_type": "execute_result"
    }
   ],
   "source": [
    "mat[\"s\"]\n"
   ]
  },
  {
   "cell_type": "code",
   "execution_count": 11,
   "metadata": {},
   "outputs": [
    {
     "name": "stdout",
     "output_type": "stream",
     "text": [
      "\u001b[1;32mParameters of 'VLine'\n",
      "=====================\n",
      "\u001b[0m\n",
      "\u001b[1;31mParameters changed from their default values are marked in red.\u001b[0m\n",
      "\u001b[1;36mSoft bound values are marked in cyan.\u001b[0m\n",
      "C/V= Constant/Variable, RO/RW = ReadOnly/ReadWrite, AN=Allow None\n",
      "\n",
      "\u001b[1;34mName                   Value                     Type        Bounds   Mode \u001b[0m\n",
      "\n",
      "group                 'VLine'                   String                C RW \n",
      "label                    ''                     String                C RW \n",
      "cdims                    {}                      Dict                 V RW \n",
      "kdims     [Dimension('x'), Dimension('y')]       List        (2, 2)   V RW \n",
      "vdims                    []                      List      (0, None)  C RW \n",
      "extents       (None, None, None, None)          Tuple                 V RW \n",
      "x                        0                  ClassSelector             V RW \n",
      "\n",
      "\u001b[1;32mParameter docstrings:\n",
      "=====================\u001b[0m\n",
      "\n",
      "\u001b[1;34mgroup:   A string describing the data wrapped by the object.\u001b[0m\n",
      "\u001b[1;31mlabel:   Optional label describing the data, typically reflecting where\u001b[0m\n",
      "\u001b[1;31m         or how it was measured. The label should allow a specific\u001b[0m\n",
      "\u001b[1;31m         measurement or dataset to be referenced for a given group.\u001b[0m\n",
      "\u001b[1;34mcdims:   The constant dimensions defined as a dictionary of Dimension:value\u001b[0m\n",
      "\u001b[1;34m         pairs providing additional dimension information about the object.\u001b[0m\n",
      "\u001b[1;34m         \u001b[0m\n",
      "\u001b[1;34m         Aliased with constant_dimensions.\u001b[0m\n",
      "\u001b[1;31mkdims:   The key dimensions defined as list of dimensions that may be\u001b[0m\n",
      "\u001b[1;31m         used in indexing (and potential slicing) semantics. The order\u001b[0m\n",
      "\u001b[1;31m         of the dimensions listed here determines the semantics of each\u001b[0m\n",
      "\u001b[1;31m         component of a multi-dimensional indexing operation.\u001b[0m\n",
      "\u001b[1;31m         \u001b[0m\n",
      "\u001b[1;31m         Aliased with key_dimensions.\u001b[0m\n",
      "\u001b[1;34mvdims:   The value dimensions defined as the list of dimensions used to\u001b[0m\n",
      "\u001b[1;34m         describe the components of the data. If multiple value\u001b[0m\n",
      "\u001b[1;34m         dimensions are supplied, a particular value dimension may be\u001b[0m\n",
      "\u001b[1;34m         indexed by name after the key dimensions.\u001b[0m\n",
      "\u001b[1;34m         \u001b[0m\n",
      "\u001b[1;34m         Aliased with value_dimensions.\u001b[0m\n",
      "\u001b[1;31mextents: Allows overriding the extents of the Element in 2D space defined\u001b[0m\n",
      "\u001b[1;31m         as four-tuple defining the (left, bottom, right and top) edges.\u001b[0m\n",
      "\u001b[1;34mx:       The x-position of the VLine which make be numeric or a timestamp.\u001b[0m\n"
     ]
    }
   ],
   "source": [
    "import holoviews as hv\n",
    "\n",
    "hv.help(hv.VLine)\n"
   ]
  },
  {
   "cell_type": "code",
   "execution_count": 18,
   "metadata": {},
   "outputs": [],
   "source": [
    "from pathlib import Path\n",
    "\n",
    "import polars as pl\n",
    "\n",
    "for session in Path(\"data/BFINAC_VNS/parquet\").glob(\"*/trials.parquet\"):\n",
    "    label = session.parent.name\n",
    "    mat = Path(f\"data/BFINAC_VNS/{label}.mat\")\n",
    "    parquet = pl.read_parquet(session).with_columns()\n",
    "    matcol = pl.Series(\n",
    "        \"FEEDbacktime\",\n",
    "        scipy.io.loadmat(mat)[\"PDS\"][\"FEEDbacktime\"].item()[0],\n",
    "    )\n",
    "    parquet.with_columns(matcol).write_parquet(session)\n"
   ]
  },
  {
   "cell_type": "code",
   "execution_count": 26,
   "metadata": {},
   "outputs": [
    {
     "data": {
      "text/html": [
       "<div><style>\n",
       ".dataframe > thead > tr,\n",
       ".dataframe > tbody > tr {\n",
       "  text-align: right;\n",
       "  white-space: pre-wrap;\n",
       "}\n",
       "</style>\n",
       "<small>shape: (494, 13)</small><table border=\"1\" class=\"dataframe\"><thead><tr><th>trialnumber</th><th>fractals</th><th>targAngle</th><th>targAmp</th><th>goodtrial</th><th>fixreq</th><th>timefpon</th><th>timefpoff</th><th>timetargetoff</th><th>TrialTypeSave</th><th>timefpabort</th><th>repeatflag</th><th>timeoutcome</th></tr><tr><td>u16</td><td>u16</td><td>u8</td><td>u8</td><td>u8</td><td>u8</td><td>f64</td><td>f64</td><td>f64</td><td>u16</td><td>f64</td><td>u8</td><td>f64</td></tr></thead><tbody><tr><td>1</td><td>6101</td><td>180</td><td>10</td><td>1</td><td>1</td><td>0.756723</td><td>2.073573</td><td>4.565592</td><td>6101</td><td>0.0</td><td>0</td><td>4.567934</td></tr><tr><td>2</td><td>6202</td><td>180</td><td>10</td><td>1</td><td>1</td><td>0.759238</td><td>2.017737</td><td>4.518081</td><td>6102</td><td>0.0</td><td>0</td><td>4.520487</td></tr><tr><td>3</td><td>6312</td><td>0</td><td>10</td><td>1</td><td>1</td><td>0.760444</td><td>1.86919</td><td>4.369283</td><td>6112</td><td>0.0</td><td>0</td><td>4.364131</td></tr><tr><td>4</td><td>6101</td><td>180</td><td>10</td><td>1</td><td>1</td><td>0.75882</td><td>1.867341</td><td>4.36768</td><td>6101</td><td>0.0</td><td>0</td><td>4.362385</td></tr><tr><td>5</td><td>6511</td><td>0</td><td>10</td><td>0</td><td>1</td><td>0.760482</td><td>-1.0</td><td>NaN</td><td>6111</td><td>0.852161</td><td>1</td><td>NaN</td></tr><tr><td>&hellip;</td><td>&hellip;</td><td>&hellip;</td><td>&hellip;</td><td>&hellip;</td><td>&hellip;</td><td>&hellip;</td><td>&hellip;</td><td>&hellip;</td><td>&hellip;</td><td>&hellip;</td><td>&hellip;</td><td>&hellip;</td></tr><tr><td>490</td><td>6202</td><td>0</td><td>10</td><td>1</td><td>1</td><td>0.756688</td><td>2.048566</td><td>4.548897</td><td>6102</td><td>0.0</td><td>0</td><td>4.551228</td></tr><tr><td>491</td><td>6101</td><td>180</td><td>10</td><td>1</td><td>1</td><td>0.763289</td><td>2.096719</td><td>4.588832</td><td>6101</td><td>0.0</td><td>0</td><td>4.584201</td></tr><tr><td>492</td><td>6212</td><td>180</td><td>10</td><td>1</td><td>1</td><td>0.762821</td><td>3.479869</td><td>5.980216</td><td>6112</td><td>0.0</td><td>0</td><td>5.975469</td></tr><tr><td>493</td><td>6312</td><td>0</td><td>10</td><td>1</td><td>1</td><td>0.764643</td><td>2.056604</td><td>4.548517</td><td>6112</td><td>0.0</td><td>0</td><td>4.543982</td></tr><tr><td>494</td><td>6302</td><td>0</td><td>10</td><td>1</td><td>1</td><td>0.762763</td><td>2.012973</td><td>4.513329</td><td>6102</td><td>0.0</td><td>0</td><td>4.507564</td></tr></tbody></table></div>"
      ],
      "text/plain": [
       "shape: (494, 13)\n",
       "┌────────────┬──────────┬───────────┬─────────┬───┬────────────┬───────────┬───────────┬───────────┐\n",
       "│ trialnumbe ┆ fractals ┆ targAngle ┆ targAmp ┆ … ┆ TrialTypeS ┆ timefpabo ┆ repeatfla ┆ timeoutco │\n",
       "│ r          ┆ ---      ┆ ---       ┆ ---     ┆   ┆ ave        ┆ rt        ┆ g         ┆ me        │\n",
       "│ ---        ┆ u16      ┆ u8        ┆ u8      ┆   ┆ ---        ┆ ---       ┆ ---       ┆ ---       │\n",
       "│ u16        ┆          ┆           ┆         ┆   ┆ u16        ┆ f64       ┆ u8        ┆ f64       │\n",
       "╞════════════╪══════════╪═══════════╪═════════╪═══╪════════════╪═══════════╪═══════════╪═══════════╡\n",
       "│ 1          ┆ 6101     ┆ 180       ┆ 10      ┆ … ┆ 6101       ┆ 0.0       ┆ 0         ┆ 4.567934  │\n",
       "│ 2          ┆ 6202     ┆ 180       ┆ 10      ┆ … ┆ 6102       ┆ 0.0       ┆ 0         ┆ 4.520487  │\n",
       "│ 3          ┆ 6312     ┆ 0         ┆ 10      ┆ … ┆ 6112       ┆ 0.0       ┆ 0         ┆ 4.364131  │\n",
       "│ 4          ┆ 6101     ┆ 180       ┆ 10      ┆ … ┆ 6101       ┆ 0.0       ┆ 0         ┆ 4.362385  │\n",
       "│ 5          ┆ 6511     ┆ 0         ┆ 10      ┆ … ┆ 6111       ┆ 0.852161  ┆ 1         ┆ NaN       │\n",
       "│ …          ┆ …        ┆ …         ┆ …       ┆ … ┆ …          ┆ …         ┆ …         ┆ …         │\n",
       "│ 490        ┆ 6202     ┆ 0         ┆ 10      ┆ … ┆ 6102       ┆ 0.0       ┆ 0         ┆ 4.551228  │\n",
       "│ 491        ┆ 6101     ┆ 180       ┆ 10      ┆ … ┆ 6101       ┆ 0.0       ┆ 0         ┆ 4.584201  │\n",
       "│ 492        ┆ 6212     ┆ 180       ┆ 10      ┆ … ┆ 6112       ┆ 0.0       ┆ 0         ┆ 5.975469  │\n",
       "│ 493        ┆ 6312     ┆ 0         ┆ 10      ┆ … ┆ 6112       ┆ 0.0       ┆ 0         ┆ 4.543982  │\n",
       "│ 494        ┆ 6302     ┆ 0         ┆ 10      ┆ … ┆ 6102       ┆ 0.0       ┆ 0         ┆ 4.507564  │\n",
       "└────────────┴──────────┴───────────┴─────────┴───┴────────────┴───────────┴───────────┴───────────┘"
      ]
     },
     "execution_count": 26,
     "metadata": {},
     "output_type": "execute_result"
    }
   ],
   "source": [
    "import polars as pl\n",
    "import scipy\n",
    "\n",
    "trials = pl.read_parquet(\n",
    "    \"data/BFINAC_VNS/parquet/BFnovelinac_31_01_2019_16_11/trials.parquet\"\n",
    ")\n",
    "trials\n"
   ]
  },
  {
   "cell_type": "code",
   "execution_count": 17,
   "metadata": {},
   "outputs": [
    {
     "data": {
      "text/html": [
       "<div><style>\n",
       ".dataframe > thead > tr,\n",
       ".dataframe > tbody > tr {\n",
       "  text-align: right;\n",
       "  white-space: pre-wrap;\n",
       "}\n",
       "</style>\n",
       "<small>shape: (494,)</small><table border=\"1\" class=\"dataframe\"><thead><tr><th>timeoutcome</th></tr><tr><td>f64</td></tr></thead><tbody><tr><td>4.567934</td></tr><tr><td>4.520487</td></tr><tr><td>4.364131</td></tr><tr><td>4.362385</td></tr><tr><td>NaN</td></tr><tr><td>&hellip;</td></tr><tr><td>4.551228</td></tr><tr><td>4.584201</td></tr><tr><td>5.975469</td></tr><tr><td>4.543982</td></tr><tr><td>4.507564</td></tr></tbody></table></div>"
      ],
      "text/plain": [
       "shape: (494,)\n",
       "Series: 'timeoutcome' [f64]\n",
       "[\n",
       "\t4.567934\n",
       "\t4.520487\n",
       "\t4.364131\n",
       "\t4.362385\n",
       "\tNaN\n",
       "\t…\n",
       "\t4.551228\n",
       "\t4.584201\n",
       "\t5.975469\n",
       "\t4.543982\n",
       "\t4.507564\n",
       "]"
      ]
     },
     "execution_count": 17,
     "metadata": {},
     "output_type": "execute_result"
    }
   ],
   "source": [
    "mat = pl.Series(\n",
    "    \"timeoutcome\",\n",
    "    scipy.io.loadmat(\"data/BFINAC_VNS/BFnovelinac_31_01_2019_16_11.mat\")[\"PDS\"][\n",
    "        \"timeoutcome\"\n",
    "    ].item()[0],\n",
    ")\n",
    "mat\n"
   ]
  },
  {
   "cell_type": "code",
   "execution_count": 19,
   "metadata": {},
   "outputs": [],
   "source": [
    "trials.with_columns(mat).write_parquet(\n",
    "    \"data/BFINAC_VNS/parquet/BFnovelinac_31_01_2019_16_11/trials.parquet\"\n",
    ")\n"
   ]
  },
  {
   "cell_type": "code",
   "execution_count": 24,
   "metadata": {},
   "outputs": [
    {
     "data": {
      "text/plain": [
       "'BFnovelinac_19_12_2018_15_57'"
      ]
     },
     "execution_count": 24,
     "metadata": {},
     "output_type": "execute_result"
    }
   ],
   "source": [
    "from pathlib import Path\n",
    "\n",
    "next(Path(\"data/BFINAC_VNS/parquet\").glob(\"*/trials.parquet\")).parent.name\n"
   ]
  },
  {
   "cell_type": "code",
   "execution_count": null,
   "metadata": {},
   "outputs": [],
   "source": []
  }
 ],
 "metadata": {
  "kernelspec": {
   "display_name": ".venv",
   "language": "python",
   "name": "python3"
  },
  "language_info": {
   "codemirror_mode": {
    "name": "ipython",
    "version": 3
   },
   "file_extension": ".py",
   "mimetype": "text/x-python",
   "name": "python",
   "nbconvert_exporter": "python",
   "pygments_lexer": "ipython3",
   "version": "3.12.2"
  }
 },
 "nbformat": 4,
 "nbformat_minor": 2
}

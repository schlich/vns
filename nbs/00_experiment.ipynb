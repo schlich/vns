{
 "cells": [
  {
   "cell_type": "code",
   "execution_count": 1,
   "metadata": {},
   "outputs": [],
   "source": [
    "# | default_exp experiment"
   ]
  },
  {
   "cell_type": "code",
   "execution_count": 1,
   "metadata": {},
   "outputs": [],
   "source": [
    "# | export\n",
    "from pathlib import Path\n",
    "\n",
    "import datatree as dt\n",
    "\n",
    "\n",
    "class Experiment:\n",
    "    \"\"\"A group of sessions.\"\"\"\n",
    "\n",
    "    def __init__(self, zarr_path: Path):\n",
    "        self.sessions = dt.open_datatree(zarr_path, engine=\"zarr\")"
   ]
  },
  {
   "cell_type": "code",
   "execution_count": 3,
   "metadata": {},
   "outputs": [
    {
     "data": {
      "text/plain": [
       "DataTree('None', parent=None)\n",
       "└── DataTree('sessions')\n",
       "        Dimensions:                      (session_start_time: 76)\n",
       "        Coordinates:\n",
       "          * session_start_time           (session_start_time) datetime64[ns] 2018-10-...\n",
       "        Data variables: (12/101)\n",
       "            BLOCKFINISHED                (session_start_time) int64 ...\n",
       "            CS_dur                       (session_start_time) int64 ...\n",
       "            EyePtR                       (session_start_time) int64 ...\n",
       "            ITI_dur                      (session_start_time) int64 ...\n",
       "            ITItime                      (session_start_time) float64 ...\n",
       "            PlotsWanted                  (session_start_time) float64 ...\n",
       "            ...                           ...\n",
       "            vFiltLength                  (session_start_time) int64 ...\n",
       "            vThresh                      (session_start_time) int64 ...\n",
       "            viewdist                     (session_start_time) int64 ...\n",
       "            window                       (session_start_time) int64 ...\n",
       "            wrongFreq                    (session_start_time) int64 ...\n",
       "            wrongbuffadd                 (session_start_time) int64 ..."
      ]
     },
     "execution_count": 3,
     "metadata": {},
     "output_type": "execute_result"
    }
   ],
   "source": [
    "Experiment(Path(\"/workspaces/vns/data/BFINAC_VNS.zarr\"))"
   ]
  },
  {
   "cell_type": "code",
   "execution_count": null,
   "metadata": {},
   "outputs": [],
   "source": []
  }
 ],
 "metadata": {
  "kernelspec": {
   "display_name": "Python 3",
   "language": "python",
   "name": "python3"
  },
  "language_info": {
   "codemirror_mode": {
    "name": "ipython",
    "version": 3
   },
   "file_extension": ".py",
   "mimetype": "text/x-python",
   "name": "python",
   "nbconvert_exporter": "python",
   "pygments_lexer": "ipython3",
   "version": "3.11.7"
  }
 },
 "nbformat": 4,
 "nbformat_minor": 2
}

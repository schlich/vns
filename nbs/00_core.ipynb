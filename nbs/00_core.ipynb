{
 "cells": [
  {
   "cell_type": "markdown",
   "metadata": {},
   "source": [
    "# core\n",
    "\n",
    "> Fill in a module description here"
   ]
  },
  {
   "cell_type": "code",
   "execution_count": null,
   "metadata": {},
   "outputs": [],
   "source": [
    "#| default_exp core"
   ]
  },
  {
   "cell_type": "code",
   "execution_count": null,
   "metadata": {},
   "outputs": [],
   "source": [
    "#| hide\n",
    "from nbdev.showdoc import *"
   ]
  },
  {
   "cell_type": "code",
   "execution_count": null,
   "metadata": {},
   "outputs": [],
   "source": [
    "#| export\n",
    "def foo(): pass"
   ]
  },
  {
   "cell_type": "code",
   "execution_count": null,
   "metadata": {},
   "outputs": [],
   "source": [
    "#| hide\n",
    "import nbdev; nbdev.nbdev_export()"
   ]
  },
  {
   "cell_type": "code",
   "execution_count": null,
   "metadata": {},
   "outputs": [],
   "source": [
    "import datetime\n",
    "import os\n",
    "from pathlib import Path\n",
    "\n",
    "import numpy as np\n",
    "import pandas as pd\n",
    "import scipy\n",
    "import xarray as xr\n",
    "from datatree import DataTree\n",
    "\n",
    "\n",
    "def extinction_learning(datatree: DataTree) -> xr.Dataset:\n",
    "    \"\"\"Produce extinction learning results.\"\"\"\n",
    "    return xr.DataArray(data=np.ndarray(shape=(3)), dims=(\"Trial\"))\n",
    "\n"
   ]
  },
  {
   "cell_type": "code",
   "execution_count": null,
   "metadata": {},
   "outputs": [],
   "source": [
    "\n",
    "def date_from_filename(filename: str) -> datetime.datetime:\n",
    "    \"\"\"Convert filename to datetime object.\n",
    "\n",
    "    Args:\n",
    "    ----\n",
    "        filename (str): The filename to convert.\n",
    "\n",
    "    Returns:\n",
    "    -------\n",
    "        datetime.datetime: The converted datetime object.\n",
    "    \"\"\"\n",
    "    return datetime.datetime.strptime(\n",
    "        filename[12:-4],\n",
    "        \"%d_%m_%Y_%H_%M\",\n",
    "    ).replace(tzinfo=datetime.UTC)\n",
    "\n"
   ]
  },
  {
   "cell_type": "code",
   "execution_count": null,
   "metadata": {},
   "outputs": [],
   "source": [
    "\n",
    "def session_attrs(filepath: Path) -> dict:\n",
    "    \"\"\"Extract session attributes from a file.\n",
    "\n",
    "    Args:\n",
    "    ----\n",
    "        filepath (pathlib.Path): The path to the file.\n",
    "\n",
    "    Returns:\n",
    "    -------\n",
    "        dict: The extracted session attributes.\n",
    "    \"\"\"\n",
    "    c = scipy.io.loadmat(\n",
    "        filepath,\n",
    "        squeeze_me=True,\n",
    "    )[\"c\"]\n",
    "\n",
    "    return {\n",
    "        field_name: data\n",
    "        for field_name, data in {\n",
    "            field_name: c.item()[i] for i, field_name in enumerate(c.dtype.names)\n",
    "        }.items()\n",
    "        if not isinstance(data, np.ndarray)\n",
    "    }\n",
    "\n",
    "\n",
    "def dt_index_from_data_dir(data_dir: Path) -> pd.DatetimeIndex:\n",
    "    \"\"\"Create a pandas DatetimeIndex from the files in the specified data directory.\n",
    "\n",
    "    Parameters\n",
    "    ----------\n",
    "        data_dir (Path): The path to the directory containing the data files.\n",
    "\n",
    "    Returns\n",
    "    -------\n",
    "        pd.DatetimeIndex: A pandas DatetimeIndex object representing the timestamps\n",
    "        extracted from the file names.\n",
    "    \"\"\"\n",
    "    return pd.Index(\n",
    "        pd.to_datetime(\n",
    "            pd.DataFrame.from_records(\n",
    "                [path.stem.split(\"_\") for path in data_dir.glob(\"*.mat\")],\n",
    "                columns=[\"Experiment Label\", \"day\", \"month\", \"year\", \"hour\", \"minute\"],\n",
    "            )[[\"day\", \"month\", \"year\", \"hour\", \"minute\"]],\n",
    "        ),\n",
    "        name=\"session_start_time\",\n",
    "    )\n",
    "\n"
   ]
  },
  {
   "cell_type": "code",
   "execution_count": null,
   "metadata": {},
   "outputs": [],
   "source": [
    "#| export\n",
    "def sessions(data_dir: str) -> xr.Dataset:\n",
    "    \"\"\"Retrieve session data as a DataFrame.\"\"\"\n",
    "    data_home = Path(os.environ[\"XDG_DATA_HOME\"])\n",
    "    filenames = data_home / data_dir\n",
    "    filepaths = filenames.glob(\"*.mat\")\n",
    "    return pd.DataFrame.from_records(\n",
    "        [session_attrs(filepath) for filepath in filepaths],\n",
    "        index=dt_index_from_data_dir(filenames),\n",
    "    ).to_xarray()\n",
    "\n",
    "\n",
    "def session(mat_file: Path) -> xr.DataArray:\n",
    "    \"\"\"Retrieve session data as a DataArray.\"\"\"\n",
    "    return xr.DataArray.from_dict(session_attrs(mat_file))"
   ]
  }
 ],
 "metadata": {
  "kernelspec": {
   "display_name": "python3",
   "language": "python",
   "name": "python3"
  }
 },
 "nbformat": 4,
 "nbformat_minor": 4
}

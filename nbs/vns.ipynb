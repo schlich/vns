{
  "cells": [
    {
      "cell_type": "code",
      "execution_count": 1,
      "metadata": {},
      "outputs": [],
      "source": [
        "import tables as pt"
      ]
    },
    {
      "cell_type": "code",
      "execution_count": 2,
      "metadata": {},
      "outputs": [
        {
          "name": "stdout",
          "output_type": "stream",
          "text": [
            "/ (RootGroup) ''\n",
            "/eye_samples (Group) ''\n",
            "/eye_samples/table (Table(30942271,)) ''\n",
            "/trials (Group) ''\n",
            "/trials/table (Table(18684,)) ''\n",
            "/trials/meta (Group) ''\n",
            "/trials/meta/values_block_2 (Group) ''\n",
            "/trials/meta/values_block_2/meta (Group) ''\n",
            "/trials/meta/values_block_2/meta/table (Table(4,)) ''\n"
          ]
        }
      ],
      "source": [
        "!ptdump ../data/vns.h5"
      ]
    },
    {
      "cell_type": "code",
      "execution_count": 2,
      "metadata": {},
      "outputs": [
        {
          "name": "stdout",
          "output_type": "stream",
          "text": [
            "[(    0, [   1, 6212,    1,   10,    0, 6112], [7.00000463e+06, 2.04162724e+00, 4.53904069e+00, 1.54155891e+00], [1],   0, 1549033380000000000)\n",
            " (    1, [   1, 6202,    1,   10,    0, 6102], [7.00001435e+06, 2.02741629e+00, 4.52201186e+00, 1.51900364e+00], [0],   1, 1549033380000000000)\n",
            " (    2, [   1, 6302,    1,   10,    0, 6102], [7.00002270e+06, 1.86634393e+00, 4.36161725e+00, 1.36595380e+00], [0],   2, 1549033380000000000)\n",
            " ...\n",
            " (18681, [   1, 6212,    1,   10,  180, 6112], [6.92136901e+06, 3.47986867e+00, 5.97546863e+00, 2.97979798e+00], [1], 491, 1548951060000000000)\n",
            " (18682, [   1, 6312,    1,   10,    0, 6112], [6.92137902e+06, 2.05660388e+00, 4.54398210e+00, 1.54814653e+00], [1], 492, 1548951060000000000)\n",
            " (18683, [   1, 6302,    1,   10,    0, 6102], [6.92138735e+06, 2.01297297e+00, 4.50756434e+00, 1.50455889e+00], [0], 493, 1548951060000000000)]\n",
            "[(0, b'Familiar') (1, b'Familiar Learning') (2, b'Novel')\n",
            " (3, b'Novel Learning')]\n"
          ]
        }
      ],
      "source": [
        "with pt.open_file(\"../data/vns.h5\", \"r\") as f:\n",
        "    trials = f.root.trials\n",
        "    trial_data = trials.table.read()\n",
        "    meta = trials.meta.values_block_2.meta.table.read()"
      ]
    },
    {
      "cell_type": "code",
      "execution_count": null,
      "metadata": {},
      "outputs": [],
      "source": []
    },
    {
      "cell_type": "code",
      "execution_count": 3,
      "metadata": {},
      "outputs": [],
      "source": [
        "from scipy import io\n",
        "\n",
        "BFnovelinac_01_02_2019_15_03 = io.loadmat(\n",
        "    \"../data/BFINAC_VNS/BFnovelinac_01_02_2019_15_03.mat\",\n",
        "    squeeze_me=True,\n",
        ")"
      ]
    },
    {
      "cell_type": "code",
      "execution_count": 19,
      "metadata": {},
      "outputs": [
        {
          "data": {
            "text/plain": [
              "dict_keys(['__header__', '__version__', '__globals__', 'PDS', 'c', 's', '__function_workspace__'])"
            ]
          },
          "execution_count": 19,
          "metadata": {},
          "output_type": "execute_result"
        }
      ],
      "source": [
        "BFnovelinac_01_02_2019_15_03.keys()"
      ]
    },
    {
      "cell_type": "code",
      "execution_count": 4,
      "metadata": {},
      "outputs": [],
      "source": [
        "pds = BFnovelinac_01_02_2019_15_03[\"PDS\"]"
      ]
    },
    {
      "cell_type": "code",
      "execution_count": 38,
      "metadata": {},
      "outputs": [],
      "source": [
        "c = BFnovelinac_01_02_2019_15_03[\"c\"].item()"
      ]
    },
    {
      "cell_type": "code",
      "execution_count": 39,
      "metadata": {},
      "outputs": [],
      "source": [
        "s = BFnovelinac_01_02_2019_15_03[\"s\"].item()"
      ]
    },
    {
      "cell_type": "code",
      "execution_count": 5,
      "metadata": {},
      "outputs": [
        {
          "data": {
            "text/plain": [
              "dtype([('timeFocused', 'O'), ('acquisitionTime', 'O'), ('stableWindowByTrial', 'O'), ('meanPrestimulusDialation', 'O'), ('fixOverlap', 'O'), ('trialnumber', 'O'), ('targetacquisitionthreshold', 'O'), ('fractals', 'O'), ('targetAcquisitionBegin', 'O'), ('targetAcquisitionFirst', 'O'), ('targAngle', 'O'), ('targAmp', 'O'), ('goodtrial', 'O'), ('fixreq', 'O'), ('outcomedel', 'O'), ('ITI_dur', 'O'), ('datapixxtime', 'O'), ('trialstarttime', 'O'), ('timefpon', 'O'), ('timefpoff', 'O'), ('timetargeton', 'O'), ('loopCountOfTargetOn', 'O'), ('loopCountOfTargetOff', 'O'), ('windowchosen', 'O'), ('timetargetoff', 'O'), ('feedid', 'O'), ('TrialTypeSave', 'O'), ('timeofabort', 'O'), ('timefpabort', 'O'), ('timeoutcome', 'O'), ('repeatflag', 'O'), ('monkeynotinitiated', 'O'), ('FEEDbacktime', 'O'), ('EyeJoy', 'O'), ('onlineEye', 'O'), ('onlineLickForce', 'O'), ('spikes', 'O'), ('sptimes', 'O'), ('blinkthreshold', 'O'), ('blinkTimeAllowed', 'O'), ('trueCS_dur', 'O'), ('samplesBlinkLogical', 'O'), ('rewardduration', 'O'), ('img1', 'O'), ('imgfeedback', 'O'), ('freeoutcometype', 'O'), ('ITIeventtime', 'O'), ('setupITI', 'O')])"
            ]
          },
          "execution_count": 5,
          "metadata": {},
          "output_type": "execute_result"
        }
      ],
      "source": [
        "pds_dtypes = pds.dtype\n",
        "pds_dtypes"
      ]
    },
    {
      "cell_type": "code",
      "execution_count": 49,
      "metadata": {},
      "outputs": [],
      "source": [
        "pds_item = pds.item()"
      ]
    },
    {
      "cell_type": "code",
      "execution_count": 52,
      "metadata": {},
      "outputs": [
        {
          "data": {
            "text/html": [
              "<table>\n",
              "<thead>\n",
              "<tr><th>#                              </th><th>time_focused  </th><th>acquisition_time  </th></tr>\n",
              "</thead>\n",
              "<tbody>\n",
              "<tr><td><i style='opacity: 0.6'>0</i>  </td><td>nan           </td><td>nan               </td></tr>\n",
              "<tr><td><i style='opacity: 0.6'>1</i>  </td><td>nan           </td><td>nan               </td></tr>\n",
              "<tr><td><i style='opacity: 0.6'>2</i>  </td><td>nan           </td><td>nan               </td></tr>\n",
              "<tr><td><i style='opacity: 0.6'>3</i>  </td><td>nan           </td><td>nan               </td></tr>\n",
              "<tr><td><i style='opacity: 0.6'>4</i>  </td><td>nan           </td><td>nan               </td></tr>\n",
              "<tr><td>...                            </td><td>...           </td><td>...               </td></tr>\n",
              "<tr><td><i style='opacity: 0.6'>503</i></td><td>nan           </td><td>nan               </td></tr>\n",
              "<tr><td><i style='opacity: 0.6'>504</i></td><td>nan           </td><td>nan               </td></tr>\n",
              "<tr><td><i style='opacity: 0.6'>505</i></td><td>nan           </td><td>nan               </td></tr>\n",
              "<tr><td><i style='opacity: 0.6'>506</i></td><td>nan           </td><td>nan               </td></tr>\n",
              "<tr><td><i style='opacity: 0.6'>507</i></td><td>nan           </td><td>nan               </td></tr>\n",
              "</tbody>\n",
              "</table>"
            ],
            "text/plain": [
              "#    time_focused    acquisition_time\n",
              "0    nan             nan\n",
              "1    nan             nan\n",
              "2    nan             nan\n",
              "3    nan             nan\n",
              "4    nan             nan\n",
              "...  ...             ...\n",
              "503  nan             nan\n",
              "504  nan             nan\n",
              "505  nan             nan\n",
              "506  nan             nan\n",
              "507  nan             nan"
            ]
          },
          "execution_count": 52,
          "metadata": {},
          "output_type": "execute_result"
        }
      ],
      "source": [
        "import vaex as vx\n",
        "\n",
        "df = vx.from_arrays(time_focused=pds_item[0], acquisition_time=pds_item[1])\n",
        "df"
      ]
    },
    {
      "cell_type": "code",
      "execution_count": 54,
      "metadata": {},
      "outputs": [
        {
          "data": {
            "text/plain": [
              "(508, 2)"
            ]
          },
          "execution_count": 54,
          "metadata": {},
          "output_type": "execute_result"
        }
      ],
      "source": [
        "df.shape"
      ]
    },
    {
      "cell_type": "code",
      "execution_count": 1,
      "metadata": {},
      "outputs": [
        {
          "ename": "NameError",
          "evalue": "name 'pds_dtypes' is not defined",
          "output_type": "error",
          "traceback": [
            "\u001b[1;31m---------------------------------------------------------------------------\u001b[0m",
            "\u001b[1;31mNameError\u001b[0m                                 Traceback (most recent call last)",
            "Cell \u001b[1;32mIn[1], line 1\u001b[0m\n\u001b[1;32m----> 1\u001b[0m \u001b[43mpds_dtypes\u001b[49m\n",
            "\u001b[1;31mNameError\u001b[0m: name 'pds_dtypes' is not defined"
          ]
        }
      ],
      "source": [
        "pds_dtypes"
      ]
    },
    {
      "cell_type": "code",
      "execution_count": null,
      "metadata": {},
      "outputs": [],
      "source": []
    }
  ],
  "metadata": {
    "kernelspec": {
      "display_name": ".venv",
      "language": "python",
      "name": "python3"
    },
    "language_info": {
      "codemirror_mode": {
        "name": "ipython",
        "version": 3
      },
      "file_extension": ".py",
      "mimetype": "text/x-python",
      "name": "python",
      "nbconvert_exporter": "python",
      "pygments_lexer": "ipython3",
      "version": "3.10.13"
    }
  },
  "nbformat": 4,
  "nbformat_minor": 2
}

{
 "cells": [
  {
   "cell_type": "code",
   "execution_count": 1,
   "metadata": {},
   "outputs": [],
   "source": [
    "# | default_exp trial"
   ]
  },
  {
   "cell_type": "code",
   "execution_count": 2,
   "metadata": {},
   "outputs": [
    {
     "name": "stdout",
     "output_type": "stream",
     "text": [
      "/workspaces/vns\n",
      "Defaulting to user installation because normal site-packages is not writeable\n",
      "Obtaining file:///workspaces/vns\n",
      "  Installing build dependencies ... \u001b[?25ldone\n",
      "\u001b[?25h  Checking if build backend supports build_editable ... \u001b[?25ldone\n",
      "\u001b[?25h  Getting requirements to build editable ... \u001b[?25ldone\n",
      "\u001b[?25h  Preparing editable metadata (pyproject.toml) ... \u001b[?25ldone\n",
      "\u001b[?25hRequirement already satisfied: nbdev in /home/vscode/.local/lib/python3.11/site-packages (from vns==0.1.0) (2.3.13)\n",
      "Requirement already satisfied: ipywidgets<=8.0.4 in /home/vscode/.local/lib/python3.11/site-packages (from nbdev->vns==0.1.0) (8.0.4)\n",
      "Requirement already satisfied: fastcore>=1.5.27 in /home/vscode/.local/lib/python3.11/site-packages (from nbdev->vns==0.1.0) (1.5.29)\n",
      "Requirement already satisfied: execnb>=0.1.4 in /home/vscode/.local/lib/python3.11/site-packages (from nbdev->vns==0.1.0) (0.1.5)\n",
      "Requirement already satisfied: astunparse in /home/vscode/.local/lib/python3.11/site-packages (from nbdev->vns==0.1.0) (1.6.3)\n",
      "Requirement already satisfied: ghapi>=1.0.3 in /home/vscode/.local/lib/python3.11/site-packages (from nbdev->vns==0.1.0) (1.0.4)\n",
      "Requirement already satisfied: watchdog in /home/vscode/.local/lib/python3.11/site-packages (from nbdev->vns==0.1.0) (3.0.0)\n",
      "Requirement already satisfied: asttokens in /home/vscode/.local/lib/python3.11/site-packages (from nbdev->vns==0.1.0) (2.4.1)\n",
      "Requirement already satisfied: PyYAML in /home/vscode/.local/lib/python3.11/site-packages (from nbdev->vns==0.1.0) (6.0.1)\n",
      "Requirement already satisfied: ipython in /home/vscode/.local/lib/python3.11/site-packages (from execnb>=0.1.4->nbdev->vns==0.1.0) (8.19.0)\n",
      "Requirement already satisfied: pip in /home/vscode/.local/lib/python3.11/site-packages (from fastcore>=1.5.27->nbdev->vns==0.1.0) (23.3.2)\n",
      "Requirement already satisfied: packaging in /home/vscode/.local/lib/python3.11/site-packages (from fastcore>=1.5.27->nbdev->vns==0.1.0) (23.2)\n",
      "Requirement already satisfied: ipykernel>=4.5.1 in /home/vscode/.local/lib/python3.11/site-packages (from ipywidgets<=8.0.4->nbdev->vns==0.1.0) (6.27.1)\n",
      "Requirement already satisfied: traitlets>=4.3.1 in /home/vscode/.local/lib/python3.11/site-packages (from ipywidgets<=8.0.4->nbdev->vns==0.1.0) (5.14.0)\n",
      "Requirement already satisfied: widgetsnbextension~=4.0 in /home/vscode/.local/lib/python3.11/site-packages (from ipywidgets<=8.0.4->nbdev->vns==0.1.0) (4.0.9)\n",
      "Requirement already satisfied: jupyterlab-widgets~=3.0 in /home/vscode/.local/lib/python3.11/site-packages (from ipywidgets<=8.0.4->nbdev->vns==0.1.0) (3.0.9)\n",
      "Requirement already satisfied: six>=1.12.0 in /home/vscode/.local/lib/python3.11/site-packages (from asttokens->nbdev->vns==0.1.0) (1.16.0)\n",
      "Requirement already satisfied: wheel<1.0,>=0.23.0 in /usr/local/lib/python3.11/site-packages (from astunparse->nbdev->vns==0.1.0) (0.42.0)\n",
      "Requirement already satisfied: comm>=0.1.1 in /home/vscode/.local/lib/python3.11/site-packages (from ipykernel>=4.5.1->ipywidgets<=8.0.4->nbdev->vns==0.1.0) (0.2.0)\n",
      "Requirement already satisfied: debugpy>=1.6.5 in /home/vscode/.local/lib/python3.11/site-packages (from ipykernel>=4.5.1->ipywidgets<=8.0.4->nbdev->vns==0.1.0) (1.8.0)\n",
      "Requirement already satisfied: jupyter-client>=6.1.12 in /home/vscode/.local/lib/python3.11/site-packages (from ipykernel>=4.5.1->ipywidgets<=8.0.4->nbdev->vns==0.1.0) (8.6.0)\n",
      "Requirement already satisfied: jupyter-core!=5.0.*,>=4.12 in /home/vscode/.local/lib/python3.11/site-packages (from ipykernel>=4.5.1->ipywidgets<=8.0.4->nbdev->vns==0.1.0) (5.5.1)\n",
      "Requirement already satisfied: matplotlib-inline>=0.1 in /home/vscode/.local/lib/python3.11/site-packages (from ipykernel>=4.5.1->ipywidgets<=8.0.4->nbdev->vns==0.1.0) (0.1.6)\n",
      "Requirement already satisfied: nest-asyncio in /home/vscode/.local/lib/python3.11/site-packages (from ipykernel>=4.5.1->ipywidgets<=8.0.4->nbdev->vns==0.1.0) (1.5.8)\n",
      "Requirement already satisfied: psutil in /home/vscode/.local/lib/python3.11/site-packages (from ipykernel>=4.5.1->ipywidgets<=8.0.4->nbdev->vns==0.1.0) (5.9.7)\n",
      "Requirement already satisfied: pyzmq>=20 in /home/vscode/.local/lib/python3.11/site-packages (from ipykernel>=4.5.1->ipywidgets<=8.0.4->nbdev->vns==0.1.0) (25.1.2)\n",
      "Requirement already satisfied: tornado>=6.1 in /home/vscode/.local/lib/python3.11/site-packages (from ipykernel>=4.5.1->ipywidgets<=8.0.4->nbdev->vns==0.1.0) (6.4)\n",
      "Requirement already satisfied: decorator in /home/vscode/.local/lib/python3.11/site-packages (from ipython->execnb>=0.1.4->nbdev->vns==0.1.0) (5.1.1)\n",
      "Requirement already satisfied: jedi>=0.16 in /home/vscode/.local/lib/python3.11/site-packages (from ipython->execnb>=0.1.4->nbdev->vns==0.1.0) (0.19.1)\n",
      "Requirement already satisfied: prompt-toolkit<3.1.0,>=3.0.41 in /home/vscode/.local/lib/python3.11/site-packages (from ipython->execnb>=0.1.4->nbdev->vns==0.1.0) (3.0.43)\n",
      "Requirement already satisfied: pygments>=2.4.0 in /home/vscode/.local/lib/python3.11/site-packages (from ipython->execnb>=0.1.4->nbdev->vns==0.1.0) (2.17.2)\n",
      "Requirement already satisfied: stack-data in /home/vscode/.local/lib/python3.11/site-packages (from ipython->execnb>=0.1.4->nbdev->vns==0.1.0) (0.6.3)\n",
      "Requirement already satisfied: pexpect>4.3 in /home/vscode/.local/lib/python3.11/site-packages (from ipython->execnb>=0.1.4->nbdev->vns==0.1.0) (4.9.0)\n",
      "Requirement already satisfied: parso<0.9.0,>=0.8.3 in /home/vscode/.local/lib/python3.11/site-packages (from jedi>=0.16->ipython->execnb>=0.1.4->nbdev->vns==0.1.0) (0.8.3)\n",
      "Requirement already satisfied: python-dateutil>=2.8.2 in /home/vscode/.local/lib/python3.11/site-packages (from jupyter-client>=6.1.12->ipykernel>=4.5.1->ipywidgets<=8.0.4->nbdev->vns==0.1.0) (2.8.2)\n",
      "Requirement already satisfied: platformdirs>=2.5 in /home/vscode/.local/lib/python3.11/site-packages (from jupyter-core!=5.0.*,>=4.12->ipykernel>=4.5.1->ipywidgets<=8.0.4->nbdev->vns==0.1.0) (4.1.0)\n",
      "Requirement already satisfied: ptyprocess>=0.5 in /home/vscode/.local/lib/python3.11/site-packages (from pexpect>4.3->ipython->execnb>=0.1.4->nbdev->vns==0.1.0) (0.7.0)\n",
      "Requirement already satisfied: wcwidth in /home/vscode/.local/lib/python3.11/site-packages (from prompt-toolkit<3.1.0,>=3.0.41->ipython->execnb>=0.1.4->nbdev->vns==0.1.0) (0.2.12)\n",
      "Requirement already satisfied: executing>=1.2.0 in /home/vscode/.local/lib/python3.11/site-packages (from stack-data->ipython->execnb>=0.1.4->nbdev->vns==0.1.0) (2.0.1)\n",
      "Requirement already satisfied: pure-eval in /home/vscode/.local/lib/python3.11/site-packages (from stack-data->ipython->execnb>=0.1.4->nbdev->vns==0.1.0) (0.2.2)\n",
      "Building wheels for collected packages: vns\n",
      "  Building editable for vns (pyproject.toml) ... \u001b[?25ldone\n",
      "\u001b[?25h  Created wheel for vns: filename=vns-0.1.0-py2.py3-none-any.whl size=5045 sha256=b32842453bb4c7bf18e67908d6d84e894196467b24a46a119e735d6b3516348f\n",
      "  Stored in directory: /tmp/pip-ephem-wheel-cache-m2wwy25u/wheels/80/dc/4a/24c577adb311d06b071331dd4a5b7723e682c8c16a064f76dd\n",
      "Successfully built vns\n",
      "Installing collected packages: vns\n",
      "  Attempting uninstall: vns\n",
      "    Found existing installation: vns 0.1.0\n",
      "    Uninstalling vns-0.1.0:\n",
      "      Successfully uninstalled vns-0.1.0\n",
      "Successfully installed vns-0.1.0\n"
     ]
    }
   ],
   "source": [
    "# | hide\n",
    "%cd ..\n",
    "%load_ext autoreload\n",
    "%autoreload 2\n",
    "!pip install -e ."
   ]
  },
  {
   "cell_type": "code",
   "execution_count": 3,
   "metadata": {},
   "outputs": [],
   "source": [
    "# | export\n",
    "from vns.session import Session\n",
    "\n",
    "\n",
    "class Trial:\n",
    "    def __init__(self, session: Session, trial_num: int):\n",
    "        self.eyejoy = session.eyejoy.sel(trial=trial_num)\n",
    "\n",
    "    def __repr__(self):\n",
    "        return px.line(self.eyejoy, x=\"t\", y=[\"x\", \"y\"]).__repr__()"
   ]
  },
  {
   "cell_type": "code",
   "execution_count": 8,
   "metadata": {},
   "outputs": [
    {
     "data": {
      "text/plain": [
       "[PosixPath('/workspaces/vns/data/BFINAC_VNS/BFnovelinac_24_10_2018_16_01.mat'),\n",
       " PosixPath('/workspaces/vns/data/BFINAC_VNS/BFnovelinac_20_12_2018_16_57.mat'),\n",
       " PosixPath('/workspaces/vns/data/BFINAC_VNS/BFnovelinac_22_01_2019_14_41.mat'),\n",
       " PosixPath('/workspaces/vns/data/BFINAC_VNS/BFnovelinac_15_01_2019_14_28.mat'),\n",
       " PosixPath('/workspaces/vns/data/BFINAC_VNS/BFnovelinac_20_11_2018_15_28.mat'),\n",
       " PosixPath('/workspaces/vns/data/BFINAC_VNS/BFnovelinac_12_11_2018_16_19.mat'),\n",
       " PosixPath('/workspaces/vns/data/BFINAC_VNS/BFnovelinac_03_12_2018_13_15.mat'),\n",
       " PosixPath('/workspaces/vns/data/BFINAC_VNS/BFnovelinac_31_01_2019_16_11.mat'),\n",
       " PosixPath('/workspaces/vns/data/BFINAC_VNS/BFnovelinac_13_12_2018_12_57.mat'),\n",
       " PosixPath('/workspaces/vns/data/BFINAC_VNS/BFnovelinac_07_12_2018_09_21.mat'),\n",
       " PosixPath('/workspaces/vns/data/BFINAC_VNS/BFnovelinac_13_12_2018_11_02.mat'),\n",
       " PosixPath('/workspaces/vns/data/BFINAC_VNS/BFnovelinac_23_01_2019_14_31.mat'),\n",
       " PosixPath('/workspaces/vns/data/BFINAC_VNS/BFnovelinac_23_10_2018_15_14.mat'),\n",
       " PosixPath('/workspaces/vns/data/BFINAC_VNS/BFnovelinac_16_11_2018_15_35.mat'),\n",
       " PosixPath('/workspaces/vns/data/BFINAC_VNS/BFnovelinac_22_10_2018_15_55.mat'),\n",
       " PosixPath('/workspaces/vns/data/BFINAC_VNS/BFnovelinac_23_10_2018_16_14.mat'),\n",
       " PosixPath('/workspaces/vns/data/BFINAC_VNS/BFnovelinac_12_11_2018_16_31.mat'),\n",
       " PosixPath('/workspaces/vns/data/BFINAC_VNS/BFnovelinac_16_11_2018_16_44.mat'),\n",
       " PosixPath('/workspaces/vns/data/BFINAC_VNS/BFnovelinac_22_01_2019_16_19.mat'),\n",
       " PosixPath('/workspaces/vns/data/BFINAC_VNS/BFnovelinac_23_01_2019_15_39.mat'),\n",
       " PosixPath('/workspaces/vns/data/BFINAC_VNS/BFnovelinac_14_01_2019_16_21.mat'),\n",
       " PosixPath('/workspaces/vns/data/BFINAC_VNS/BFnovelinac_07_12_2018_11_15.mat'),\n",
       " PosixPath('/workspaces/vns/data/BFINAC_VNS/BFnovelinac_19_12_2018_11_31.mat'),\n",
       " PosixPath('/workspaces/vns/data/BFINAC_VNS/BFnovelinac_01_02_2019_16_08.mat'),\n",
       " PosixPath('/workspaces/vns/data/BFINAC_VNS/BFnovelinac_19_12_2018_15_57.mat'),\n",
       " PosixPath('/workspaces/vns/data/BFINAC_VNS/BFnovelinac_15_11_2018_15_34.mat'),\n",
       " PosixPath('/workspaces/vns/data/BFINAC_VNS/BFnovelinac_07_12_2018_10_10.mat'),\n",
       " PosixPath('/workspaces/vns/data/BFINAC_VNS/BFnovelinac_29_01_2019_14_42.mat'),\n",
       " PosixPath('/workspaces/vns/data/BFINAC_VNS/BFnovelinac_19_11_2018_16_46.mat'),\n",
       " PosixPath('/workspaces/vns/data/BFINAC_VNS/BFnovelinac_18_12_2018_13_36.mat'),\n",
       " PosixPath('/workspaces/vns/data/BFINAC_VNS/BFnovelinac_24_01_2019_15_06.mat'),\n",
       " PosixPath('/workspaces/vns/data/BFINAC_VNS/BFnovelinac_21_12_2018_16_34.mat'),\n",
       " PosixPath('/workspaces/vns/data/BFINAC_VNS/BFnovelinac_19_12_2018_11_02.mat'),\n",
       " PosixPath('/workspaces/vns/data/BFINAC_VNS/BFnovelinac_01_02_2019_15_03.mat'),\n",
       " PosixPath('/workspaces/vns/data/BFINAC_VNS/BFnovelinac_20_12_2018_15_29.mat'),\n",
       " PosixPath('/workspaces/vns/data/BFINAC_VNS/BFnovelinac_20_11_2018_16_48.mat'),\n",
       " PosixPath('/workspaces/vns/data/BFINAC_VNS/BFnovelinac_26_10_2018_16_48.mat'),\n",
       " PosixPath('/workspaces/vns/data/BFINAC_VNS/BFnovelinac_19_11_2018_15_46.mat'),\n",
       " PosixPath('/workspaces/vns/data/BFINAC_VNS/BFnovelinac_22_01_2019_15_10.mat'),\n",
       " PosixPath('/workspaces/vns/data/BFINAC_VNS/BFnovelinac_21_11_2018_16_10.mat'),\n",
       " PosixPath('/workspaces/vns/data/BFINAC_VNS/BFnovelinac_13_11_2018_15_01.mat'),\n",
       " PosixPath('/workspaces/vns/data/BFINAC_VNS/BFnovelinac_19_12_2018_16_27.mat'),\n",
       " PosixPath('/workspaces/vns/data/BFINAC_VNS/BFnovelinac_03_12_2018_12_52.mat'),\n",
       " PosixPath('/workspaces/vns/data/BFINAC_VNS/BFnovelinac_15_01_2019_16_16.mat'),\n",
       " PosixPath('/workspaces/vns/data/BFINAC_VNS/BFnovelinac_15_11_2018_15_32.mat'),\n",
       " PosixPath('/workspaces/vns/data/BFINAC_VNS/BFnovelinac_21_11_2018_15_50.mat'),\n",
       " PosixPath('/workspaces/vns/data/BFINAC_VNS/BFnovelinac_19_12_2018_15_30.mat'),\n",
       " PosixPath('/workspaces/vns/data/BFINAC_VNS/BFnovelinac_20_12_2018_14_56.mat'),\n",
       " PosixPath('/workspaces/vns/data/BFINAC_VNS/BFnovelinac_21_11_2018_16_30.mat'),\n",
       " PosixPath('/workspaces/vns/data/BFINAC_VNS/BFnovelinac_22_10_2018_16_11.mat'),\n",
       " PosixPath('/workspaces/vns/data/BFINAC_VNS/BFnovelinac_05_12_2018_13_06.mat'),\n",
       " PosixPath('/workspaces/vns/data/BFINAC_VNS/BFnovelinac_13_12_2018_10_54.mat'),\n",
       " PosixPath('/workspaces/vns/data/BFINAC_VNS/BFnovelinac_14_01_2019_14_44.mat'),\n",
       " PosixPath('/workspaces/vns/data/BFINAC_VNS/BFnovelinac_21_11_2018_15_32.mat'),\n",
       " PosixPath('/workspaces/vns/data/BFINAC_VNS/BFnovelinac_19_12_2018_17_24.mat'),\n",
       " PosixPath('/workspaces/vns/data/BFINAC_VNS/BFnovelinac_14_11_2018_16_09.mat'),\n",
       " PosixPath('/workspaces/vns/data/BFINAC_VNS/BFnovelinac_22_10_2018_16_39.mat'),\n",
       " PosixPath('/workspaces/vns/data/BFINAC_VNS/BFnovelinac_19_11_2018_16_39.mat'),\n",
       " PosixPath('/workspaces/vns/data/BFINAC_VNS/BFnovelinac_18_01_2019_15_58.mat'),\n",
       " PosixPath('/workspaces/vns/data/BFINAC_VNS/BFnovelinac_12_11_2018_16_25.mat'),\n",
       " PosixPath('/workspaces/vns/data/BFINAC_VNS/BFnovelinac_29_01_2019_16_02.mat'),\n",
       " PosixPath('/workspaces/vns/data/BFINAC_VNS/BFnovelinac_30_01_2019_14_59.mat'),\n",
       " PosixPath('/workspaces/vns/data/BFINAC_VNS/BFnovelinac_13_12_2018_11_44.mat'),\n",
       " PosixPath('/workspaces/vns/data/BFINAC_VNS/BFnovelinac_18_01_2019_14_22.mat'),\n",
       " PosixPath('/workspaces/vns/data/BFINAC_VNS/BFnovelinac_14_11_2018_15_35.mat'),\n",
       " PosixPath('/workspaces/vns/data/BFINAC_VNS/BFnovelinac_17_01_2019_16_21.mat'),\n",
       " PosixPath('/workspaces/vns/data/BFINAC_VNS/BFnovelinac_23_01_2019_15_38.mat'),\n",
       " PosixPath('/workspaces/vns/data/BFINAC_VNS/BFnovelinac_09_11_2018_15_21.mat'),\n",
       " PosixPath('/workspaces/vns/data/BFINAC_VNS/BFnovelinac_31_01_2019_14_31.mat'),\n",
       " PosixPath('/workspaces/vns/data/BFINAC_VNS/BFnovelinac_16_11_2018_17_11.mat'),\n",
       " PosixPath('/workspaces/vns/data/BFINAC_VNS/BFnovelinac_22_01_2019_16_01.mat'),\n",
       " PosixPath('/workspaces/vns/data/BFINAC_VNS/BFnovelinac_17_01_2019_14_54.mat'),\n",
       " PosixPath('/workspaces/vns/data/BFINAC_VNS/BFnovelinac_20_12_2018_15_55.mat'),\n",
       " PosixPath('/workspaces/vns/data/BFINAC_VNS/BFnovelinac_16_01_2019_14_29.mat'),\n",
       " PosixPath('/workspaces/vns/data/BFINAC_VNS/BFnovelinac_21_12_2018_14_56.mat'),\n",
       " PosixPath('/workspaces/vns/data/BFINAC_VNS/BFnovelinac_30_01_2019_16_38.mat')]"
      ]
     },
     "execution_count": 8,
     "metadata": {},
     "output_type": "execute_result"
    }
   ],
   "source": [
    "from pathlib import Path\n",
    "\n",
    "mat_files = Path(\"/workspaces/vns/data/BFINAC_VNS/\").glob(\"*.mat\")\n",
    "\n",
    "# Use the mat_files generator to save a dataArray for each session\n",
    "(Session(mat_file). for mat_file in mat_files)"
   ]
  },
  {
   "cell_type": "code",
   "execution_count": null,
   "metadata": {},
   "outputs": [],
   "source": [
    "Session(data_folder / \"BFnovelinac_01_02_2019_15_03.mat\")"
   ]
  },
  {
   "cell_type": "code",
   "execution_count": null,
   "metadata": {},
   "outputs": [],
   "source": []
  }
 ],
 "metadata": {
  "kernelspec": {
   "display_name": "Python 3",
   "language": "python",
   "name": "python3"
  },
  "language_info": {
   "codemirror_mode": {
    "name": "ipython",
    "version": 3
   },
   "file_extension": ".py",
   "mimetype": "text/x-python",
   "name": "python",
   "nbconvert_exporter": "python",
   "pygments_lexer": "ipython3",
   "version": "3.11.7"
  }
 },
 "nbformat": 4,
 "nbformat_minor": 2
}

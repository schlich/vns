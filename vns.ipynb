{
 "cells": [
  {
   "cell_type": "raw",
   "id": "540aeacd",
   "metadata": {},
   "source": [
    "---\n",
    "title: VNS Analysis\n",
    "author: Tyler C Schlichenmeyer\n",
    "format:\n",
    "  dashboard:\n",
    "    orientation: columns\n",
    "server: shiny\n",
    "execute:\n",
    "  keep-ipynb: true\n",
    "  cache: true\n",
    "---"
   ]
  },
  {
   "cell_type": "code",
   "execution_count": 1,
   "id": "9b117482",
   "metadata": {
    "context": "setup"
   },
   "outputs": [],
   "source": [
    "from pathlib import Path\n",
    "from datetime import datetime\n",
    "from icecream import ic\n",
    "from shiny import render, ui\n",
    "from shinywidgets import render_widget\n",
    "\n",
    "import plotly.express as px\n",
    "import polars as pl\n",
    "\n",
    "import vns\n",
    "\n",
    "experiment_path = Path(\"data/BFINAC_VNS\")\n",
    "\n",
    "session_paths = experiment_path.glob(\"*/\")\n",
    "first_session = next(session_paths)\n",
    "\n",
    "trials = pl.scan_parquet(first_session / \"trials.parquet\").cast({\"fractals\": pl.String})\n",
    "first_trial = trials.first().collect().get_column(\"trialnumber\")[0]\n",
    "\n",
    "\n",
    "\n",
    "def folder_size(folder: Path) -> float:\n",
    "    return sum(file.stat().st_size for file in Path(folder).rglob('*')) / 1_000_000\n",
    "\n",
    "def label_to_datetime(label: str):\n",
    "    return (\n",
    "        datetime.strptime(\n",
    "            str(label).split(\"_\", maxsplit=1)[1],\n",
    "            \"%d_%m_%Y_%H_%M\",\n",
    "        )\n",
    "        .astimezone()\n",
    "    )\n",
    "\n",
    "sessions = pl.from_records(\n",
    "    [\n",
    "        {\n",
    "            \"label\": session.name,\n",
    "            \"session start\": label_to_datetime(session.name),\n",
    "            \"n trials\": len(list(session.glob(\"*.parquet\"))),\n",
    "            \"size\": folder_size(session),\n",
    "        } for session in session_paths\n",
    "    ]\n",
    ").sort(\"session start\")"
   ]
  },
  {
   "cell_type": "markdown",
   "id": "ae7e073d",
   "metadata": {},
   "source": [
    "## {.sidebar}\n"
   ]
  },
  {
   "cell_type": "code",
   "execution_count": 2,
   "id": "7de50918",
   "metadata": {},
   "outputs": [
    {
     "data": {
      "text/html": [
       "<div class=\"form-group shiny-input-container\">\n",
       "  <label class=\"control-label\" id=\"fps-label\" for=\"fps\">Animation frame rate (fps)</label><input class=\"js-range-slider\" id=\"fps\" data-skin=\"shiny\" data-min=\"10\" data-max=\"100\" data-from=\"60\" data-step=\"1\" data-grid=\"false\" data-grid-snap=\"false\" data-prettify-separator=\",\" data-prettify-enabled=\"true\" data-keyboard=\"true\" data-data-type=\"number\"/>\n",
       "</div><script type=\"application/json\" data-html-dependency=\"\">{\"name\": \"ionrangeslider\", \"version\": \"2.3.1\", \"source\": {\"package\": \"shiny\", \"subdir\": \"www/shared/ionrangeslider/\"}, \"script\": [{\"src\": \"js/ion.rangeSlider.min.js\"}], \"stylesheet\": [], \"meta\": [], \"all_files\": false, \"head\": null}</script>\n",
       "<script type=\"application/json\" data-html-dependency=\"\">{\"name\": \"preset-shiny-ionrangeslider\", \"version\": \"1.8.0.9000\", \"source\": {\"package\": \"shiny\", \"subdir\": \"www/shared/ionrangeslider/\"}, \"script\": [], \"stylesheet\": [{\"href\": \"css/ion.rangeSlider.css\", \"rel\": \"stylesheet\"}], \"meta\": [], \"all_files\": false, \"head\": null}</script>\n",
       "<script type=\"application/json\" data-html-dependency=\"\">{\"name\": \"strftime\", \"version\": \"0.9.2\", \"source\": {\"package\": \"shiny\", \"subdir\": \"www/shared/strftime/\"}, \"script\": [{\"src\": \"strftime-min.js\"}], \"stylesheet\": [], \"meta\": [], \"all_files\": false, \"head\": null}</script>"
      ],
      "text/plain": [
       "<div class=\"form-group shiny-input-container\">\n",
       "  <label class=\"control-label\" id=\"fps-label\" for=\"fps\">Animation frame rate (fps)</label><input class=\"js-range-slider\" id=\"fps\" data-skin=\"shiny\" data-min=\"10\" data-max=\"100\" data-from=\"60\" data-step=\"1\" data-grid=\"false\" data-grid-snap=\"false\" data-prettify-separator=\",\" data-prettify-enabled=\"true\" data-keyboard=\"true\" data-data-type=\"number\"/>\n",
       "</div><script type=\"application/json\" data-html-dependency=\"\">{\"name\": \"ionrangeslider\", \"version\": \"2.3.1\", \"source\": {\"package\": \"shiny\", \"subdir\": \"www/shared/ionrangeslider/\"}, \"script\": [{\"src\": \"js/ion.rangeSlider.min.js\"}], \"stylesheet\": [], \"meta\": [], \"all_files\": false, \"head\": null}</script>\n",
       "<script type=\"application/json\" data-html-dependency=\"\">{\"name\": \"preset-shiny-ionrangeslider\", \"version\": \"1.8.0.9000\", \"source\": {\"package\": \"shiny\", \"subdir\": \"www/shared/ionrangeslider/\"}, \"script\": [], \"stylesheet\": [{\"href\": \"css/ion.rangeSlider.css\", \"rel\": \"stylesheet\"}], \"meta\": [], \"all_files\": false, \"head\": null}</script>\n",
       "<script type=\"application/json\" data-html-dependency=\"\">{\"name\": \"strftime\", \"version\": \"0.9.2\", \"source\": {\"package\": \"shiny\", \"subdir\": \"www/shared/strftime/\"}, \"script\": [{\"src\": \"strftime-min.js\"}], \"stylesheet\": [], \"meta\": [], \"all_files\": false, \"head\": null}</script>"
      ]
     },
     "execution_count": 9,
     "metadata": {},
     "output_type": "execute_result"
    }
   ],
   "source": [
    "from shiny import ui\n",
    "\n",
    "ui.input_slider(\n",
    "    id=\"fps\",\n",
    "    label=\"Animation frame rate (fps)\",\n",
    "    min=10,\n",
    "    max=100,\n",
    "    value=60,\n",
    ")"
   ]
  },
  {
   "cell_type": "markdown",
   "id": "30ccb3d4",
   "metadata": {},
   "source": [
    "## Column {width=40%}\n",
    "\n",
    "### {.toolbar}\n"
   ]
  },
  {
   "cell_type": "code",
   "execution_count": 3,
   "id": "740029e7",
   "metadata": {},
   "outputs": [
    {
     "data": {
      "text/html": [
       "<div class=\"form-group shiny-input-container\">\n",
       "  <label class=\"control-label\" id=\"session-label\" for=\"session\">Session</label>\n",
       "  <div>\n",
       "    <select class=\"shiny-input-select\" id=\"session\">      <option value=\"2018-55-22 15:10\" selected=\"\">2018-55-22 15:10</option>\n",
       "      <option value=\"2018-11-22 16:10\">2018-11-22 16:10</option>\n",
       "      <option value=\"2018-39-22 16:10\">2018-39-22 16:10</option>\n",
       "      <option value=\"2018-14-23 15:10\">2018-14-23 15:10</option>\n",
       "      <option value=\"2018-14-23 16:10\">2018-14-23 16:10</option>\n",
       "      <option value=\"2018-01-24 16:10\">2018-01-24 16:10</option>\n",
       "      <option value=\"2018-48-26 16:10\">2018-48-26 16:10</option>\n",
       "      <option value=\"2018-21-09 15:11\">2018-21-09 15:11</option>\n",
       "      <option value=\"2018-19-12 16:11\">2018-19-12 16:11</option>\n",
       "      <option value=\"2018-25-12 16:11\">2018-25-12 16:11</option>\n",
       "      <option value=\"2018-31-12 16:11\">2018-31-12 16:11</option>\n",
       "      <option value=\"2018-01-13 15:11\">2018-01-13 15:11</option>\n",
       "      <option value=\"2018-35-14 15:11\">2018-35-14 15:11</option>\n",
       "      <option value=\"2018-09-14 16:11\">2018-09-14 16:11</option>\n",
       "      <option value=\"2018-32-15 15:11\">2018-32-15 15:11</option>\n",
       "      <option value=\"2018-34-15 15:11\">2018-34-15 15:11</option>\n",
       "      <option value=\"2018-35-16 15:11\">2018-35-16 15:11</option>\n",
       "      <option value=\"2018-44-16 16:11\">2018-44-16 16:11</option>\n",
       "      <option value=\"2018-11-16 17:11\">2018-11-16 17:11</option>\n",
       "      <option value=\"2018-46-19 15:11\">2018-46-19 15:11</option>\n",
       "      <option value=\"2018-39-19 16:11\">2018-39-19 16:11</option>\n",
       "      <option value=\"2018-46-19 16:11\">2018-46-19 16:11</option>\n",
       "      <option value=\"2018-28-20 15:11\">2018-28-20 15:11</option>\n",
       "      <option value=\"2018-48-20 16:11\">2018-48-20 16:11</option>\n",
       "      <option value=\"2018-32-21 15:11\">2018-32-21 15:11</option>\n",
       "      <option value=\"2018-50-21 15:11\">2018-50-21 15:11</option>\n",
       "      <option value=\"2018-10-21 16:11\">2018-10-21 16:11</option>\n",
       "      <option value=\"2018-30-21 16:11\">2018-30-21 16:11</option>\n",
       "      <option value=\"2018-52-03 12:12\">2018-52-03 12:12</option>\n",
       "      <option value=\"2018-15-03 13:12\">2018-15-03 13:12</option>\n",
       "      <option value=\"2018-06-05 13:12\">2018-06-05 13:12</option>\n",
       "      <option value=\"2018-21-07 09:12\">2018-21-07 09:12</option>\n",
       "      <option value=\"2018-10-07 10:12\">2018-10-07 10:12</option>\n",
       "      <option value=\"2018-15-07 11:12\">2018-15-07 11:12</option>\n",
       "      <option value=\"2018-54-13 10:12\">2018-54-13 10:12</option>\n",
       "      <option value=\"2018-02-13 11:12\">2018-02-13 11:12</option>\n",
       "      <option value=\"2018-44-13 11:12\">2018-44-13 11:12</option>\n",
       "      <option value=\"2018-57-13 12:12\">2018-57-13 12:12</option>\n",
       "      <option value=\"2018-36-18 13:12\">2018-36-18 13:12</option>\n",
       "      <option value=\"2018-02-19 11:12\">2018-02-19 11:12</option>\n",
       "      <option value=\"2018-31-19 11:12\">2018-31-19 11:12</option>\n",
       "      <option value=\"2018-30-19 15:12\">2018-30-19 15:12</option>\n",
       "      <option value=\"2018-27-19 16:12\">2018-27-19 16:12</option>\n",
       "      <option value=\"2018-24-19 17:12\">2018-24-19 17:12</option>\n",
       "      <option value=\"2018-56-20 14:12\">2018-56-20 14:12</option>\n",
       "      <option value=\"2018-29-20 15:12\">2018-29-20 15:12</option>\n",
       "      <option value=\"2018-55-20 15:12\">2018-55-20 15:12</option>\n",
       "      <option value=\"2018-57-20 16:12\">2018-57-20 16:12</option>\n",
       "      <option value=\"2018-56-21 14:12\">2018-56-21 14:12</option>\n",
       "      <option value=\"2018-34-21 16:12\">2018-34-21 16:12</option>\n",
       "      <option value=\"2019-44-14 14:01\">2019-44-14 14:01</option>\n",
       "      <option value=\"2019-21-14 16:01\">2019-21-14 16:01</option>\n",
       "      <option value=\"2019-28-15 14:01\">2019-28-15 14:01</option>\n",
       "      <option value=\"2019-16-15 16:01\">2019-16-15 16:01</option>\n",
       "      <option value=\"2019-29-16 14:01\">2019-29-16 14:01</option>\n",
       "      <option value=\"2019-54-17 14:01\">2019-54-17 14:01</option>\n",
       "      <option value=\"2019-21-17 16:01\">2019-21-17 16:01</option>\n",
       "      <option value=\"2019-22-18 14:01\">2019-22-18 14:01</option>\n",
       "      <option value=\"2019-58-18 15:01\">2019-58-18 15:01</option>\n",
       "      <option value=\"2019-41-22 14:01\">2019-41-22 14:01</option>\n",
       "      <option value=\"2019-10-22 15:01\">2019-10-22 15:01</option>\n",
       "      <option value=\"2019-01-22 16:01\">2019-01-22 16:01</option>\n",
       "      <option value=\"2019-19-22 16:01\">2019-19-22 16:01</option>\n",
       "      <option value=\"2019-31-23 14:01\">2019-31-23 14:01</option>\n",
       "      <option value=\"2019-38-23 15:01\">2019-38-23 15:01</option>\n",
       "      <option value=\"2019-39-23 15:01\">2019-39-23 15:01</option>\n",
       "      <option value=\"2019-06-24 15:01\">2019-06-24 15:01</option>\n",
       "      <option value=\"2019-42-29 14:01\">2019-42-29 14:01</option>\n",
       "      <option value=\"2019-02-29 16:01\">2019-02-29 16:01</option>\n",
       "      <option value=\"2019-59-30 14:01\">2019-59-30 14:01</option>\n",
       "      <option value=\"2019-38-30 16:01\">2019-38-30 16:01</option>\n",
       "      <option value=\"2019-31-31 14:01\">2019-31-31 14:01</option>\n",
       "      <option value=\"2019-11-31 16:01\">2019-11-31 16:01</option>\n",
       "      <option value=\"2019-03-01 15:02\">2019-03-01 15:02</option>\n",
       "      <option value=\"2019-08-01 16:02\">2019-08-01 16:02</option></select>\n",
       "    <script type=\"application/json\" data-for=\"session\" data-eval=\"[]\">{}</script>\n",
       "  </div>\n",
       "</div><script type=\"application/json\" data-html-dependency=\"\">{\"name\": \"selectize\", \"version\": \"0.12.6\", \"source\": {\"package\": \"shiny\", \"subdir\": \"www/shared/selectize/\"}, \"script\": [{\"src\": \"js/selectize.min.js\"}, {\"src\": \"accessibility/js/selectize-plugin-a11y.min.js\"}], \"stylesheet\": [{\"href\": \"css/selectize.min.css\", \"rel\": \"stylesheet\"}], \"meta\": [], \"all_files\": false, \"head\": null}</script>"
      ],
      "text/plain": [
       "<div class=\"form-group shiny-input-container\">\n",
       "  <label class=\"control-label\" id=\"session-label\" for=\"session\">Session</label>\n",
       "  <div>\n",
       "    <select class=\"shiny-input-select\" id=\"session\">      <option value=\"2018-55-22 15:10\" selected=\"\">2018-55-22 15:10</option>\n",
       "      <option value=\"2018-11-22 16:10\">2018-11-22 16:10</option>\n",
       "      <option value=\"2018-39-22 16:10\">2018-39-22 16:10</option>\n",
       "      <option value=\"2018-14-23 15:10\">2018-14-23 15:10</option>\n",
       "      <option value=\"2018-14-23 16:10\">2018-14-23 16:10</option>\n",
       "      <option value=\"2018-01-24 16:10\">2018-01-24 16:10</option>\n",
       "      <option value=\"2018-48-26 16:10\">2018-48-26 16:10</option>\n",
       "      <option value=\"2018-21-09 15:11\">2018-21-09 15:11</option>\n",
       "      <option value=\"2018-19-12 16:11\">2018-19-12 16:11</option>\n",
       "      <option value=\"2018-25-12 16:11\">2018-25-12 16:11</option>\n",
       "      <option value=\"2018-31-12 16:11\">2018-31-12 16:11</option>\n",
       "      <option value=\"2018-01-13 15:11\">2018-01-13 15:11</option>\n",
       "      <option value=\"2018-35-14 15:11\">2018-35-14 15:11</option>\n",
       "      <option value=\"2018-09-14 16:11\">2018-09-14 16:11</option>\n",
       "      <option value=\"2018-32-15 15:11\">2018-32-15 15:11</option>\n",
       "      <option value=\"2018-34-15 15:11\">2018-34-15 15:11</option>\n",
       "      <option value=\"2018-35-16 15:11\">2018-35-16 15:11</option>\n",
       "      <option value=\"2018-44-16 16:11\">2018-44-16 16:11</option>\n",
       "      <option value=\"2018-11-16 17:11\">2018-11-16 17:11</option>\n",
       "      <option value=\"2018-46-19 15:11\">2018-46-19 15:11</option>\n",
       "      <option value=\"2018-39-19 16:11\">2018-39-19 16:11</option>\n",
       "      <option value=\"2018-46-19 16:11\">2018-46-19 16:11</option>\n",
       "      <option value=\"2018-28-20 15:11\">2018-28-20 15:11</option>\n",
       "      <option value=\"2018-48-20 16:11\">2018-48-20 16:11</option>\n",
       "      <option value=\"2018-32-21 15:11\">2018-32-21 15:11</option>\n",
       "      <option value=\"2018-50-21 15:11\">2018-50-21 15:11</option>\n",
       "      <option value=\"2018-10-21 16:11\">2018-10-21 16:11</option>\n",
       "      <option value=\"2018-30-21 16:11\">2018-30-21 16:11</option>\n",
       "      <option value=\"2018-52-03 12:12\">2018-52-03 12:12</option>\n",
       "      <option value=\"2018-15-03 13:12\">2018-15-03 13:12</option>\n",
       "      <option value=\"2018-06-05 13:12\">2018-06-05 13:12</option>\n",
       "      <option value=\"2018-21-07 09:12\">2018-21-07 09:12</option>\n",
       "      <option value=\"2018-10-07 10:12\">2018-10-07 10:12</option>\n",
       "      <option value=\"2018-15-07 11:12\">2018-15-07 11:12</option>\n",
       "      <option value=\"2018-54-13 10:12\">2018-54-13 10:12</option>\n",
       "      <option value=\"2018-02-13 11:12\">2018-02-13 11:12</option>\n",
       "      <option value=\"2018-44-13 11:12\">2018-44-13 11:12</option>\n",
       "      <option value=\"2018-57-13 12:12\">2018-57-13 12:12</option>\n",
       "      <option value=\"2018-36-18 13:12\">2018-36-18 13:12</option>\n",
       "      <option value=\"2018-02-19 11:12\">2018-02-19 11:12</option>\n",
       "      <option value=\"2018-31-19 11:12\">2018-31-19 11:12</option>\n",
       "      <option value=\"2018-30-19 15:12\">2018-30-19 15:12</option>\n",
       "      <option value=\"2018-27-19 16:12\">2018-27-19 16:12</option>\n",
       "      <option value=\"2018-24-19 17:12\">2018-24-19 17:12</option>\n",
       "      <option value=\"2018-56-20 14:12\">2018-56-20 14:12</option>\n",
       "      <option value=\"2018-29-20 15:12\">2018-29-20 15:12</option>\n",
       "      <option value=\"2018-55-20 15:12\">2018-55-20 15:12</option>\n",
       "      <option value=\"2018-57-20 16:12\">2018-57-20 16:12</option>\n",
       "      <option value=\"2018-56-21 14:12\">2018-56-21 14:12</option>\n",
       "      <option value=\"2018-34-21 16:12\">2018-34-21 16:12</option>\n",
       "      <option value=\"2019-44-14 14:01\">2019-44-14 14:01</option>\n",
       "      <option value=\"2019-21-14 16:01\">2019-21-14 16:01</option>\n",
       "      <option value=\"2019-28-15 14:01\">2019-28-15 14:01</option>\n",
       "      <option value=\"2019-16-15 16:01\">2019-16-15 16:01</option>\n",
       "      <option value=\"2019-29-16 14:01\">2019-29-16 14:01</option>\n",
       "      <option value=\"2019-54-17 14:01\">2019-54-17 14:01</option>\n",
       "      <option value=\"2019-21-17 16:01\">2019-21-17 16:01</option>\n",
       "      <option value=\"2019-22-18 14:01\">2019-22-18 14:01</option>\n",
       "      <option value=\"2019-58-18 15:01\">2019-58-18 15:01</option>\n",
       "      <option value=\"2019-41-22 14:01\">2019-41-22 14:01</option>\n",
       "      <option value=\"2019-10-22 15:01\">2019-10-22 15:01</option>\n",
       "      <option value=\"2019-01-22 16:01\">2019-01-22 16:01</option>\n",
       "      <option value=\"2019-19-22 16:01\">2019-19-22 16:01</option>\n",
       "      <option value=\"2019-31-23 14:01\">2019-31-23 14:01</option>\n",
       "      <option value=\"2019-38-23 15:01\">2019-38-23 15:01</option>\n",
       "      <option value=\"2019-39-23 15:01\">2019-39-23 15:01</option>\n",
       "      <option value=\"2019-06-24 15:01\">2019-06-24 15:01</option>\n",
       "      <option value=\"2019-42-29 14:01\">2019-42-29 14:01</option>\n",
       "      <option value=\"2019-02-29 16:01\">2019-02-29 16:01</option>\n",
       "      <option value=\"2019-59-30 14:01\">2019-59-30 14:01</option>\n",
       "      <option value=\"2019-38-30 16:01\">2019-38-30 16:01</option>\n",
       "      <option value=\"2019-31-31 14:01\">2019-31-31 14:01</option>\n",
       "      <option value=\"2019-11-31 16:01\">2019-11-31 16:01</option>\n",
       "      <option value=\"2019-03-01 15:02\">2019-03-01 15:02</option>\n",
       "      <option value=\"2019-08-01 16:02\">2019-08-01 16:02</option></select>\n",
       "    <script type=\"application/json\" data-for=\"session\" data-eval=\"[]\">{}</script>\n",
       "  </div>\n",
       "</div><script type=\"application/json\" data-html-dependency=\"\">{\"name\": \"selectize\", \"version\": \"0.12.6\", \"source\": {\"package\": \"shiny\", \"subdir\": \"www/shared/selectize/\"}, \"script\": [{\"src\": \"js/selectize.min.js\"}, {\"src\": \"accessibility/js/selectize-plugin-a11y.min.js\"}], \"stylesheet\": [{\"href\": \"css/selectize.min.css\", \"rel\": \"stylesheet\"}], \"meta\": [], \"all_files\": false, \"head\": null}</script>"
      ]
     },
     "execution_count": 10,
     "metadata": {},
     "output_type": "execute_result"
    }
   ],
   "source": [
    "start_times = sessions.get_column(\"session start\")\n",
    "\n",
    "ui.input_selectize(\n",
    "    id=\"session\",\n",
    "    label=\"Session\",\n",
    "    choices=[start.strftime(\"%Y-%M-%d %H:%m\") for start in start_times],\n",
    "    selected=start_times[0].strftime(\"%Y-%M-%d %H:%m\"),\n",
    ")  \n",
    "\n",
    "trial_numbers = trials.collect().get_column(\"trialnumber\").to_list()"
   ]
  },
  {
   "cell_type": "markdown",
   "id": "b3b5eb11",
   "metadata": {},
   "source": [
    "### Row\n"
   ]
  },
  {
   "cell_type": "code",
   "execution_count": 4,
   "id": "5ec1e644",
   "metadata": {},
   "outputs": [
    {
     "data": {
      "text/html": [
       "<div id=\"sessions_table\" class=\"shiny-ipywidget-output shiny-report-size shiny-report-theme html-fill-item html-fill-container\"></div><script type=\"application/json\" data-html-dependency=\"\">{\"name\": \"ipywidget-libembed-amd\", \"version\": \"1.0.1\", \"source\": {\"package\": \"shinywidgets\", \"subdir\": \"static\"}, \"script\": [{\"src\": \"libembed-amd.js\"}], \"stylesheet\": [], \"meta\": [], \"all_files\": false, \"head\": null}</script>\n",
       "<script type=\"application/json\" data-html-dependency=\"\">{\"name\": \"ipywidget-output-binding\", \"version\": \"0.3.1\", \"source\": {\"package\": \"shinywidgets\", \"subdir\": \"static\"}, \"script\": [{\"src\": \"output.js\"}], \"stylesheet\": [{\"href\": \"shinywidgets.css\", \"rel\": \"stylesheet\"}], \"meta\": [], \"all_files\": false, \"head\": null}</script>\n",
       "<script type=\"application/json\" data-html-dependency=\"\">{\"name\": \"headcontent_64c93189711f8969640e7b8f06f689fadea80c2e\", \"version\": \"0.0\", \"source\": null, \"script\": [], \"stylesheet\": [], \"meta\": [], \"all_files\": false, \"head\": \"<script data-jupyter-widgets-cdn=\\\"https://cdn.jsdelivr.net/npm/\\\"><\\/script>\"}</script>\n",
       "<script type=\"application/json\" data-html-dependency=\"\">{\"name\": \"htmltools-fill\", \"version\": \"0.5.7\", \"source\": {\"package\": \"shiny\", \"subdir\": \"www/shared/htmltools/fill\"}, \"script\": [], \"stylesheet\": [{\"href\": \"fill.css\", \"rel\": \"stylesheet\"}], \"meta\": [], \"all_files\": false, \"head\": null}</script>"
      ],
      "text/plain": [
       "<IPython.core.display.HTML object>"
      ]
     },
     "metadata": {},
     "output_type": "display_data"
    }
   ],
   "source": [
    "from shinywidgets import output_widget\n",
    "\n",
    "trials_per_day = sessions.group_by_dynamic(\"session start\", every=\"1d\").agg(pl.sum(\"n trials\"))\n",
    "\n",
    "\n",
    "@render_widget\n",
    "def sessions_table():\n",
    "    return px.scatter(\n",
    "        trials_per_day,\n",
    "        x=\"session start\",\n",
    "        y=\"n trials\",\n",
    "        template=\"plotly_white\",\n",
    "    )"
   ]
  },
  {
   "cell_type": "markdown",
   "id": "4a556ef4",
   "metadata": {},
   "source": [
    "### Row\n"
   ]
  },
  {
   "cell_type": "code",
   "execution_count": 5,
   "id": "481499ef",
   "metadata": {},
   "outputs": [
    {
     "data": {
      "text/html": [
       "<div id=\"trials_table\" class=\"shiny-ipywidget-output shiny-report-size shiny-report-theme html-fill-item html-fill-container\"></div><script type=\"application/json\" data-html-dependency=\"\">{\"name\": \"ipywidget-libembed-amd\", \"version\": \"1.0.1\", \"source\": {\"package\": \"shinywidgets\", \"subdir\": \"static\"}, \"script\": [{\"src\": \"libembed-amd.js\"}], \"stylesheet\": [], \"meta\": [], \"all_files\": false, \"head\": null}</script>\n",
       "<script type=\"application/json\" data-html-dependency=\"\">{\"name\": \"ipywidget-output-binding\", \"version\": \"0.3.1\", \"source\": {\"package\": \"shinywidgets\", \"subdir\": \"static\"}, \"script\": [{\"src\": \"output.js\"}], \"stylesheet\": [{\"href\": \"shinywidgets.css\", \"rel\": \"stylesheet\"}], \"meta\": [], \"all_files\": false, \"head\": null}</script>\n",
       "<script type=\"application/json\" data-html-dependency=\"\">{\"name\": \"headcontent_64c93189711f8969640e7b8f06f689fadea80c2e\", \"version\": \"0.0\", \"source\": null, \"script\": [], \"stylesheet\": [], \"meta\": [], \"all_files\": false, \"head\": \"<script data-jupyter-widgets-cdn=\\\"https://cdn.jsdelivr.net/npm/\\\"><\\/script>\"}</script>\n",
       "<script type=\"application/json\" data-html-dependency=\"\">{\"name\": \"htmltools-fill\", \"version\": \"0.5.7\", \"source\": {\"package\": \"shiny\", \"subdir\": \"www/shared/htmltools/fill\"}, \"script\": [], \"stylesheet\": [{\"href\": \"fill.css\", \"rel\": \"stylesheet\"}], \"meta\": [], \"all_files\": false, \"head\": null}</script>"
      ],
      "text/plain": [
       "<IPython.core.display.HTML object>"
      ]
     },
     "metadata": {},
     "output_type": "display_data"
    }
   ],
   "source": [
    "@render_widget\n",
    "def trials_table():\n",
    "    return px.bar(\n",
    "        trials.group_by(\"fractals\").agg(pl.count(\"trialnumber\")).collect(),\n",
    "        x=\"fractals\",\n",
    "        y=\"trialnumber\",\n",
    "        template=\"plotly_white\",\n",
    "    )\n"
   ]
  },
  {
   "cell_type": "markdown",
   "id": "12e43823",
   "metadata": {},
   "source": [
    "## Column\n",
    "\n",
    "### {.toolbar}\n"
   ]
  },
  {
   "cell_type": "code",
   "execution_count": 6,
   "id": "6b2b55bf",
   "metadata": {},
   "outputs": [
    {
     "data": {
      "text/html": [
       "<div class=\"form-group shiny-input-container\">\n",
       "  <label class=\"control-label\" id=\"trial-label\" for=\"trial\">Trial</label>\n",
       "  <div>\n",
       "    <select class=\"shiny-input-select\" id=\"trial\">      <option value=\"1\" selected=\"\">1</option>\n",
       "      <option value=\"2\">2</option>\n",
       "      <option value=\"3\">3</option>\n",
       "      <option value=\"4\">4</option>\n",
       "      <option value=\"5\">5</option>\n",
       "      <option value=\"6\">6</option>\n",
       "      <option value=\"7\">7</option>\n",
       "      <option value=\"8\">8</option>\n",
       "      <option value=\"9\">9</option>\n",
       "      <option value=\"10\">10</option>\n",
       "      <option value=\"11\">11</option>\n",
       "      <option value=\"12\">12</option>\n",
       "      <option value=\"13\">13</option>\n",
       "      <option value=\"14\">14</option>\n",
       "      <option value=\"15\">15</option>\n",
       "      <option value=\"16\">16</option>\n",
       "      <option value=\"17\">17</option>\n",
       "      <option value=\"18\">18</option>\n",
       "      <option value=\"19\">19</option>\n",
       "      <option value=\"20\">20</option>\n",
       "      <option value=\"21\">21</option>\n",
       "      <option value=\"22\">22</option></select>\n",
       "    <script type=\"application/json\" data-for=\"trial\" data-eval=\"[]\">{}</script>\n",
       "  </div>\n",
       "</div><script type=\"application/json\" data-html-dependency=\"\">{\"name\": \"selectize\", \"version\": \"0.12.6\", \"source\": {\"package\": \"shiny\", \"subdir\": \"www/shared/selectize/\"}, \"script\": [{\"src\": \"js/selectize.min.js\"}, {\"src\": \"accessibility/js/selectize-plugin-a11y.min.js\"}], \"stylesheet\": [{\"href\": \"css/selectize.min.css\", \"rel\": \"stylesheet\"}], \"meta\": [], \"all_files\": false, \"head\": null}</script>"
      ],
      "text/plain": [
       "<div class=\"form-group shiny-input-container\">\n",
       "  <label class=\"control-label\" id=\"trial-label\" for=\"trial\">Trial</label>\n",
       "  <div>\n",
       "    <select class=\"shiny-input-select\" id=\"trial\">      <option value=\"1\" selected=\"\">1</option>\n",
       "      <option value=\"2\">2</option>\n",
       "      <option value=\"3\">3</option>\n",
       "      <option value=\"4\">4</option>\n",
       "      <option value=\"5\">5</option>\n",
       "      <option value=\"6\">6</option>\n",
       "      <option value=\"7\">7</option>\n",
       "      <option value=\"8\">8</option>\n",
       "      <option value=\"9\">9</option>\n",
       "      <option value=\"10\">10</option>\n",
       "      <option value=\"11\">11</option>\n",
       "      <option value=\"12\">12</option>\n",
       "      <option value=\"13\">13</option>\n",
       "      <option value=\"14\">14</option>\n",
       "      <option value=\"15\">15</option>\n",
       "      <option value=\"16\">16</option>\n",
       "      <option value=\"17\">17</option>\n",
       "      <option value=\"18\">18</option>\n",
       "      <option value=\"19\">19</option>\n",
       "      <option value=\"20\">20</option>\n",
       "      <option value=\"21\">21</option>\n",
       "      <option value=\"22\">22</option></select>\n",
       "    <script type=\"application/json\" data-for=\"trial\" data-eval=\"[]\">{}</script>\n",
       "  </div>\n",
       "</div><script type=\"application/json\" data-html-dependency=\"\">{\"name\": \"selectize\", \"version\": \"0.12.6\", \"source\": {\"package\": \"shiny\", \"subdir\": \"www/shared/selectize/\"}, \"script\": [{\"src\": \"js/selectize.min.js\"}, {\"src\": \"accessibility/js/selectize-plugin-a11y.min.js\"}], \"stylesheet\": [{\"href\": \"css/selectize.min.css\", \"rel\": \"stylesheet\"}], \"meta\": [], \"all_files\": false, \"head\": null}</script>"
      ]
     },
     "execution_count": 13,
     "metadata": {},
     "output_type": "execute_result"
    }
   ],
   "source": [
    "ui.input_selectize(\n",
    "    id=\"trial\",\n",
    "    label=\"Trial\",\n",
    "    choices=trial_numbers,\n",
    "    selected=trial_numbers[0],\n",
    ")  "
   ]
  },
  {
   "cell_type": "markdown",
   "id": "d14921ee",
   "metadata": {},
   "source": [
    "### Row\n"
   ]
  },
  {
   "cell_type": "code",
   "execution_count": 7,
   "id": "791ee004",
   "metadata": {},
   "outputs": [
    {
     "data": {
      "text/html": [
       "<div class=\"shiny-html-output\" id=\"animation\"></div>"
      ],
      "text/plain": [
       "<IPython.core.display.HTML object>"
      ]
     },
     "metadata": {},
     "output_type": "display_data"
    }
   ],
   "source": [
    "from shiny import ui\n",
    "\n",
    "import vns\n",
    "\n",
    "@render.ui\n",
    "def animation():\n",
    "    return ui.HTML(\n",
    "        vns.trials.Trial(\n",
    "            path = \"data/BFINAC_VNS/BFnovelinac_01_02_2019_15_03/1.parquet\"\n",
    "        )\n",
    "        .animate().to_jshtml(fps=input.fps())\n",
    "    )"
   ]
  }
 ],
 "metadata": {
  "kernelspec": {
   "display_name": "Python 3 (ipykernel)",
   "language": "python",
   "name": "python3"
  }
 },
 "nbformat": 4,
 "nbformat_minor": 5
}

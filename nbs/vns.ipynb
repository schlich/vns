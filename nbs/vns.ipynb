{
  "cells": [
    {
      "cell_type": "raw",
      "metadata": {},
      "source": [
        "---\n",
        "title: \"Worldwide Development\"\n",
        "author: \"Gapminder Analytics\"\n",
        "format: dashboard\n",
        "---"
      ],
      "id": "60b821c0"
    },
    {
      "cell_type": "code",
      "metadata": {},
      "source": [
        "import plotly.express as px\n",
        "df = px.data.gapminder()\n",
        "df = df[df['continent'] != 'Oceania']"
      ],
      "id": "35ac29c4",
      "execution_count": null,
      "outputs": []
    },
    {
      "cell_type": "markdown",
      "metadata": {},
      "source": [
        "# Indicators\n",
        "\n",
        "## Row {height=60%}\n"
      ],
      "id": "96443a58"
    },
    {
      "cell_type": "code",
      "metadata": {
        "title": "GDP and Life Expectancy"
      },
      "source": [
        "px.scatter(\n",
        "  df, x=\"gdpPercap\", y=\"lifeExp\", \n",
        "  animation_frame=\"year\", animation_group=\"country\",\n",
        "  size=\"pop\", color=\"continent\", hover_name=\"country\", \n",
        "  facet_col=\"continent\", log_x=True, size_max=45, \n",
        "  range_x=[100,100000], range_y=[25,90]\n",
        ")"
      ],
      "id": "4d0dda2a",
      "execution_count": null,
      "outputs": []
    },
    {
      "cell_type": "markdown",
      "metadata": {},
      "source": [
        "## Row {height=40%}\n"
      ],
      "id": "97ac494f"
    },
    {
      "cell_type": "code",
      "metadata": {
        "title": "Population"
      },
      "source": [
        "px.area(df, x=\"year\", y=\"pop\", color=\"continent\", line_group=\"country\")"
      ],
      "id": "6aa49277",
      "execution_count": null,
      "outputs": []
    },
    {
      "cell_type": "code",
      "metadata": {
        "title": "Life Expectancy"
      },
      "source": [
        "px.line(df, x=\"year\", y=\"lifeExp\", color=\"continent\", line_group=\"country\")"
      ],
      "id": "821e73b4",
      "execution_count": null,
      "outputs": []
    },
    {
      "cell_type": "markdown",
      "metadata": {},
      "source": [
        "# Data\n",
        "\n",
        "![](gapminder.png) Learn more about the Gapminder dataset at <https://www.gapminder.org/data/documentation/>\n"
      ],
      "id": "e0a4a904"
    },
    {
      "cell_type": "code",
      "metadata": {},
      "source": [
        "from itables import show\n",
        "show(df, showIndex = False)"
      ],
      "id": "d53c08dc",
      "execution_count": null,
      "outputs": []
    }
  ],
  "metadata": {
    "kernelspec": {
      "name": "python3",
      "language": "python",
      "display_name": "Python 3 (ipykernel)"
    }
  },
  "nbformat": 4,
  "nbformat_minor": 5
}